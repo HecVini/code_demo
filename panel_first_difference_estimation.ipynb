{
 "cells": [
  {
   "cell_type": "markdown",
   "metadata": {},
   "source": [
    "# 1. Setup"
   ]
  },
  {
   "cell_type": "markdown",
   "metadata": {},
   "source": [
    "## 1.1 Load Libraries"
   ]
  },
  {
   "cell_type": "code",
   "execution_count": 1,
   "metadata": {
    "vscode": {
     "languageId": "r"
    }
   },
   "outputs": [
    {
     "name": "stdout",
     "output_type": "stream",
     "text": [
      "\n",
      "Os pacotes bin'arios baixados est~ao em\n",
      "\t/var/folders/ln/zzm22ch17c7522fvnzbc0d4c0000gn/T//RtmpujQhr1/downloaded_packages\n"
     ]
    }
   ],
   "source": [
    "install.packages(\"webshot2\")"
   ]
  },
  {
   "cell_type": "code",
   "execution_count": 2,
   "metadata": {
    "vscode": {
     "languageId": "r"
    }
   },
   "outputs": [
    {
     "name": "stderr",
     "output_type": "stream",
     "text": [
      "-- \u001b[1mAttaching core tidyverse packages\u001b[22m ------------------------ tidyverse 2.0.0 --\n",
      "\u001b[32mv\u001b[39m \u001b[34mdplyr    \u001b[39m 1.1.4     \u001b[32mv\u001b[39m \u001b[34mreadr    \u001b[39m 2.1.5\n",
      "\u001b[32mv\u001b[39m \u001b[34mforcats  \u001b[39m 1.0.0     \u001b[32mv\u001b[39m \u001b[34mstringr  \u001b[39m 1.5.1\n",
      "\u001b[32mv\u001b[39m \u001b[34mggplot2  \u001b[39m 3.5.1     \u001b[32mv\u001b[39m \u001b[34mtibble   \u001b[39m 3.2.1\n",
      "\u001b[32mv\u001b[39m \u001b[34mlubridate\u001b[39m 1.9.3     \u001b[32mv\u001b[39m \u001b[34mtidyr    \u001b[39m 1.3.1\n",
      "\u001b[32mv\u001b[39m \u001b[34mpurrr    \u001b[39m 1.0.2     \n",
      "-- \u001b[1mConflicts\u001b[22m ------------------------------------------ tidyverse_conflicts() --\n",
      "\u001b[31mx\u001b[39m \u001b[34mdplyr\u001b[39m::\u001b[32mfilter()\u001b[39m masks \u001b[34mstats\u001b[39m::filter()\n",
      "\u001b[31mx\u001b[39m \u001b[34mdplyr\u001b[39m::\u001b[32mlag()\u001b[39m    masks \u001b[34mstats\u001b[39m::lag()\n",
      "\u001b[36mi\u001b[39m Use the conflicted package (\u001b[3m\u001b[34m<http://conflicted.r-lib.org/>\u001b[39m\u001b[23m) to force all conflicts to become errors\n",
      "\n",
      "Anexando pacote: 'tidylog'\n",
      "\n",
      "\n",
      "Os seguintes objetos s~ao mascarados por 'package:dplyr':\n",
      "\n",
      "    add_count, add_tally, anti_join, count, distinct, distinct_all,\n",
      "    distinct_at, distinct_if, filter, filter_all, filter_at, filter_if,\n",
      "    full_join, group_by, group_by_all, group_by_at, group_by_if,\n",
      "    inner_join, left_join, mutate, mutate_all, mutate_at, mutate_if,\n",
      "    relocate, rename, rename_all, rename_at, rename_if, rename_with,\n",
      "    right_join, sample_frac, sample_n, select, select_all, select_at,\n",
      "    select_if, semi_join, slice, slice_head, slice_max, slice_min,\n",
      "    slice_sample, slice_tail, summarise, summarise_all, summarise_at,\n",
      "    summarise_if, summarize, summarize_all, summarize_at, summarize_if,\n",
      "    tally, top_frac, top_n, transmute, transmute_all, transmute_at,\n",
      "    transmute_if, ungroup\n",
      "\n",
      "\n",
      "Os seguintes objetos s~ao mascarados por 'package:tidyr':\n",
      "\n",
      "    drop_na, fill, gather, pivot_longer, pivot_wider, replace_na,\n",
      "    separate_wider_delim, separate_wider_position,\n",
      "    separate_wider_regex, spread, uncount\n",
      "\n",
      "\n",
      "O seguinte objeto 'e mascarado por 'package:stats':\n",
      "\n",
      "    filter\n",
      "\n",
      "\n",
      "\n",
      "Anexando pacote: 'plm'\n",
      "\n",
      "\n",
      "Os seguintes objetos s~ao mascarados por 'package:dplyr':\n",
      "\n",
      "    between, lag, lead\n",
      "\n",
      "\n",
      "Carregando pacotes exigidos: zoo\n",
      "\n",
      "\n",
      "Anexando pacote: 'zoo'\n",
      "\n",
      "\n",
      "Os seguintes objetos s~ao mascarados por 'package:base':\n",
      "\n",
      "    as.Date, as.Date.numeric\n",
      "\n",
      "\n",
      "\n",
      "Please cite as: \n",
      "\n",
      "\n",
      " Hlavac, Marek (2022). stargazer: Well-Formatted Regression and Summary Statistics Tables.\n",
      "\n",
      " R package version 5.2.3. https://CRAN.R-project.org/package=stargazer \n",
      "\n",
      "\n",
      "Warning message:\n",
      "\"pacote 'jtools' foi compilado no R vers~ao 4.4.1\"\n",
      "Registered S3 method overwritten by 'clubSandwich':\n",
      "  method    from    \n",
      "  bread.mlm sandwich\n",
      "\n",
      "Warning message:\n",
      "\"pacote 'etwfe' foi compilado no R vers~ao 4.4.1\"\n",
      "Warning message:\n",
      "\"pacote 'gt' foi compilado no R vers~ao 4.4.1\"\n",
      "Warning message:\n",
      "\"pacote 'lfe' foi compilado no R vers~ao 4.4.1\"\n",
      "Carregando pacotes exigidos: Matrix\n",
      "\n",
      "\n",
      "Anexando pacote: 'Matrix'\n",
      "\n",
      "\n",
      "Os seguintes objetos s~ao mascarados por 'package:tidyr':\n",
      "\n",
      "    expand, pack, unpack\n",
      "\n",
      "\n",
      "\n",
      "Anexando pacote: 'lfe'\n",
      "\n",
      "\n",
      "O seguinte objeto 'e mascarado por 'package:fixest':\n",
      "\n",
      "    fepois\n",
      "\n",
      "\n",
      "O seguinte objeto 'e mascarado por 'package:lmtest':\n",
      "\n",
      "    waldtest\n",
      "\n",
      "\n",
      "O seguinte objeto 'e mascarado por 'package:plm':\n",
      "\n",
      "    sargan\n",
      "\n",
      "\n",
      "Warning message:\n",
      "\"pacote 'modelsummary' foi compilado no R vers~ao 4.4.1\"\n",
      "`modelsummary` 2.0.0 now uses `tinytable` as its default table-drawing\n",
      "  backend. Learn more at: https://vincentarelbundock.github.io/tinytable/\n",
      "\n",
      "Revert to `kableExtra` for one session:\n",
      "\n",
      "  options(modelsummary_factory_default = 'kableExtra')\n",
      "  options(modelsummary_factory_latex = 'kableExtra')\n",
      "  options(modelsummary_factory_html = 'kableExtra')\n",
      "\n",
      "Silence this message forever:\n",
      "\n",
      "  config_modelsummary(startup_message = FALSE)\n",
      "\n",
      "\n",
      "Anexando pacote: 'kableExtra'\n",
      "\n",
      "\n",
      "O seguinte objeto 'e mascarado por 'package:dplyr':\n",
      "\n",
      "    group_rows\n",
      "\n",
      "\n"
     ]
    }
   ],
   "source": [
    "library(tidyverse) # Includes ggplot2, dplyr, tidyr, readr, purrr, tibble, stringr, forcats\n",
    "library(tidylog) # For better logging\n",
    "library(plm) # For panel data analysis\n",
    "library(sandwich) # For robust standard errors\n",
    "library(lmtest) # For robust standard errors\n",
    "library(stargazer) # For regression tables\n",
    "library(jtools) # Load jtools\n",
    "library(clubSandwich) # To clusterize SEs\n",
    "library(fixest) # To estiamate clustered robust SEs\n",
    "library(multiwayvcov) # To estimate the vcov on TWFE\n",
    "library(etwfe) # To estimate a TWFE\n",
    "library(gt) # To make tables\n",
    "library(styler) # To stylize code\n",
    "library(lfe) # alternative to plm\n",
    "library(modelsummary) # To make beautiful results tables\n",
    "library(kableExtra)\n",
    "library(webshot2)\n",
    "library(gt)"
   ]
  },
  {
   "cell_type": "markdown",
   "metadata": {},
   "source": [
    "## 1.2 Set wd()"
   ]
  },
  {
   "cell_type": "code",
   "execution_count": 3,
   "metadata": {
    "vscode": {
     "languageId": "r"
    }
   },
   "outputs": [],
   "source": [
    "desired_path <- \"/Users/vhpf/Library/CloudStorage/OneDrive-Personal/Mestrado/pantanal_project\" # Change to the folder of your project\n",
    "setwd(desired_path)"
   ]
  },
  {
   "cell_type": "markdown",
   "metadata": {},
   "source": [
    "## 1.3 Other Adjustments"
   ]
  },
  {
   "cell_type": "code",
   "execution_count": 4,
   "metadata": {
    "vscode": {
     "languageId": "r"
    }
   },
   "outputs": [
    {
     "name": "stderr",
     "output_type": "stream",
     "text": [
      "Warning message:\n",
      "\"'memory.limit()' is Windows-specific\"\n"
     ]
    },
    {
     "data": {
      "text/html": [
       "Inf"
      ],
      "text/latex": [
       "Inf"
      ],
      "text/markdown": [
       "Inf"
      ],
      "text/plain": [
       "[1] Inf"
      ]
     },
     "metadata": {},
     "output_type": "display_data"
    }
   ],
   "source": [
    "Sys.setenv(LANG = \"en_US.UTF-8\") #Set language to English\n",
    "options(scipen = 999) # Get rid of scientific notation\n",
    "memory.limit(size = 32000) # Increase the memory limit to 32 GB"
   ]
  },
  {
   "cell_type": "markdown",
   "metadata": {},
   "source": [
    "## 1.4 Function to Summarize the Results"
   ]
  },
  {
   "cell_type": "code",
   "execution_count": 5,
   "metadata": {
    "vscode": {
     "languageId": "r"
    }
   },
   "outputs": [],
   "source": [
    "# Function to test for significance, compute confidence intervals, and summarize results\n",
    "summarize_model_results <- function(model, vcov) {\n",
    "    # Step 3: Test for significance\n",
    "    results <- coeftest(model, vcov = vcov)\n",
    "    \n",
    "    # Step 4: 95% confidence interval\n",
    "    conf_intervals <- confint(model, vcov. = vcov)\n",
    "    \n",
    "    # Step 5: Results\n",
    "    results_df <- tidy(results)\n",
    "    summary_table <- results_df %>%\n",
    "        mutate_if(is.numeric, round, 4) %>% \n",
    "        mutate(\n",
    "            ci95_lower = conf_intervals[, 1],\n",
    "            ci95_upper = conf_intervals[, 2],\n",
    "            significance = case_when(\n",
    "                p.value < 0.001 ~ \"***\",\n",
    "                p.value < 0.01 ~ \"**\",\n",
    "                p.value < 0.05 ~ \"*\",\n",
    "                p.value < 0.1 ~ \".\",\n",
    "                TRUE ~ \"No\"\n",
    "            )\n",
    "        )\n",
    "\n",
    "    # Step 6: Drop the factor(year) rows\n",
    "    summary_table <- summary_table %>%\n",
    "        filter(!term %in% paste0(\"factor(year)\", c(1986, 2023)))\n",
    "\n",
    "    # Display the updated summary table\n",
    "    return(summary_table)\n",
    "}"
   ]
  },
  {
   "cell_type": "markdown",
   "metadata": {},
   "source": [
    "## 1.5 Function to Generically Estimate the FD Model"
   ]
  },
  {
   "cell_type": "code",
   "execution_count": 6,
   "metadata": {
    "vscode": {
     "languageId": "r"
    }
   },
   "outputs": [],
   "source": [
    "get_summary_table <- function(y, x, dataset, cluster) {\n",
    "    # Combine the items in x into a single formula string\n",
    "    x_formula <- paste(x, collapse = \" + \")\n",
    "    \n",
    "    # Create the formula string\n",
    "    formula_str <- paste(y, \"~\", x_formula, \"+ factor(year)\")\n",
    "    formula <- as.formula(formula_str)\n",
    "    \n",
    "    # 1. Estimate the FE model\n",
    "    model <- plm(\n",
    "        formula = formula, # Regress water on upstream area and dummy for year\n",
    "        data = dataset, # Dataset used\n",
    "        index = c(\"wts_cd_pfafstetterbasin\", \"year\"), # i = wts_cd_pfafstetterbasin, t = year\n",
    "        model = \"fd\" # FD model\n",
    "    )\n",
    "\n",
    "    # 2. Estimate the vcov matrix\n",
    "    vcov <- plm::vcovHC(\n",
    "        model, \n",
    "        method = \"arellano\", # use Arellano (1987) - errors have heteroskedasticity and serial (cross–sectional) correlation\n",
    "        type = \"HC1\", # Use HC1 estimator to adjust for this\n",
    "        cluster = \"group\", # Within group correlation\n",
    "        group = dataset[[cluster]] # analogous to Stata's cluster(clusterid)\n",
    "    )\n",
    "\n",
    "    summary_table <- summarize_model_results(model, vcov) # Get the CIs and make the results table\n",
    "    return(summary_table)\n",
    "}"
   ]
  },
  {
   "cell_type": "markdown",
   "metadata": {},
   "source": [
    "## 1.6 Function that Returns the Estimate and the Vcov of the Model"
   ]
  },
  {
   "cell_type": "code",
   "execution_count": 7,
   "metadata": {
    "vscode": {
     "languageId": "r"
    }
   },
   "outputs": [],
   "source": [
    "fd_model <- function(y, x, dataset, cluster) {\n",
    "    # Combine the items in x into a single formula string\n",
    "    x_formula <- paste(x, collapse = \" + \")\n",
    "    \n",
    "    # Create the formula string\n",
    "    formula_str <- paste(y, \"~\", x_formula, \"+ factor(year)\")\n",
    "    formula <- as.formula(formula_str)\n",
    "    \n",
    "    # 1. Estimate the FE model\n",
    "    model <- plm(\n",
    "        formula = formula, # Regress water on upstream area and dummy for year\n",
    "        data = dataset, # Dataset used\n",
    "        index = c(\"wts_cd_pfafstetterbasin\", \"year\"), # i = wts_cd_pfafstetterbasin, t = year\n",
    "        model = \"fd\" # FD model\n",
    "    )\n",
    "\n",
    "    # 2. Estimate the vcov matrix\n",
    "    vcov <- plm::vcovHC(\n",
    "        model, \n",
    "        method = \"arellano\", # use Arellano (1987) - errors have heteroskedasticity and serial (cross–sectional) correlation\n",
    "        type = \"HC1\", # Use HC1 estimator to adjust for this\n",
    "        cluster = \"group\", # Within group correlation\n",
    "        group = dataset[[cluster]]\n",
    "    )\n",
    "\n",
    "    results <- c(model, vcov)\n",
    "    return(results)\n",
    "}"
   ]
  },
  {
   "cell_type": "markdown",
   "metadata": {},
   "source": [
    "# 2. Load Data"
   ]
  },
  {
   "cell_type": "code",
   "execution_count": 8,
   "metadata": {
    "vscode": {
     "languageId": "r"
    }
   },
   "outputs": [],
   "source": [
    "scale_factor = 1"
   ]
  },
  {
   "cell_type": "code",
   "execution_count": 9,
   "metadata": {
    "vscode": {
     "languageId": "r"
    }
   },
   "outputs": [
    {
     "name": "stderr",
     "output_type": "stream",
     "text": [
      "\u001b[1mRows: \u001b[22m\u001b[34m73047\u001b[39m \u001b[1mColumns: \u001b[22m\u001b[34m21\u001b[39m\n",
      "\u001b[36m--\u001b[39m \u001b[1mColumn specification\u001b[22m \u001b[36m--------------------------------------------------------\u001b[39m\n",
      "\u001b[1mDelimiter:\u001b[22m \",\"\n",
      "\u001b[32mdbl\u001b[39m (21): wts_cd_pfafstetterbasin, year, level5, level4, level3, water_basin...\n",
      "\n",
      "\u001b[36mi\u001b[39m Use `spec()` to retrieve the full column specification for this data.\n",
      "\u001b[36mi\u001b[39m Specify the column types or set `show_col_types = FALSE` to quiet this message.\n",
      "mutate: new variable 'log_water_basin_km2' (double) with 17,215 unique values and 0% NA\n",
      "        new variable 'log_wetland_basin_km2' (double) with 27,802 unique values and 0% NA\n",
      "        new variable 'log_fire_basin_km2' (double) with 16,376 unique values and 0% NA\n",
      "        new variable 'log_antropic_upstream_km2' (double) with 27,429 unique values and 0% NA\n",
      "        new variable 'log_antropic_downstream_km2' (double) with 22,731 unique values and 0% NA\n",
      "        new variable 'log_upstream_rainfall' (double) with 32,990 unique values and 0% NA\n"
     ]
    }
   ],
   "source": [
    "panel_path <- \"output/data/panel.csv\" #Path to the panel data\n",
    "panel.R <- read_csv(panel_path)\n",
    "panel <- panel.R %>% tibble()\n",
    "panel <- panel %>% mutate(\n",
    "    water_basin_km2 = water_basin_km2*scale_factor,\n",
    "    wetland_basin_km2 = wetland_basin_km2*scale_factor,\n",
    "    fire_basin_km2 = fire_basin_km2*scale_factor,\n",
    "    antropic_upstream_km2 = antropic_upstream_km2*scale_factor,\n",
    "    antropic_downstream_km2 = antropic_downstream_km2*scale_factor,\n",
    "\n",
    "    log_water_basin_km2 = asinh(water_basin_km2),\n",
    "    log_wetland_basin_km2 = asinh(wetland_basin_km2),\n",
    "    log_fire_basin_km2 = asinh(fire_basin_km2),\n",
    "    log_antropic_upstream_km2 = asinh(antropic_upstream_km2), \n",
    "    log_antropic_downstream_km2 = asinh(antropic_downstream_km2),\n",
    "    log_upstream_rainfall = asinh(upstream_rainfall)\n",
    "    )\n",
    "panel <- data.frame(panel)"
   ]
  },
  {
   "cell_type": "markdown",
   "metadata": {},
   "source": [
    "## 2.1 Change in Water Area caused by Upstream Deforestation"
   ]
  },
  {
   "cell_type": "code",
   "execution_count": 14,
   "metadata": {
    "vscode": {
     "languageId": "r"
    }
   },
   "outputs": [
    {
     "name": "stderr",
     "output_type": "stream",
     "text": [
      "filter: removed 32,019 rows (44%), 41,028 rows remaining\n",
      "group_by: one grouping variable (year)\n"
     ]
    },
    {
     "name": "stderr",
     "output_type": "stream",
     "text": [
      "summarize: now 39 rows and 6 columns, ungrouped\n",
      "mutate: new variable 'share_water' (double) with 39 unique values and 0% NA\n",
      "        new variable 'share_fire' (double) with 39 unique values and 0% NA\n"
     ]
    },
    {
     "data": {
      "text/html": [
       "<table class=\"dataframe\">\n",
       "<caption>A tibble: 39 x 8</caption>\n",
       "<thead>\n",
       "\t<tr><th scope=col>year</th><th scope=col>sum_water</th><th scope=col>sum_wetland</th><th scope=col>sum_fire</th><th scope=col>sum_anthropic_upstream</th><th scope=col>total_area</th><th scope=col>share_water</th><th scope=col>share_fire</th></tr>\n",
       "\t<tr><th scope=col>&lt;dbl&gt;</th><th scope=col>&lt;dbl&gt;</th><th scope=col>&lt;dbl&gt;</th><th scope=col>&lt;dbl&gt;</th><th scope=col>&lt;dbl&gt;</th><th scope=col>&lt;dbl&gt;</th><th scope=col>&lt;dbl&gt;</th><th scope=col>&lt;dbl&gt;</th></tr>\n",
       "</thead>\n",
       "<tbody>\n",
       "\t<tr><td>1985</td><td>32402.905</td><td>38417.167</td><td> 6869.1825</td><td> 5143104</td><td>152499.7</td><td>21.247849</td><td> 4.5043910</td></tr>\n",
       "\t<tr><td>1986</td><td>12424.463</td><td>27607.738</td><td> 9821.4417</td><td> 5450715</td><td>152499.8</td><td> 8.147197</td><td> 6.4402962</td></tr>\n",
       "\t<tr><td>1987</td><td>15874.669</td><td>39521.054</td><td> 4246.9839</td><td> 5649423</td><td>152499.8</td><td>10.409634</td><td> 2.7849114</td></tr>\n",
       "\t<tr><td>1988</td><td>31927.548</td><td>36719.090</td><td>10802.2689</td><td> 5834350</td><td>152499.9</td><td>20.936111</td><td> 7.0834597</td></tr>\n",
       "\t<tr><td>1989</td><td>25323.854</td><td>43587.371</td><td> 1863.8919</td><td> 6068136</td><td>152500.1</td><td>16.605797</td><td> 1.2222236</td></tr>\n",
       "\t<tr><td>1990</td><td>12711.450</td><td>28565.913</td><td> 4997.3139</td><td> 6264681</td><td>152500.1</td><td> 8.335372</td><td> 3.2769253</td></tr>\n",
       "\t<tr><td>1991</td><td>20662.278</td><td>34799.982</td><td> 9287.4753</td><td> 6443436</td><td>152500.1</td><td>13.549025</td><td> 6.0901432</td></tr>\n",
       "\t<tr><td>1992</td><td>18398.757</td><td>22653.642</td><td> 2560.8015</td><td> 6669456</td><td>152500.2</td><td>12.064742</td><td> 1.6792118</td></tr>\n",
       "\t<tr><td>1993</td><td>17732.521</td><td>30271.841</td><td>15212.6802</td><td> 6854327</td><td>152500.3</td><td>11.627859</td><td> 9.9755075</td></tr>\n",
       "\t<tr><td>1994</td><td> 7417.337</td><td>22391.404</td><td> 5706.1773</td><td> 7104040</td><td>152500.3</td><td> 4.863816</td><td> 3.7417472</td></tr>\n",
       "\t<tr><td>1995</td><td>15847.033</td><td>33415.915</td><td> 8253.2907</td><td> 7334007</td><td>152500.4</td><td>10.391468</td><td> 5.4119786</td></tr>\n",
       "\t<tr><td>1996</td><td>10458.353</td><td>32713.615</td><td> 7148.0754</td><td> 7533788</td><td>152500.5</td><td> 6.857915</td><td> 4.6872477</td></tr>\n",
       "\t<tr><td>1997</td><td>16475.206</td><td>38458.398</td><td> 2811.5568</td><td> 7720523</td><td>152500.6</td><td>10.803371</td><td> 1.8436365</td></tr>\n",
       "\t<tr><td>1998</td><td> 9758.350</td><td>19778.519</td><td> 3813.9453</td><td> 7900190</td><td>152500.6</td><td> 6.398891</td><td> 2.5009373</td></tr>\n",
       "\t<tr><td>1999</td><td>12894.443</td><td>26918.307</td><td>26400.0402</td><td> 8093919</td><td>152500.7</td><td> 8.455331</td><td>17.3114174</td></tr>\n",
       "\t<tr><td>2000</td><td> 9925.178</td><td>37850.836</td><td> 5316.1146</td><td> 8273208</td><td>152500.8</td><td> 6.508279</td><td> 3.4859583</td></tr>\n",
       "\t<tr><td>2001</td><td> 6906.707</td><td>20687.472</td><td>13501.9728</td><td> 8408240</td><td>152501.0</td><td> 4.528959</td><td> 8.8536948</td></tr>\n",
       "\t<tr><td>2002</td><td>10565.221</td><td>32174.392</td><td>14339.7360</td><td> 8522165</td><td>152501.1</td><td> 6.927964</td><td> 9.4030378</td></tr>\n",
       "\t<tr><td>2003</td><td> 8702.800</td><td>32272.907</td><td> 3730.4838</td><td> 8660103</td><td>152501.3</td><td> 5.706706</td><td> 2.4461982</td></tr>\n",
       "\t<tr><td>2004</td><td> 8357.282</td><td>24839.176</td><td> 7745.6889</td><td> 8764891</td><td>152501.3</td><td> 5.480139</td><td> 5.0790973</td></tr>\n",
       "\t<tr><td>2005</td><td> 7889.988</td><td>21814.165</td><td>15109.8300</td><td> 8841931</td><td>152501.4</td><td> 5.173716</td><td> 9.9079960</td></tr>\n",
       "\t<tr><td>2006</td><td>12720.370</td><td>37916.060</td><td> 3048.4206</td><td> 8905143</td><td>152501.4</td><td> 8.341153</td><td> 1.9989466</td></tr>\n",
       "\t<tr><td>2007</td><td>12502.300</td><td>36127.841</td><td> 9752.7303</td><td> 8947979</td><td>152501.4</td><td> 8.198154</td><td> 6.3951735</td></tr>\n",
       "\t<tr><td>2008</td><td>11356.632</td><td>38417.287</td><td> 5247.0486</td><td> 9007148</td><td>152501.5</td><td> 7.446900</td><td> 3.4406546</td></tr>\n",
       "\t<tr><td>2009</td><td> 6086.048</td><td>20271.521</td><td> 5828.5899</td><td> 9061282</td><td>152501.4</td><td> 3.990814</td><td> 3.8219911</td></tr>\n",
       "\t<tr><td>2010</td><td> 7418.588</td><td>27328.083</td><td> 8084.7981</td><td> 9097961</td><td>152501.5</td><td> 4.864600</td><td> 5.3014548</td></tr>\n",
       "\t<tr><td>2011</td><td>12890.515</td><td>43806.541</td><td> 3178.8225</td><td> 9143019</td><td>152501.4</td><td> 8.452717</td><td> 2.0844540</td></tr>\n",
       "\t<tr><td>2012</td><td> 5423.189</td><td>14573.346</td><td> 7510.6521</td><td> 9180281</td><td>152501.4</td><td> 3.556157</td><td> 4.9249726</td></tr>\n",
       "\t<tr><td>2013</td><td> 7649.459</td><td>22873.955</td><td> 3914.7030</td><td> 9230425</td><td>152501.2</td><td> 5.015998</td><td> 2.5669975</td></tr>\n",
       "\t<tr><td>2014</td><td>14199.295</td><td>32405.703</td><td> 1211.3307</td><td> 9279547</td><td>152501.3</td><td> 9.310934</td><td> 0.7943085</td></tr>\n",
       "\t<tr><td>2015</td><td> 9022.977</td><td>24479.378</td><td> 4237.3638</td><td> 9301651</td><td>152501.3</td><td> 5.916655</td><td> 2.7785752</td></tr>\n",
       "\t<tr><td>2016</td><td> 9799.606</td><td>27789.547</td><td> 7114.4181</td><td> 9329524</td><td>152501.3</td><td> 6.425916</td><td> 4.6651521</td></tr>\n",
       "\t<tr><td>2017</td><td> 9447.731</td><td>25411.972</td><td> 5243.2056</td><td> 9337948</td><td>152501.4</td><td> 6.195178</td><td> 3.4381366</td></tr>\n",
       "\t<tr><td>2018</td><td>14502.459</td><td>39275.615</td><td> 1721.7423</td><td> 9338557</td><td>152501.3</td><td> 9.509725</td><td> 1.1290014</td></tr>\n",
       "\t<tr><td>2019</td><td> 8396.412</td><td>22155.877</td><td>13509.9495</td><td> 9351943</td><td>152501.4</td><td> 5.505792</td><td> 8.8588998</td></tr>\n",
       "\t<tr><td>2020</td><td> 5362.765</td><td> 8772.908</td><td>24881.5143</td><td> 9417907</td><td>152501.5</td><td> 3.516533</td><td>16.3155891</td></tr>\n",
       "\t<tr><td>2021</td><td> 4201.604</td><td> 9813.211</td><td>14630.4054</td><td> 9477856</td><td>152501.5</td><td> 2.755124</td><td> 9.5936168</td></tr>\n",
       "\t<tr><td>2022</td><td> 4585.490</td><td>14239.156</td><td> 2101.9572</td><td> 9673319</td><td>152503.3</td><td> 3.006814</td><td> 1.3783029</td></tr>\n",
       "\t<tr><td>2023</td><td> 5472.984</td><td>27791.530</td><td>  797.4954</td><td>10006080</td><td>152503.3</td><td> 3.588763</td><td> 0.5229363</td></tr>\n",
       "</tbody>\n",
       "</table>\n"
      ],
      "text/latex": [
       "A tibble: 39 x 8\n",
       "\\begin{tabular}{llllllll}\n",
       " year & sum\\_water & sum\\_wetland & sum\\_fire & sum\\_anthropic\\_upstream & total\\_area & share\\_water & share\\_fire\\\\\n",
       " <dbl> & <dbl> & <dbl> & <dbl> & <dbl> & <dbl> & <dbl> & <dbl>\\\\\n",
       "\\hline\n",
       "\t 1985 & 32402.905 & 38417.167 &  6869.1825 &  5143104 & 152499.7 & 21.247849 &  4.5043910\\\\\n",
       "\t 1986 & 12424.463 & 27607.738 &  9821.4417 &  5450715 & 152499.8 &  8.147197 &  6.4402962\\\\\n",
       "\t 1987 & 15874.669 & 39521.054 &  4246.9839 &  5649423 & 152499.8 & 10.409634 &  2.7849114\\\\\n",
       "\t 1988 & 31927.548 & 36719.090 & 10802.2689 &  5834350 & 152499.9 & 20.936111 &  7.0834597\\\\\n",
       "\t 1989 & 25323.854 & 43587.371 &  1863.8919 &  6068136 & 152500.1 & 16.605797 &  1.2222236\\\\\n",
       "\t 1990 & 12711.450 & 28565.913 &  4997.3139 &  6264681 & 152500.1 &  8.335372 &  3.2769253\\\\\n",
       "\t 1991 & 20662.278 & 34799.982 &  9287.4753 &  6443436 & 152500.1 & 13.549025 &  6.0901432\\\\\n",
       "\t 1992 & 18398.757 & 22653.642 &  2560.8015 &  6669456 & 152500.2 & 12.064742 &  1.6792118\\\\\n",
       "\t 1993 & 17732.521 & 30271.841 & 15212.6802 &  6854327 & 152500.3 & 11.627859 &  9.9755075\\\\\n",
       "\t 1994 &  7417.337 & 22391.404 &  5706.1773 &  7104040 & 152500.3 &  4.863816 &  3.7417472\\\\\n",
       "\t 1995 & 15847.033 & 33415.915 &  8253.2907 &  7334007 & 152500.4 & 10.391468 &  5.4119786\\\\\n",
       "\t 1996 & 10458.353 & 32713.615 &  7148.0754 &  7533788 & 152500.5 &  6.857915 &  4.6872477\\\\\n",
       "\t 1997 & 16475.206 & 38458.398 &  2811.5568 &  7720523 & 152500.6 & 10.803371 &  1.8436365\\\\\n",
       "\t 1998 &  9758.350 & 19778.519 &  3813.9453 &  7900190 & 152500.6 &  6.398891 &  2.5009373\\\\\n",
       "\t 1999 & 12894.443 & 26918.307 & 26400.0402 &  8093919 & 152500.7 &  8.455331 & 17.3114174\\\\\n",
       "\t 2000 &  9925.178 & 37850.836 &  5316.1146 &  8273208 & 152500.8 &  6.508279 &  3.4859583\\\\\n",
       "\t 2001 &  6906.707 & 20687.472 & 13501.9728 &  8408240 & 152501.0 &  4.528959 &  8.8536948\\\\\n",
       "\t 2002 & 10565.221 & 32174.392 & 14339.7360 &  8522165 & 152501.1 &  6.927964 &  9.4030378\\\\\n",
       "\t 2003 &  8702.800 & 32272.907 &  3730.4838 &  8660103 & 152501.3 &  5.706706 &  2.4461982\\\\\n",
       "\t 2004 &  8357.282 & 24839.176 &  7745.6889 &  8764891 & 152501.3 &  5.480139 &  5.0790973\\\\\n",
       "\t 2005 &  7889.988 & 21814.165 & 15109.8300 &  8841931 & 152501.4 &  5.173716 &  9.9079960\\\\\n",
       "\t 2006 & 12720.370 & 37916.060 &  3048.4206 &  8905143 & 152501.4 &  8.341153 &  1.9989466\\\\\n",
       "\t 2007 & 12502.300 & 36127.841 &  9752.7303 &  8947979 & 152501.4 &  8.198154 &  6.3951735\\\\\n",
       "\t 2008 & 11356.632 & 38417.287 &  5247.0486 &  9007148 & 152501.5 &  7.446900 &  3.4406546\\\\\n",
       "\t 2009 &  6086.048 & 20271.521 &  5828.5899 &  9061282 & 152501.4 &  3.990814 &  3.8219911\\\\\n",
       "\t 2010 &  7418.588 & 27328.083 &  8084.7981 &  9097961 & 152501.5 &  4.864600 &  5.3014548\\\\\n",
       "\t 2011 & 12890.515 & 43806.541 &  3178.8225 &  9143019 & 152501.4 &  8.452717 &  2.0844540\\\\\n",
       "\t 2012 &  5423.189 & 14573.346 &  7510.6521 &  9180281 & 152501.4 &  3.556157 &  4.9249726\\\\\n",
       "\t 2013 &  7649.459 & 22873.955 &  3914.7030 &  9230425 & 152501.2 &  5.015998 &  2.5669975\\\\\n",
       "\t 2014 & 14199.295 & 32405.703 &  1211.3307 &  9279547 & 152501.3 &  9.310934 &  0.7943085\\\\\n",
       "\t 2015 &  9022.977 & 24479.378 &  4237.3638 &  9301651 & 152501.3 &  5.916655 &  2.7785752\\\\\n",
       "\t 2016 &  9799.606 & 27789.547 &  7114.4181 &  9329524 & 152501.3 &  6.425916 &  4.6651521\\\\\n",
       "\t 2017 &  9447.731 & 25411.972 &  5243.2056 &  9337948 & 152501.4 &  6.195178 &  3.4381366\\\\\n",
       "\t 2018 & 14502.459 & 39275.615 &  1721.7423 &  9338557 & 152501.3 &  9.509725 &  1.1290014\\\\\n",
       "\t 2019 &  8396.412 & 22155.877 & 13509.9495 &  9351943 & 152501.4 &  5.505792 &  8.8588998\\\\\n",
       "\t 2020 &  5362.765 &  8772.908 & 24881.5143 &  9417907 & 152501.5 &  3.516533 & 16.3155891\\\\\n",
       "\t 2021 &  4201.604 &  9813.211 & 14630.4054 &  9477856 & 152501.5 &  2.755124 &  9.5936168\\\\\n",
       "\t 2022 &  4585.490 & 14239.156 &  2101.9572 &  9673319 & 152503.3 &  3.006814 &  1.3783029\\\\\n",
       "\t 2023 &  5472.984 & 27791.530 &   797.4954 & 10006080 & 152503.3 &  3.588763 &  0.5229363\\\\\n",
       "\\end{tabular}\n"
      ],
      "text/markdown": [
       "\n",
       "A tibble: 39 x 8\n",
       "\n",
       "| year &lt;dbl&gt; | sum_water &lt;dbl&gt; | sum_wetland &lt;dbl&gt; | sum_fire &lt;dbl&gt; | sum_anthropic_upstream &lt;dbl&gt; | total_area &lt;dbl&gt; | share_water &lt;dbl&gt; | share_fire &lt;dbl&gt; |\n",
       "|---|---|---|---|---|---|---|---|\n",
       "| 1985 | 32402.905 | 38417.167 |  6869.1825 |  5143104 | 152499.7 | 21.247849 |  4.5043910 |\n",
       "| 1986 | 12424.463 | 27607.738 |  9821.4417 |  5450715 | 152499.8 |  8.147197 |  6.4402962 |\n",
       "| 1987 | 15874.669 | 39521.054 |  4246.9839 |  5649423 | 152499.8 | 10.409634 |  2.7849114 |\n",
       "| 1988 | 31927.548 | 36719.090 | 10802.2689 |  5834350 | 152499.9 | 20.936111 |  7.0834597 |\n",
       "| 1989 | 25323.854 | 43587.371 |  1863.8919 |  6068136 | 152500.1 | 16.605797 |  1.2222236 |\n",
       "| 1990 | 12711.450 | 28565.913 |  4997.3139 |  6264681 | 152500.1 |  8.335372 |  3.2769253 |\n",
       "| 1991 | 20662.278 | 34799.982 |  9287.4753 |  6443436 | 152500.1 | 13.549025 |  6.0901432 |\n",
       "| 1992 | 18398.757 | 22653.642 |  2560.8015 |  6669456 | 152500.2 | 12.064742 |  1.6792118 |\n",
       "| 1993 | 17732.521 | 30271.841 | 15212.6802 |  6854327 | 152500.3 | 11.627859 |  9.9755075 |\n",
       "| 1994 |  7417.337 | 22391.404 |  5706.1773 |  7104040 | 152500.3 |  4.863816 |  3.7417472 |\n",
       "| 1995 | 15847.033 | 33415.915 |  8253.2907 |  7334007 | 152500.4 | 10.391468 |  5.4119786 |\n",
       "| 1996 | 10458.353 | 32713.615 |  7148.0754 |  7533788 | 152500.5 |  6.857915 |  4.6872477 |\n",
       "| 1997 | 16475.206 | 38458.398 |  2811.5568 |  7720523 | 152500.6 | 10.803371 |  1.8436365 |\n",
       "| 1998 |  9758.350 | 19778.519 |  3813.9453 |  7900190 | 152500.6 |  6.398891 |  2.5009373 |\n",
       "| 1999 | 12894.443 | 26918.307 | 26400.0402 |  8093919 | 152500.7 |  8.455331 | 17.3114174 |\n",
       "| 2000 |  9925.178 | 37850.836 |  5316.1146 |  8273208 | 152500.8 |  6.508279 |  3.4859583 |\n",
       "| 2001 |  6906.707 | 20687.472 | 13501.9728 |  8408240 | 152501.0 |  4.528959 |  8.8536948 |\n",
       "| 2002 | 10565.221 | 32174.392 | 14339.7360 |  8522165 | 152501.1 |  6.927964 |  9.4030378 |\n",
       "| 2003 |  8702.800 | 32272.907 |  3730.4838 |  8660103 | 152501.3 |  5.706706 |  2.4461982 |\n",
       "| 2004 |  8357.282 | 24839.176 |  7745.6889 |  8764891 | 152501.3 |  5.480139 |  5.0790973 |\n",
       "| 2005 |  7889.988 | 21814.165 | 15109.8300 |  8841931 | 152501.4 |  5.173716 |  9.9079960 |\n",
       "| 2006 | 12720.370 | 37916.060 |  3048.4206 |  8905143 | 152501.4 |  8.341153 |  1.9989466 |\n",
       "| 2007 | 12502.300 | 36127.841 |  9752.7303 |  8947979 | 152501.4 |  8.198154 |  6.3951735 |\n",
       "| 2008 | 11356.632 | 38417.287 |  5247.0486 |  9007148 | 152501.5 |  7.446900 |  3.4406546 |\n",
       "| 2009 |  6086.048 | 20271.521 |  5828.5899 |  9061282 | 152501.4 |  3.990814 |  3.8219911 |\n",
       "| 2010 |  7418.588 | 27328.083 |  8084.7981 |  9097961 | 152501.5 |  4.864600 |  5.3014548 |\n",
       "| 2011 | 12890.515 | 43806.541 |  3178.8225 |  9143019 | 152501.4 |  8.452717 |  2.0844540 |\n",
       "| 2012 |  5423.189 | 14573.346 |  7510.6521 |  9180281 | 152501.4 |  3.556157 |  4.9249726 |\n",
       "| 2013 |  7649.459 | 22873.955 |  3914.7030 |  9230425 | 152501.2 |  5.015998 |  2.5669975 |\n",
       "| 2014 | 14199.295 | 32405.703 |  1211.3307 |  9279547 | 152501.3 |  9.310934 |  0.7943085 |\n",
       "| 2015 |  9022.977 | 24479.378 |  4237.3638 |  9301651 | 152501.3 |  5.916655 |  2.7785752 |\n",
       "| 2016 |  9799.606 | 27789.547 |  7114.4181 |  9329524 | 152501.3 |  6.425916 |  4.6651521 |\n",
       "| 2017 |  9447.731 | 25411.972 |  5243.2056 |  9337948 | 152501.4 |  6.195178 |  3.4381366 |\n",
       "| 2018 | 14502.459 | 39275.615 |  1721.7423 |  9338557 | 152501.3 |  9.509725 |  1.1290014 |\n",
       "| 2019 |  8396.412 | 22155.877 | 13509.9495 |  9351943 | 152501.4 |  5.505792 |  8.8588998 |\n",
       "| 2020 |  5362.765 |  8772.908 | 24881.5143 |  9417907 | 152501.5 |  3.516533 | 16.3155891 |\n",
       "| 2021 |  4201.604 |  9813.211 | 14630.4054 |  9477856 | 152501.5 |  2.755124 |  9.5936168 |\n",
       "| 2022 |  4585.490 | 14239.156 |  2101.9572 |  9673319 | 152503.3 |  3.006814 |  1.3783029 |\n",
       "| 2023 |  5472.984 | 27791.530 |   797.4954 | 10006080 | 152503.3 |  3.588763 |  0.5229363 |\n",
       "\n"
      ],
      "text/plain": [
       "   year sum_water sum_wetland sum_fire   sum_anthropic_upstream total_area\n",
       "1  1985 32402.905 38417.167    6869.1825  5143104               152499.7  \n",
       "2  1986 12424.463 27607.738    9821.4417  5450715               152499.8  \n",
       "3  1987 15874.669 39521.054    4246.9839  5649423               152499.8  \n",
       "4  1988 31927.548 36719.090   10802.2689  5834350               152499.9  \n",
       "5  1989 25323.854 43587.371    1863.8919  6068136               152500.1  \n",
       "6  1990 12711.450 28565.913    4997.3139  6264681               152500.1  \n",
       "7  1991 20662.278 34799.982    9287.4753  6443436               152500.1  \n",
       "8  1992 18398.757 22653.642    2560.8015  6669456               152500.2  \n",
       "9  1993 17732.521 30271.841   15212.6802  6854327               152500.3  \n",
       "10 1994  7417.337 22391.404    5706.1773  7104040               152500.3  \n",
       "11 1995 15847.033 33415.915    8253.2907  7334007               152500.4  \n",
       "12 1996 10458.353 32713.615    7148.0754  7533788               152500.5  \n",
       "13 1997 16475.206 38458.398    2811.5568  7720523               152500.6  \n",
       "14 1998  9758.350 19778.519    3813.9453  7900190               152500.6  \n",
       "15 1999 12894.443 26918.307   26400.0402  8093919               152500.7  \n",
       "16 2000  9925.178 37850.836    5316.1146  8273208               152500.8  \n",
       "17 2001  6906.707 20687.472   13501.9728  8408240               152501.0  \n",
       "18 2002 10565.221 32174.392   14339.7360  8522165               152501.1  \n",
       "19 2003  8702.800 32272.907    3730.4838  8660103               152501.3  \n",
       "20 2004  8357.282 24839.176    7745.6889  8764891               152501.3  \n",
       "21 2005  7889.988 21814.165   15109.8300  8841931               152501.4  \n",
       "22 2006 12720.370 37916.060    3048.4206  8905143               152501.4  \n",
       "23 2007 12502.300 36127.841    9752.7303  8947979               152501.4  \n",
       "24 2008 11356.632 38417.287    5247.0486  9007148               152501.5  \n",
       "25 2009  6086.048 20271.521    5828.5899  9061282               152501.4  \n",
       "26 2010  7418.588 27328.083    8084.7981  9097961               152501.5  \n",
       "27 2011 12890.515 43806.541    3178.8225  9143019               152501.4  \n",
       "28 2012  5423.189 14573.346    7510.6521  9180281               152501.4  \n",
       "29 2013  7649.459 22873.955    3914.7030  9230425               152501.2  \n",
       "30 2014 14199.295 32405.703    1211.3307  9279547               152501.3  \n",
       "31 2015  9022.977 24479.378    4237.3638  9301651               152501.3  \n",
       "32 2016  9799.606 27789.547    7114.4181  9329524               152501.3  \n",
       "33 2017  9447.731 25411.972    5243.2056  9337948               152501.4  \n",
       "34 2018 14502.459 39275.615    1721.7423  9338557               152501.3  \n",
       "35 2019  8396.412 22155.877   13509.9495  9351943               152501.4  \n",
       "36 2020  5362.765  8772.908   24881.5143  9417907               152501.5  \n",
       "37 2021  4201.604  9813.211   14630.4054  9477856               152501.5  \n",
       "38 2022  4585.490 14239.156    2101.9572  9673319               152503.3  \n",
       "39 2023  5472.984 27791.530     797.4954 10006080               152503.3  \n",
       "   share_water share_fire\n",
       "1  21.247849    4.5043910\n",
       "2   8.147197    6.4402962\n",
       "3  10.409634    2.7849114\n",
       "4  20.936111    7.0834597\n",
       "5  16.605797    1.2222236\n",
       "6   8.335372    3.2769253\n",
       "7  13.549025    6.0901432\n",
       "8  12.064742    1.6792118\n",
       "9  11.627859    9.9755075\n",
       "10  4.863816    3.7417472\n",
       "11 10.391468    5.4119786\n",
       "12  6.857915    4.6872477\n",
       "13 10.803371    1.8436365\n",
       "14  6.398891    2.5009373\n",
       "15  8.455331   17.3114174\n",
       "16  6.508279    3.4859583\n",
       "17  4.528959    8.8536948\n",
       "18  6.927964    9.4030378\n",
       "19  5.706706    2.4461982\n",
       "20  5.480139    5.0790973\n",
       "21  5.173716    9.9079960\n",
       "22  8.341153    1.9989466\n",
       "23  8.198154    6.3951735\n",
       "24  7.446900    3.4406546\n",
       "25  3.990814    3.8219911\n",
       "26  4.864600    5.3014548\n",
       "27  8.452717    2.0844540\n",
       "28  3.556157    4.9249726\n",
       "29  5.015998    2.5669975\n",
       "30  9.310934    0.7943085\n",
       "31  5.916655    2.7785752\n",
       "32  6.425916    4.6651521\n",
       "33  6.195178    3.4381366\n",
       "34  9.509725    1.1290014\n",
       "35  5.505792    8.8588998\n",
       "36  3.516533   16.3155891\n",
       "37  2.755124    9.5936168\n",
       "38  3.006814    1.3783029\n",
       "39  3.588763    0.5229363"
      ]
     },
     "metadata": {},
     "output_type": "display_data"
    }
   ],
   "source": [
    "panel_change <- panel %>% filter(in_biome == 1) %>% group_by(year) %>% \n",
    "    summarize(\n",
    "        sum_water = sum(water_basin_km2),\n",
    "        sum_wetland = sum(wetland_basin_km2),\n",
    "        sum_fire = sum(fire_basin_km2),\n",
    "        sum_anthropic_upstream = sum(antropic_upstream_km2),\n",
    "        total_area = sum(area_basin_km2)) %>% \n",
    "    mutate(share_water = (sum_water/total_area)*100,\n",
    "           share_fire = (sum_fire/total_area)*100)\n",
    "panel_change"
   ]
  },
  {
   "cell_type": "markdown",
   "metadata": {},
   "source": [
    "# 3. Main Model: FD - Water"
   ]
  },
  {
   "cell_type": "markdown",
   "metadata": {},
   "source": [
    "$$y_{it} = \\mu_i + \\beta \\cdot X_{it} + \\epsilon_{it}$$\n",
    "Take the first diffence: $\\Delta y_{it} = y_{it} - y_{i,t-1}$\n",
    "$$\\Delta y_{it} = \\beta \\cdot \\Delta X_{it} + \\epsilon_{it}$$\n",
    "But we estimate with the intercept:\n",
    "$$\\Delta y_{it} = \\beta_0 + \\beta \\cdot \\Delta X_{it} + \\epsilon_{it}$$"
   ]
  },
  {
   "cell_type": "markdown",
   "metadata": {},
   "source": [
    "## 3.1 Model 1: FD log(water area) on log(upstream area)"
   ]
  },
  {
   "cell_type": "code",
   "execution_count": 27,
   "metadata": {
    "vscode": {
     "languageId": "r"
    }
   },
   "outputs": [
    {
     "name": "stderr",
     "output_type": "stream",
     "text": [
      "mutate_if: changed 39 values (100%) of 'estimate' (0 new NAs)\n",
      "           changed 39 values (100%) of 'std.error' (0 new NAs)\n",
      "           changed 39 values (100%) of 'statistic' (0 new NAs)\n",
      "           changed 39 values (100%) of 'p.value' (0 new NAs)\n",
      "mutate: new variable 'ci95_lower' (double) with 39 unique values and 0% NA\n",
      "        new variable 'ci95_upper' (double) with 39 unique values and 0% NA\n",
      "        new variable 'significance' (character) with 4 unique values and 0% NA\n",
      "filter: removed one row (3%), 38 rows remaining\n"
     ]
    }
   ],
   "source": [
    "summary_table1 <- get_summary_table(\n",
    "    y = 'log_water_basin_km2', \n",
    "    x = c('log_antropic_upstream_km2'),\n",
    "    dataset = panel,\n",
    "    cluster = 'level5')"
   ]
  },
  {
   "cell_type": "markdown",
   "metadata": {},
   "source": [
    "## 3.2 Model 2: FD log(water area) on log(upstream area) + log(upstream rainfall)"
   ]
  },
  {
   "cell_type": "code",
   "execution_count": 28,
   "metadata": {
    "vscode": {
     "languageId": "r"
    }
   },
   "outputs": [
    {
     "name": "stderr",
     "output_type": "stream",
     "text": [
      "mutate_if: changed 40 values (100%) of 'estimate' (0 new NAs)\n",
      "           changed 40 values (100%) of 'std.error' (0 new NAs)\n",
      "           changed 40 values (100%) of 'statistic' (0 new NAs)\n",
      "           changed 40 values (100%) of 'p.value' (0 new NAs)\n",
      "mutate: new variable 'ci95_lower' (double) with 40 unique values and 0% NA\n",
      "        new variable 'ci95_upper' (double) with 40 unique values and 0% NA\n",
      "        new variable 'significance' (character) with 4 unique values and 0% NA\n",
      "filter: removed one row (2%), 39 rows remaining\n"
     ]
    }
   ],
   "source": [
    "summary_table2 <- get_summary_table(\n",
    "    y = 'log_water_basin_km2', \n",
    "    x = c('log_antropic_upstream_km2', 'log_upstream_rainfall'),\n",
    "    dataset = panel,\n",
    "    cluster = 'level5')"
   ]
  },
  {
   "cell_type": "markdown",
   "metadata": {},
   "source": [
    "## 3.3 Model 3: FD log(water area) on log(downstream area)"
   ]
  },
  {
   "cell_type": "code",
   "execution_count": 29,
   "metadata": {
    "vscode": {
     "languageId": "r"
    }
   },
   "outputs": [
    {
     "name": "stderr",
     "output_type": "stream",
     "text": [
      "mutate_if: changed 39 values (100%) of 'estimate' (0 new NAs)\n",
      "           changed 39 values (100%) of 'std.error' (0 new NAs)\n",
      "           changed 39 values (100%) of 'statistic' (0 new NAs)\n",
      "           changed 39 values (100%) of 'p.value' (0 new NAs)\n",
      "mutate: new variable 'ci95_lower' (double) with 39 unique values and 0% NA\n",
      "        new variable 'ci95_upper' (double) with 39 unique values and 0% NA\n",
      "        new variable 'significance' (character) with 5 unique values and 0% NA\n",
      "filter: removed one row (3%), 38 rows remaining\n"
     ]
    }
   ],
   "source": [
    "summary_table3 <- get_summary_table(\n",
    "    y = 'log_water_basin_km2', \n",
    "    x = c('log_antropic_downstream_km2'),\n",
    "    dataset = panel,\n",
    "    cluster = 'level5')"
   ]
  },
  {
   "cell_type": "markdown",
   "metadata": {},
   "source": [
    "# 4. Main Model: FD - Fire"
   ]
  },
  {
   "cell_type": "markdown",
   "metadata": {},
   "source": [
    "$$y_{it} = \\mu_i + \\beta \\cdot X_{it} + \\epsilon_{it}$$\n",
    "Take the first diffence: $\\Delta y_{it} = y_{it} - y_{i,t-1}$\n",
    "$$\\Delta y_{it} = \\beta \\cdot \\Delta X_{it} + \\epsilon_{it}$$\n",
    "But we estimate with the intercept:\n",
    "$$\\Delta y_{it} = \\beta_0 + \\beta \\cdot \\Delta X_{it} + \\epsilon_{it}$$"
   ]
  },
  {
   "cell_type": "markdown",
   "metadata": {},
   "source": [
    "## 4.1 Model 4: FD log(fire area) on log(upstream area)"
   ]
  },
  {
   "cell_type": "code",
   "execution_count": 30,
   "metadata": {
    "vscode": {
     "languageId": "r"
    }
   },
   "outputs": [
    {
     "name": "stderr",
     "output_type": "stream",
     "text": [
      "mutate_if: changed 39 values (100%) of 'estimate' (0 new NAs)\n",
      "           changed 39 values (100%) of 'std.error' (0 new NAs)\n",
      "           changed 39 values (100%) of 'statistic' (0 new NAs)\n",
      "           changed 38 values (97%) of 'p.value' (0 new NAs)\n",
      "mutate: new variable 'ci95_lower' (double) with 39 unique values and 0% NA\n",
      "        new variable 'ci95_upper' (double) with 39 unique values and 0% NA\n",
      "        new variable 'significance' (character) with 4 unique values and 0% NA\n",
      "filter: removed one row (3%), 38 rows remaining\n"
     ]
    }
   ],
   "source": [
    "summary_table4 <- get_summary_table(\n",
    "    y = 'log_fire_basin_km2', \n",
    "    x = c('log_antropic_upstream_km2'),\n",
    "    dataset = panel,\n",
    "    cluster = 'level5')"
   ]
  },
  {
   "cell_type": "markdown",
   "metadata": {},
   "source": [
    "## 4.2 Model 5: FD log(fire area) on log(upstream area) + log(upstream rainfall)"
   ]
  },
  {
   "cell_type": "code",
   "execution_count": 31,
   "metadata": {
    "vscode": {
     "languageId": "r"
    }
   },
   "outputs": [
    {
     "name": "stderr",
     "output_type": "stream",
     "text": [
      "mutate_if: changed 40 values (100%) of 'estimate' (0 new NAs)\n",
      "           changed 40 values (100%) of 'std.error' (0 new NAs)\n",
      "           changed 40 values (100%) of 'statistic' (0 new NAs)\n",
      "           changed 40 values (100%) of 'p.value' (0 new NAs)\n",
      "mutate: new variable 'ci95_lower' (double) with 40 unique values and 0% NA\n",
      "        new variable 'ci95_upper' (double) with 40 unique values and 0% NA\n",
      "        new variable 'significance' (character) with 5 unique values and 0% NA\n",
      "filter: removed one row (2%), 39 rows remaining\n"
     ]
    }
   ],
   "source": [
    "summary_table5 <- get_summary_table(\n",
    "    y = 'log_fire_basin_km2', \n",
    "    x = c('log_antropic_upstream_km2', 'log_upstream_rainfall'),\n",
    "    dataset = panel,\n",
    "    cluster = 'level5')"
   ]
  },
  {
   "cell_type": "markdown",
   "metadata": {},
   "source": [
    "# 5. Table with the Main Results"
   ]
  },
  {
   "cell_type": "code",
   "execution_count": 32,
   "metadata": {
    "vscode": {
     "languageId": "r"
    }
   },
   "outputs": [],
   "source": [
    "## Function to run generic FD models to better use Stargazzer later\n",
    "run_regressions <- function(regressors, data, index, model_type = \"fd\", cluster_level) {\n",
    "    # Lists to append the objects\n",
    "    models <- list()\n",
    "    vcov_list <- list()\n",
    "    \n",
    "    # Run the various models and get the point estimates and the vcovs\n",
    "    for (i in 1:length(regressors)) {\n",
    "        models[[i]] <- plm(\n",
    "            formula = regressors[[i]], # Use the corresponding formula\n",
    "            data = data, # Adjust this if data subsets are needed\n",
    "            index = index,\n",
    "            model = model_type\n",
    "        )\n",
    "        \n",
    "        vcov_list[[i]] <- plm::vcovHC(\n",
    "            models[[i]],\n",
    "            method = \"arellano\",\n",
    "            type = \"HC1\",\n",
    "            cluster = \"group\",\n",
    "            group = data[[cluster_level]]\n",
    "        )\n",
    "    }\n",
    "    \n",
    "    return(list(models = models, vcov_list = vcov_list))\n",
    "}\n"
   ]
  },
  {
   "cell_type": "code",
   "execution_count": 33,
   "metadata": {
    "vscode": {
     "languageId": "r"
    }
   },
   "outputs": [],
   "source": [
    "# 1. Set the multiple formulas\n",
    "regressors <- list(\n",
    "  formula1 = log_wetland_basin_km2 ~ log_antropic_upstream_km2,\n",
    "  formula2 = log_wetland_basin_km2 ~ log_antropic_upstream_km2 + factor(year),\n",
    "  formula3 = log_fire_basin_km2 ~ log_antropic_upstream_km2,\n",
    "  formula4 = log_fire_basin_km2 ~ log_antropic_upstream_km2 + factor(year)\n",
    ")\n",
    "\n",
    "# 2. Lists to append the objects\n",
    "models <- list()\n",
    "vcov_list <- list()"
   ]
  },
  {
   "cell_type": "code",
   "execution_count": 34,
   "metadata": {
    "vscode": {
     "languageId": "r"
    }
   },
   "outputs": [],
   "source": [
    "## Model 1\n",
    "i = 1\n",
    "models[[i]] <- plm(\n",
    "    formula = regressors[[i]], data = panel, \n",
    "    index = c(\"wts_cd_pfafstetterbasin\", \"year\"), model = \"fd\")\n",
    "vcov_list[[i]] <- plm::vcovHC(\n",
    "    models[[i]], method = \"arellano\", type = \"HC1\",\n",
    "    cluster = \"group\", group = panel$level5)\n",
    "\n",
    "## Model 2\n",
    "i = 2\n",
    "models[[i]] <- plm(\n",
    "    formula = regressors[[i]], data = panel, \n",
    "    index = c(\"wts_cd_pfafstetterbasin\", \"year\"), model = \"fd\")\n",
    "vcov_list[[i]] <- plm::vcovHC(\n",
    "    models[[i]], method = \"arellano\", type = \"HC1\",\n",
    "    cluster = \"group\", group = panel$level5)\n",
    "\n",
    "## Model 3\n",
    "i = 3\n",
    "models[[i]] <- plm(\n",
    "    formula = regressors[[i]], data = panel, \n",
    "    index = c(\"wts_cd_pfafstetterbasin\", \"year\"), model = \"fd\")\n",
    "vcov_list[[i]] <- plm::vcovHC(\n",
    "    models[[i]], method = \"arellano\", type = \"HC1\",\n",
    "    cluster = \"group\", group = panel$level5)\n",
    "\n",
    "## Model 4\n",
    "i = 4\n",
    "models[[i]] <- plm(\n",
    "    formula = regressors[[i]], data = panel, \n",
    "    index = c(\"wts_cd_pfafstetterbasin\", \"year\"), model = \"fd\")\n",
    "vcov_list[[i]] <- plm::vcovHC(\n",
    "    models[[i]], method = \"arellano\", type = \"HC1\",\n",
    "    cluster = \"group\", group = panel$level5)"
   ]
  },
  {
   "cell_type": "code",
   "execution_count": 36,
   "metadata": {
    "vscode": {
     "languageId": "r"
    }
   },
   "outputs": [
    {
     "name": "stdout",
     "output_type": "stream",
     "text": [
      "\n",
      "====================================================================\n",
      "                           log(Water Area)        log(Fire Area)    \n",
      "                            (1)        (2)        (3)        (4)    \n",
      "--------------------------------------------------------------------\n",
      "(Intercept)               -0.001*    -0.001*   -0.032***  -0.034*** \n",
      "                          (0.001)    (0.001)    (0.002)    (0.002)  \n",
      "log(Anthropic Upstream)  -0.235***  -0.234***   0.353***   0.529*** \n",
      "                          (0.061)    (0.059)    (0.123)    (0.106)  \n",
      "--------------------------------------------------------------------\n",
      "Cluster                   Level 5    Level 5    Level 5    Level 5  \n",
      "Entity FE                   Yes        Yes        Yes        Yes    \n",
      "Year Dummy                  No         Yes         No        Yes    \n",
      "0.1ex                                                               \n",
      "Observations              71,174      71,174     71,174     71,174  \n",
      "Adjusted R2               0.0003      0.133      0.0002     0.135   \n",
      "====================================================================\n",
      "Note:                                    *p<0.1; **p<0.05; ***p<0.01\n",
      "                           Standard errors are shown in parentheses.\n"
     ]
    }
   ],
   "source": [
    "# Create a sequence of years from 1986 to 2023\n",
    "years <- 1986:2023\n",
    "years_to_omit <- paste0(\"factor\\\\(year\\\\)\", years)\n",
    "\n",
    "# Use the list in the stargazer function\n",
    "stargazer(\n",
    "    models[[1]], models[[2]], models[[3]], models[[4]], # Include all models\n",
    "    type = \"text\", # Output as LaTeX\n",
    "    se = lapply(vcov_list, function(x) sqrt(diag(x))), # Extract robust SEs\n",
    "    align = TRUE,\n",
    "    digits = 3,\n",
    "    no.space = TRUE,\n",
    "    dep.var.labels.include = FALSE, # Do not include default dependent variable labels\n",
    "    dep.var.caption = \"\", # Remove the \"Dependent variable:\" text\n",
    "    column.labels = c(\"log(Water Area)\", \"log(Fire Area)\"), # Specify dependent variables above model numbers\n",
    "    column.separate = c(2, 2), # Group columns by dependent variable\n",
    "    omit.stat = c(\"f\", \"ser\", \"rsq\"), # Omit F-stat and SER if needed\n",
    "    multicolumn = TRUE,\n",
    "    add.lines = list(\n",
    "        c(\"Cluster\", \"Level 5\", \"Level 5\", \"Level 5\", \"Level 5\"), # Indicate clustering\n",
    "        c(\"Entity FE\", \"Yes\", \"Yes\", \"Yes\", \"Yes\"), # Add fixed effects line\n",
    "        c('Year Dummy', \"No\", \"Yes\", \"No\", \"Yes\"),\n",
    "        c(\"\\\\hline \\\\noalign{\\\\vskip 0.1ex}\") # Add a half-height line for better visualization\n",
    "    ),\n",
    "    omit = years_to_omit, # Specify the rows to omit based on coefficient names\n",
    "    covariate.labels = c(\"(Intercept)\", \"log(Anthropic Upstream)\"),\n",
    "    intercept.bottom = FALSE,\n",
    "    notes = \"Standard errors are shown in parentheses.\", # Add notes\n",
    "    out = \"output_table.tex\" # Specify the output file path\n",
    ")"
   ]
  },
  {
   "cell_type": "markdown",
   "metadata": {},
   "source": [
    "# 6. Robustness Checks"
   ]
  },
  {
   "cell_type": "code",
   "execution_count": 270,
   "metadata": {
    "vscode": {
     "languageId": "r"
    }
   },
   "outputs": [],
   "source": [
    "# 1. Set the multiple formulas\n",
    "regressors <- list(\n",
    "  formula1 = log_water_basin_km2 ~ log_antropic_downstream_km2 + factor(year), # Test 1: deforestation downstream\n",
    "  formula2 = log_water_basin_km2 ~ log_antropic_upstream_km2 + log_upstream_rainfall + factor(year), # Test 2: Rainfall\n",
    "  formula3 = log_water_basin_km2 ~ log_antropic_upstream_km2 + factor(year), # Test 3: no cluster\n",
    "  formula4 = log_fire_basin_km2 ~ log_antropic_upstream_km2 + log_upstream_rainfall + factor(year), # Test 4: test 2 with y=fire\n",
    "  formula5 = log_fire_basin_km2 ~ log_antropic_upstream_km2 + factor(year) # Test 5: test 3 with y=fire\n",
    ")\n",
    "\n",
    "# 2. Lists to append the objects\n",
    "models <- list()\n",
    "vcov_list <- list()"
   ]
  },
  {
   "cell_type": "code",
   "execution_count": 271,
   "metadata": {
    "vscode": {
     "languageId": "r"
    }
   },
   "outputs": [],
   "source": [
    "## Model 1\n",
    "i = 1\n",
    "models[[i]] <- plm(\n",
    "    formula = regressors[[i]], data = panel, \n",
    "    index = c(\"wts_cd_pfafstetterbasin\", \"year\"), model = \"fd\")\n",
    "vcov_list[[i]] <- plm::vcovHC(\n",
    "    models[[i]], method = \"arellano\", type = \"HC1\",\n",
    "    cluster = \"group\", group = panel$level5)\n",
    "\n",
    "## Model 2\n",
    "i = 2\n",
    "models[[i]] <- plm(\n",
    "    formula = regressors[[i]], data = panel, \n",
    "    index = c(\"wts_cd_pfafstetterbasin\", \"year\"), model = \"fd\")\n",
    "vcov_list[[i]] <- plm::vcovHC(\n",
    "    models[[i]], method = \"arellano\", type = \"HC1\",\n",
    "    cluster = \"group\", group = panel$level5)\n",
    "\n",
    "## Model 3\n",
    "i = 3\n",
    "models[[i]] <- plm(\n",
    "    formula = regressors[[i]], data = panel, \n",
    "    index = c(\"wts_cd_pfafstetterbasin\", \"year\"), model = \"fd\")\n",
    "vcov_list[[i]] <- plm::vcovHC(\n",
    "    models[[i]], method = \"arellano\", type = \"HC1\")\n",
    "\n",
    "## Model 4\n",
    "i = 4\n",
    "models[[i]] <- plm(\n",
    "    formula = regressors[[i]], data = panel, \n",
    "    index = c(\"wts_cd_pfafstetterbasin\", \"year\"), model = \"fd\")\n",
    "vcov_list[[i]] <- plm::vcovHC(\n",
    "    models[[i]], method = \"arellano\", type = \"HC1\",\n",
    "    cluster = \"group\", group = panel$level5)\n",
    "\n",
    "## Model 5\n",
    "i = 5\n",
    "models[[i]] <- plm(\n",
    "    formula = regressors[[i]], data = panel, \n",
    "    index = c(\"wts_cd_pfafstetterbasin\", \"year\"), model = \"fd\")\n",
    "vcov_list[[i]] <- plm::vcovHC(\n",
    "    models[[i]], method = \"arellano\", type = \"HC1\")"
   ]
  },
  {
   "cell_type": "code",
   "execution_count": 272,
   "metadata": {
    "vscode": {
     "languageId": "r"
    }
   },
   "outputs": [
    {
     "name": "stdout",
     "output_type": "stream",
     "text": [
      "\n",
      "% Table created by stargazer v.5.2.3 by Marek Hlavac, Social Policy Institute. E-mail: marek.hlavac at gmail.com\n",
      "% Date and time: Wed, Feb 05, 2025 - 11:50:38\n",
      "% Requires LaTeX packages: dcolumn \n",
      "\\begin{table}[!htbp] \\centering \n",
      "  \\caption{} \n",
      "  \\label{} \n",
      "\\begin{tabular}{@{\\extracolsep{5pt}}lD{.}{.}{-3} D{.}{.}{-3} D{.}{.}{-3} D{.}{.}{-3} D{.}{.}{-3} } \n",
      "\\\\[-1.8ex]\\hline \n",
      "\\hline \\\\[-1.8ex] \n",
      " & \\multicolumn{3}{c}{log(Water Area)} & \\multicolumn{2}{c}{log(Fire Area)} \\\\ \n",
      "\\\\[-1.8ex] & \\multicolumn{1}{c}{(1)} & \\multicolumn{1}{c}{(2)} & \\multicolumn{1}{c}{(3)} & \\multicolumn{1}{c}{(4)} & \\multicolumn{1}{c}{(5)}\\\\ \n",
      "\\hline \\\\[-1.8ex] \n",
      " (Intercept) & -0.021^{***} & -0.018^{***} & -0.018^{***} & -0.034^{***} & -0.034^{***} \\\\ \n",
      "  & (0.003) & (0.002) & (0.001) & (0.002) & (0.002) \\\\ \n",
      "  log(Anthropic Downstream) & -0.051 &  &  &  &  \\\\ \n",
      "  & (0.099) &  &  &  &  \\\\ \n",
      "  log(Anthropic Upstream) &  & -0.397^{***} & -0.397^{***} & 0.531^{***} & 0.529^{***} \\\\ \n",
      "  &  & (0.124) & (0.124) & (0.106) & (0.106) \\\\ \n",
      "  log(Upstream Rainfall) &  & 0.046 &  & -0.146^{*} &  \\\\ \n",
      "  &  & (0.035) &  & (0.079) &  \\\\ \n",
      " \\hline \\\\[-1.8ex] \n",
      "Cluster & Level 5 & Level 5 & No & Level 5 & No \\\\ \n",
      "Entity FE & Yes & Yes & Yes & Yes & Yes \\\\ \n",
      "Year Dummy & Yes & Yes & Yes & Yes & Yes \\\\ \n",
      "\\hline \\noalign{\\vskip 0.1ex} &  &  &  &  &  \\\\ \n",
      "Observations & \\multicolumn{1}{c}{71,174} & \\multicolumn{1}{c}{71,174} & \\multicolumn{1}{c}{71,174} & \\multicolumn{1}{c}{71,174} & \\multicolumn{1}{c}{71,174} \\\\ \n",
      "Adjusted R$^{2}$ & \\multicolumn{1}{c}{0.110} & \\multicolumn{1}{c}{0.111} & \\multicolumn{1}{c}{0.111} & \\multicolumn{1}{c}{0.135} & \\multicolumn{1}{c}{0.135} \\\\ \n",
      "\\hline \n",
      "\\hline \\\\[-1.8ex] \n",
      "\\textit{Note:}  & \\multicolumn{5}{r}{$^{*}$p$<$0.1; $^{**}$p$<$0.05; $^{***}$p$<$0.01} \\\\ \n",
      " & \\multicolumn{5}{r}{Standard errors are shown in parentheses.} \\\\ \n",
      "\\end{tabular} \n",
      "\\end{table} \n"
     ]
    }
   ],
   "source": [
    "# Create a sequence of years from 1986 to 2023\n",
    "years <- 1986:2023\n",
    "years_to_omit <- paste0(\"factor\\\\(year\\\\)\", years)\n",
    "\n",
    "# Use the list in the stargazer function\n",
    "stargazer(\n",
    "    models[[1]], models[[2]], models[[3]], models[[4]], models[[5]],  # Include all models\n",
    "    type = \"latex\", # Output as LaTeX\n",
    "    se = lapply(vcov_list, function(x) sqrt(diag(x))), # Extract robust SEs\n",
    "    align = TRUE,\n",
    "    digits = 3,\n",
    "    no.space = TRUE,\n",
    "    dep.var.labels.include = FALSE, # Do not include default dependent variable labels\n",
    "    dep.var.caption = \"\", # Remove the \"Dependent variable:\" text\n",
    "    column.labels = c(\"log(Water Area)\", \"log(Fire Area)\"), # Specify dependent variables above model numbers\n",
    "    column.separate = c(3, 2), # Group columns by dependent variable\n",
    "    omit.stat = c(\"f\", \"ser\", \"rsq\"), # Omit F-stat and SER if needed\n",
    "    multicolumn = TRUE,\n",
    "    add.lines = list(\n",
    "        c(\"Cluster\", \"Level 5\", \"Level 5\", \"No\", \"Level 5\", \"No\"), # Indicate clustering\n",
    "        c(\"Entity FE\", \"Yes\", \"Yes\", \"Yes\", \"Yes\", \"Yes\"), # Add fixed effects line\n",
    "        c('Year Dummy', \"Yes\", \"Yes\", \"Yes\", \"Yes\", \"Yes\"),\n",
    "        c(\"\\\\hline \\\\noalign{\\\\vskip 0.1ex}\") # Add a half-height line for better visualization\n",
    "    ),\n",
    "    omit = years_to_omit, # Specify the rows to omit based on coefficient names\n",
    "    covariate.labels = c(\"(Intercept)\", \"log(Anthropic Downstream)\", \"log(Anthropic Upstream)\", \"log(Upstream Rainfall)\"),\n",
    "    intercept.bottom = FALSE,\n",
    "    notes = \"Standard errors are shown in parentheses.\", # Add notes\n",
    "    out = \"output_table.tex\" # Specify the output file path\n",
    ")"
   ]
  },
  {
   "cell_type": "markdown",
   "metadata": {},
   "source": [
    "# 7. Heterogenous Effects"
   ]
  },
  {
   "cell_type": "markdown",
   "metadata": {},
   "source": [
    "## 7.1 Central Basins Only"
   ]
  },
  {
   "cell_type": "code",
   "execution_count": 273,
   "metadata": {
    "vscode": {
     "languageId": "r"
    }
   },
   "outputs": [
    {
     "name": "stderr",
     "output_type": "stream",
     "text": [
      "filter: removed 32,019 rows (44%), 41,028 rows remaining\n",
      "filter: removed 41,028 rows (56%), 32,019 rows remaining\n"
     ]
    }
   ],
   "source": [
    "panel_central <- panel %>% filter(in_biome == 1)\n",
    "panel_highlands <- panel %>% filter(in_biome == 0)"
   ]
  },
  {
   "cell_type": "code",
   "execution_count": 274,
   "metadata": {
    "vscode": {
     "languageId": "r"
    }
   },
   "outputs": [],
   "source": [
    "# 1. Set the multiple formulas\n",
    "regressors <- list(\n",
    "  formula1 = log_water_basin_km2 ~ log_antropic_upstream_km2 + factor(year), #Central\n",
    "  formula2 = log_water_basin_km2 ~ log_antropic_upstream_km2 + factor(year), #Highlands\n",
    "  formula3 = log_fire_basin_km2 ~ log_antropic_upstream_km2 + factor(year), # Central\n",
    "  formula4 = log_fire_basin_km2 ~ log_antropic_upstream_km2 + factor(year) # Highlands\n",
    ")\n",
    "\n",
    "# 2. Lists to append the objects\n",
    "models <- list()\n",
    "vcov_list <- list()"
   ]
  },
  {
   "cell_type": "code",
   "execution_count": 275,
   "metadata": {
    "vscode": {
     "languageId": "r"
    }
   },
   "outputs": [],
   "source": [
    "## Model 1\n",
    "i = 1\n",
    "models[[i]] <- plm(\n",
    "    formula = regressors[[i]], data = panel_central, \n",
    "    index = c(\"wts_cd_pfafstetterbasin\", \"year\"), model = \"fd\")\n",
    "vcov_list[[i]] <- plm::vcovHC(\n",
    "    models[[i]], method = \"arellano\", type = \"HC1\",\n",
    "    cluster = \"group\", group = panel_central$level5)\n",
    "\n",
    "## Model 2\n",
    "i = 2\n",
    "models[[i]] <- plm(\n",
    "    formula = regressors[[i]], data = panel_highlands, \n",
    "    index = c(\"wts_cd_pfafstetterbasin\", \"year\"), model = \"fd\")\n",
    "vcov_list[[i]] <- plm::vcovHC(\n",
    "    models[[i]], method = \"arellano\", type = \"HC1\",\n",
    "    cluster = \"group\", group = panel_highlands$level5)\n",
    "\n",
    "## Model 3\n",
    "i = 3\n",
    "models[[i]] <- plm(\n",
    "    formula = regressors[[i]], data = panel_central, \n",
    "    index = c(\"wts_cd_pfafstetterbasin\", \"year\"), model = \"fd\")\n",
    "vcov_list[[i]] <- plm::vcovHC(\n",
    "    models[[i]], method = \"arellano\", type = \"HC1\",\n",
    "    cluster = \"group\", group = panel_central$level5)\n",
    "\n",
    "## Model 4\n",
    "i = 4\n",
    "models[[i]] <- plm(\n",
    "    formula = regressors[[i]], data = panel_highlands, \n",
    "    index = c(\"wts_cd_pfafstetterbasin\", \"year\"), model = \"fd\")\n",
    "vcov_list[[i]] <- plm::vcovHC(\n",
    "    models[[i]], method = \"arellano\", type = \"HC1\",\n",
    "    cluster = \"group\", group = panel_highlands$level5)"
   ]
  },
  {
   "cell_type": "code",
   "execution_count": 276,
   "metadata": {
    "vscode": {
     "languageId": "r"
    }
   },
   "outputs": [
    {
     "name": "stdout",
     "output_type": "stream",
     "text": [
      "\n",
      "% Table created by stargazer v.5.2.3 by Marek Hlavac, Social Policy Institute. E-mail: marek.hlavac at gmail.com\n",
      "% Date and time: Wed, Feb 05, 2025 - 11:50:43\n",
      "% Requires LaTeX packages: dcolumn \n",
      "\\begin{table}[!htbp] \\centering \n",
      "  \\caption{} \n",
      "  \\label{} \n",
      "\\begin{tabular}{@{\\extracolsep{5pt}}lD{.}{.}{-3} D{.}{.}{-3} D{.}{.}{-3} D{.}{.}{-3} } \n",
      "\\\\[-1.8ex]\\hline \n",
      "\\hline \\\\[-1.8ex] \n",
      " & \\multicolumn{2}{c}{log(Water Area)} & \\multicolumn{2}{c}{log(Fire Area)} \\\\ \n",
      "\\\\[-1.8ex] & \\multicolumn{1}{c}{(1)} & \\multicolumn{1}{c}{(2)} & \\multicolumn{1}{c}{(3)} & \\multicolumn{1}{c}{(4)}\\\\ \n",
      "\\hline \\\\[-1.8ex] \n",
      " (Intercept) & -0.034^{***} & -0.001^{**} & -0.017^{***} & -0.055^{***} \\\\ \n",
      "  & (0.002) & (0.001) & (0.002) & (0.002) \\\\ \n",
      "  log(Anthropic Upstream) & -0.508^{***} & 0.089^{***} & 0.554^{***} & 0.409^{***} \\\\ \n",
      "  & (0.133) & (0.022) & (0.119) & (0.125) \\\\ \n",
      " \\hline \\\\[-1.8ex] \n",
      "Group & Biome & Highlands & Biome & Highlands \\\\ \n",
      "Cluster & Level 5 & Level 5 & Level 5 & Level 5 \\\\ \n",
      "Entity FE & Yes & Yes & Yes & Yes \\\\ \n",
      "Year Dummy & Yes & Yes & Yes & Yes \\\\ \n",
      "\\hline \\noalign{\\vskip 0.1ex} &  &  &  &  \\\\ \n",
      "Observations & \\multicolumn{1}{c}{39,976} & \\multicolumn{1}{c}{31,198} & \\multicolumn{1}{c}{39,976} & \\multicolumn{1}{c}{31,198} \\\\ \n",
      "Adjusted R$^{2}$ & \\multicolumn{1}{c}{0.191} & \\multicolumn{1}{c}{0.016} & \\multicolumn{1}{c}{0.147} & \\multicolumn{1}{c}{0.206} \\\\ \n",
      "\\hline \n",
      "\\hline \\\\[-1.8ex] \n",
      "\\textit{Note:}  & \\multicolumn{4}{r}{$^{*}$p$<$0.1; $^{**}$p$<$0.05; $^{***}$p$<$0.01} \\\\ \n",
      " & \\multicolumn{4}{r}{Standard errors are shown in parentheses.} \\\\ \n",
      "\\end{tabular} \n",
      "\\end{table} \n"
     ]
    }
   ],
   "source": [
    "# Create a sequence of years from 1986 to 2023\n",
    "years <- 1986:2023\n",
    "years_to_omit <- paste0(\"factor\\\\(year\\\\)\", years)\n",
    "\n",
    "# Use the list in the stargazer function\n",
    "stargazer(\n",
    "    models[[1]], models[[2]], models[[3]], models[[4]],  # Include all models\n",
    "    type = \"latex\", # Output as LaTeX\n",
    "    se = lapply(vcov_list, function(x) sqrt(diag(x))), # Extract robust SEs\n",
    "    align = TRUE,\n",
    "    digits = 3,\n",
    "    no.space = TRUE,\n",
    "    dep.var.labels.include = FALSE, # Do not include default dependent variable labels\n",
    "    dep.var.caption = \"\", # Remove the \"Dependent variable:\" text\n",
    "    column.labels = c(\"log(Water Area)\", \"log(Fire Area)\"), # Specify dependent variables above model numbers\n",
    "    column.separate = c(2, 2), # Group columns by dependent variable\n",
    "    omit.stat = c(\"f\", \"ser\", \"rsq\"), # Omit F-stat and SER if needed\n",
    "    multicolumn = TRUE,\n",
    "    add.lines = list(\n",
    "        c('Group', \"Biome\", \"Highlands\", \"Biome\", \"Highlands\"),\n",
    "        c(\"Cluster\", \"Level 5\", \"Level 5\", \"Level 5\", \"Level 5\"), # Indicate clustering\n",
    "        c(\"Entity FE\", \"Yes\", \"Yes\", \"Yes\", \"Yes\"), # Add fixed effects line\n",
    "        c('Year Dummy', \"Yes\", \"Yes\", \"Yes\", \"Yes\"),\n",
    "        c(\"\\\\hline \\\\noalign{\\\\vskip 0.1ex}\") # Add a half-height line for better visualization\n",
    "    ),\n",
    "    omit = years_to_omit, # Specify the rows to omit based on coefficient names\n",
    "    covariate.labels = c(\"(Intercept)\", \"log(Anthropic Upstream)\"),\n",
    "    intercept.bottom = FALSE,\n",
    "    notes = \"Standard errors are shown in parentheses.\", # Add notes\n",
    "    out = \"output_table.tex\" # Specify the output file path\n",
    ")"
   ]
  },
  {
   "cell_type": "markdown",
   "metadata": {},
   "source": [
    "## 7.2 Quintiles of Time"
   ]
  },
  {
   "cell_type": "code",
   "execution_count": 277,
   "metadata": {
    "vscode": {
     "languageId": "r"
    }
   },
   "outputs": [
    {
     "name": "stderr",
     "output_type": "stream",
     "text": [
      "mutate: new variable 'subset' (character) with 4 unique values and 0% NA\n",
      "filter: removed 54,317 rows (74%), 18,730 rows remaining\n",
      "filter: removed 54,317 rows (74%), 18,730 rows remaining\n",
      "filter: removed 54,317 rows (74%), 18,730 rows remaining\n",
      "filter: removed 56,190 rows (77%), 16,857 rows remaining\n"
     ]
    }
   ],
   "source": [
    "panel_time <- panel %>% mutate(\n",
    "    subset = case_when(\n",
    "        year %in% 1985:1994 ~ \"Q1\",\n",
    "        year %in% 1995:2004 ~ \"Q2\",\n",
    "        year %in% 2005:2014 ~ \"Q3\",\n",
    "        year %in% 2015:2023 ~ \"Q4\",\n",
    "        TRUE ~ NA_character_ # Default case if year does not match any range\n",
    "    )\n",
    ")\n",
    "panel_time_q1 <- panel_time %>% filter(subset == 'Q1')\n",
    "panel_time_q2 <- panel_time %>% filter(subset == 'Q2')\n",
    "panel_time_q3 <- panel_time %>% filter(subset == 'Q3')\n",
    "panel_time_q4 <- panel_time %>% filter(subset == 'Q4')"
   ]
  },
  {
   "cell_type": "code",
   "execution_count": 278,
   "metadata": {
    "vscode": {
     "languageId": "r"
    }
   },
   "outputs": [],
   "source": [
    "# 1. Set the multiple formulas\n",
    "regressors <- list(\n",
    "  formula_water = log_water_basin_km2 ~ log_antropic_upstream_km2 + factor(year),\n",
    "  formula_fire = log_fire_basin_km2 ~ log_antropic_upstream_km2 + factor(year)\n",
    ")\n",
    "\n",
    "# 2. Lists to append the objects\n",
    "models <- list()\n",
    "vcov_list <- list()"
   ]
  },
  {
   "cell_type": "markdown",
   "metadata": {},
   "source": [
    "### 7.3.1 Water"
   ]
  },
  {
   "cell_type": "code",
   "execution_count": 279,
   "metadata": {
    "vscode": {
     "languageId": "r"
    }
   },
   "outputs": [],
   "source": [
    "## Model 1\n",
    "i = 1\n",
    "data = panel_time_q1\n",
    "models[[i]] <- plm(\n",
    "    formula = regressors[[1]], data = data, \n",
    "    index = c(\"wts_cd_pfafstetterbasin\", \"year\"), model = \"fd\"\n",
    ")\n",
    "vcov_list[[i]] <- plm::vcovHC(\n",
    "    models[[i]], method = \"arellano\", type = \"HC1\",\n",
    "    cluster = \"group\", group = data$level5\n",
    ")\n",
    "\n",
    "## Model 2\n",
    "i = 2\n",
    "data = panel_time_q2\n",
    "models[[i]] <- plm(\n",
    "    formula = regressors[[1]], data = data, \n",
    "    index = c(\"wts_cd_pfafstetterbasin\", \"year\"), model = \"fd\"\n",
    ")\n",
    "vcov_list[[i]] <- plm::vcovHC(\n",
    "    models[[i]], method = \"arellano\", type = \"HC1\",\n",
    "    cluster = \"group\", group = data$level5\n",
    ")\n",
    "\n",
    "## Model 3\n",
    "i = 3\n",
    "data = panel_time_q3\n",
    "models[[i]] <- plm(\n",
    "    formula = regressors[[1]], data = data, \n",
    "    index = c(\"wts_cd_pfafstetterbasin\", \"year\"), model = \"fd\"\n",
    ")\n",
    "vcov_list[[i]] <- plm::vcovHC(\n",
    "    models[[i]], method = \"arellano\", type = \"HC1\",\n",
    "    cluster = \"group\", group = data$level5\n",
    ")\n",
    "\n",
    "## Model 4\n",
    "i = 4\n",
    "data = panel_time_q4\n",
    "models[[i]] <- plm(\n",
    "    formula = regressors[[1]], data = data, \n",
    "    index = c(\"wts_cd_pfafstetterbasin\", \"year\"), model = \"fd\"\n",
    ")\n",
    "vcov_list[[i]] <- plm::vcovHC(\n",
    "    models[[i]], method = \"arellano\", type = \"HC1\",\n",
    "    cluster = \"group\", group = data$level5\n",
    ")"
   ]
  },
  {
   "cell_type": "code",
   "execution_count": 280,
   "metadata": {
    "vscode": {
     "languageId": "r"
    }
   },
   "outputs": [
    {
     "name": "stdout",
     "output_type": "stream",
     "text": [
      "\n",
      "% Table created by stargazer v.5.2.3 by Marek Hlavac, Social Policy Institute. E-mail: marek.hlavac at gmail.com\n",
      "% Date and time: Wed, Feb 05, 2025 - 11:50:44\n",
      "% Requires LaTeX packages: dcolumn \n",
      "\\begin{table}[!htbp] \\centering \n",
      "  \\caption{} \n",
      "  \\label{} \n",
      "\\begin{tabular}{@{\\extracolsep{5pt}}lD{.}{.}{-3} D{.}{.}{-3} D{.}{.}{-3} D{.}{.}{-3} } \n",
      "\\\\[-1.8ex]\\hline \n",
      "\\hline \\\\[-1.8ex] \n",
      "\\\\[-1.8ex] & \\multicolumn{1}{c}{(1)} & \\multicolumn{1}{c}{(2)} & \\multicolumn{1}{c}{(3)} & \\multicolumn{1}{c}{(4)}\\\\ \n",
      "\\hline \\\\[-1.8ex] \n",
      " (Intercept) & -0.061^{***} & -0.038^{***} & 0.037^{***} & -0.021^{***} \\\\ \n",
      "  & (0.005) & (0.002) & (0.003) & (0.002) \\\\ \n",
      "  log(Anthropic Upstream) & -0.360^{*} & -0.241^{**} & -1.274^{***} & -0.377^{***} \\\\ \n",
      "  & (0.194) & (0.103) & (0.364) & (0.093) \\\\ \n",
      " \\hline \\\\[-1.8ex] \n",
      "Subset & 1985-1994 & 1995-2004 & 2005-2014 & 2015-2023 \\\\ \n",
      "Cluster & Level 5 & Level 5 & Level 5 & Level 5 \\\\ \n",
      "Entity FE & Yes & Yes & Yes & Yes \\\\ \n",
      "Year Dummy & Yes & Yes & Yes & Yes \\\\ \n",
      "Observations & \\multicolumn{1}{c}{16,857} & \\multicolumn{1}{c}{16,857} & \\multicolumn{1}{c}{16,857} & \\multicolumn{1}{c}{14,984} \\\\ \n",
      "Adjusted R$^{2}$ & \\multicolumn{1}{c}{0.132} & \\multicolumn{1}{c}{0.079} & \\multicolumn{1}{c}{0.114} & \\multicolumn{1}{c}{0.080} \\\\ \n",
      "\\hline \n",
      "\\hline \\\\[-1.8ex] \n",
      "\\textit{Note:}  & \\multicolumn{4}{r}{$^{*}$p$<$0.1; $^{**}$p$<$0.05; $^{***}$p$<$0.01} \\\\ \n",
      " & \\multicolumn{4}{r}{Standard errors are shown in parentheses.} \\\\ \n",
      "\\end{tabular} \n",
      "\\end{table} \n"
     ]
    }
   ],
   "source": [
    "# Create a sequence of years from 1986 to 2023\n",
    "years <- 1986:2023\n",
    "years_to_omit <- paste0(\"factor\\\\(year\\\\)\", years)\n",
    "\n",
    "# Use the list in the stargazer function\n",
    "stargazer(\n",
    "    models[[1]], models[[2]], models[[3]], models[[4]],  # Include all models\n",
    "    type = \"latex\", # Output as LaTeX\n",
    "    se = lapply(vcov_list, function(x) sqrt(diag(x))), # Extract robust SEs\n",
    "    align = TRUE,\n",
    "    digits = 3,\n",
    "    no.space = TRUE,\n",
    "    dep.var.labels.include = FALSE, # Do not include default dependent variable labels\n",
    "    dep.var.caption = \"\", # Remove the \"Dependent variable:\" text\n",
    "    #column.labels = c(\"log(Water Area)\", \"log(Fire Area)\"), # Specify dependent variables above model numbers\n",
    "    #column.separate = c(2, 2), # Group columns by dependent variable\n",
    "    omit.stat = c(\"f\", \"ser\", \"rsq\"), # Omit F-stat and SER if needed\n",
    "    multicolumn = TRUE,\n",
    "    add.lines = list(\n",
    "        c('Subset', \"1985-1994\", \"1995-2004\", \"2005-2014\", \"2015-2023\"),\n",
    "        c(\"Cluster\", \"Level 5\", \"Level 5\", \"Level 5\", \"Level 5\"), # Indicate clustering\n",
    "        c(\"Entity FE\", \"Yes\", \"Yes\", \"Yes\", \"Yes\"), # Add fixed effects line\n",
    "        c('Year Dummy', \"Yes\", \"Yes\", \"Yes\", \"Yes\")\n",
    "    ),\n",
    "    omit = years_to_omit, # Specify the rows to omit based on coefficient names\n",
    "    covariate.labels = c(\"(Intercept)\", \"log(Anthropic Upstream)\"),\n",
    "    intercept.bottom = FALSE,\n",
    "    flip = TRUE,\n",
    "    notes = \"Standard errors are shown in parentheses.\", # Add notes\n",
    "    out = \"output_table.tex\" # Specify the output file path\n",
    ")"
   ]
  },
  {
   "cell_type": "markdown",
   "metadata": {},
   "source": [
    "### 7.3.2 Fire"
   ]
  },
  {
   "cell_type": "code",
   "execution_count": 281,
   "metadata": {
    "vscode": {
     "languageId": "r"
    }
   },
   "outputs": [],
   "source": [
    "## Model 1\n",
    "i = 1\n",
    "data = panel_time_q1\n",
    "models[[i]] <- plm(\n",
    "    formula = regressors[[2]], data = data, \n",
    "    index = c(\"wts_cd_pfafstetterbasin\", \"year\"), model = \"fd\"\n",
    ")\n",
    "vcov_list[[i]] <- plm::vcovHC(\n",
    "    models[[i]], method = \"arellano\", type = \"HC1\",\n",
    "    cluster = \"group\", group = data$level5\n",
    ")\n",
    "\n",
    "## Model 2\n",
    "i = 2\n",
    "data = panel_time_q2\n",
    "models[[i]] <- plm(\n",
    "    formula = regressors[[2]], data = data, \n",
    "    index = c(\"wts_cd_pfafstetterbasin\", \"year\"), model = \"fd\"\n",
    ")\n",
    "vcov_list[[i]] <- plm::vcovHC(\n",
    "    models[[i]], method = \"arellano\", type = \"HC1\",\n",
    "    cluster = \"group\", group = data$level5\n",
    ")\n",
    "\n",
    "## Model 3\n",
    "i = 3\n",
    "data = panel_time_q3\n",
    "models[[i]] <- plm(\n",
    "    formula = regressors[[2]], data = data, \n",
    "    index = c(\"wts_cd_pfafstetterbasin\", \"year\"), model = \"fd\"\n",
    ")\n",
    "vcov_list[[i]] <- plm::vcovHC(\n",
    "    models[[i]], method = \"arellano\", type = \"HC1\",\n",
    "    cluster = \"group\", group = data$level5\n",
    ")\n",
    "\n",
    "## Model 4\n",
    "i = 4\n",
    "data = panel_time_q4\n",
    "models[[i]] <- plm(\n",
    "    formula = regressors[[2]], data = data, \n",
    "    index = c(\"wts_cd_pfafstetterbasin\", \"year\"), model = \"fd\"\n",
    ")\n",
    "vcov_list[[i]] <- plm::vcovHC(\n",
    "    models[[i]], method = \"arellano\", type = \"HC1\",\n",
    "    cluster = \"group\", group = data$level5\n",
    ")"
   ]
  },
  {
   "cell_type": "code",
   "execution_count": 282,
   "metadata": {
    "vscode": {
     "languageId": "r"
    }
   },
   "outputs": [
    {
     "name": "stdout",
     "output_type": "stream",
     "text": [
      "\n",
      "% Table created by stargazer v.5.2.3 by Marek Hlavac, Social Policy Institute. E-mail: marek.hlavac at gmail.com\n",
      "% Date and time: Wed, Feb 05, 2025 - 11:50:45\n",
      "% Requires LaTeX packages: dcolumn \n",
      "\\begin{table}[!htbp] \\centering \n",
      "  \\caption{} \n",
      "  \\label{} \n",
      "\\begin{tabular}{@{\\extracolsep{5pt}}lD{.}{.}{-3} D{.}{.}{-3} D{.}{.}{-3} D{.}{.}{-3} } \n",
      "\\\\[-1.8ex]\\hline \n",
      "\\hline \\\\[-1.8ex] \n",
      "\\\\[-1.8ex] & \\multicolumn{1}{c}{(1)} & \\multicolumn{1}{c}{(2)} & \\multicolumn{1}{c}{(3)} & \\multicolumn{1}{c}{(4)}\\\\ \n",
      "\\hline \\\\[-1.8ex] \n",
      " (Intercept) & -0.058^{***} & -0.018^{***} & -0.094^{***} & -0.057^{***} \\\\ \n",
      "  & (0.005) & (0.003) & (0.004) & (0.004) \\\\ \n",
      "  log(Anthropic Upstream) & 0.620^{***} & 0.296^{***} & 0.477 & 0.738^{***} \\\\ \n",
      "  & (0.173) & (0.081) & (0.364) & (0.221) \\\\ \n",
      " \\hline \\\\[-1.8ex] \n",
      "Subset & 1985-1994 & 1995-2004 & 2005-2014 & 2015-2023 \\\\ \n",
      "Cluster & Level 5 & Level 5 & Level 5 & Level 5 \\\\ \n",
      "Entity FE & Yes & Yes & Yes & Yes \\\\ \n",
      "Year Dummy & Yes & Yes & Yes & Yes \\\\ \n",
      "Observations & \\multicolumn{1}{c}{16,857} & \\multicolumn{1}{c}{16,857} & \\multicolumn{1}{c}{16,857} & \\multicolumn{1}{c}{14,984} \\\\ \n",
      "Adjusted R$^{2}$ & \\multicolumn{1}{c}{0.202} & \\multicolumn{1}{c}{0.164} & \\multicolumn{1}{c}{0.052} & \\multicolumn{1}{c}{0.140} \\\\ \n",
      "\\hline \n",
      "\\hline \\\\[-1.8ex] \n",
      "\\textit{Note:}  & \\multicolumn{4}{r}{$^{*}$p$<$0.1; $^{**}$p$<$0.05; $^{***}$p$<$0.01} \\\\ \n",
      " & \\multicolumn{4}{r}{Standard errors are shown in parentheses.} \\\\ \n",
      "\\end{tabular} \n",
      "\\end{table} \n"
     ]
    }
   ],
   "source": [
    "# Create a sequence of years from 1986 to 2023\n",
    "years <- 1986:2023\n",
    "years_to_omit <- paste0(\"factor\\\\(year\\\\)\", years)\n",
    "\n",
    "# Use the list in the stargazer function\n",
    "stargazer(\n",
    "    models[[1]], models[[2]], models[[3]], models[[4]],  # Include all models\n",
    "    type = \"latex\", # Output as LaTeX\n",
    "    se = lapply(vcov_list, function(x) sqrt(diag(x))), # Extract robust SEs\n",
    "    align = TRUE,\n",
    "    digits = 3,\n",
    "    no.space = TRUE,\n",
    "    dep.var.labels.include = FALSE, # Do not include default dependent variable labels\n",
    "    dep.var.caption = \"\", # Remove the \"Dependent variable:\" text\n",
    "    #column.labels = c(\"log(Water Area)\", \"log(Fire Area)\"), # Specify dependent variables above model numbers\n",
    "    #column.separate = c(2, 2), # Group columns by dependent variable\n",
    "    omit.stat = c(\"f\", \"ser\", \"rsq\"), # Omit F-stat and SER if needed\n",
    "    multicolumn = TRUE,\n",
    "    add.lines = list(\n",
    "        c('Subset', \"1985-1994\", \"1995-2004\", \"2005-2014\", \"2015-2023\"),\n",
    "        c(\"Cluster\", \"Level 5\", \"Level 5\", \"Level 5\", \"Level 5\"), # Indicate clustering\n",
    "        c(\"Entity FE\", \"Yes\", \"Yes\", \"Yes\", \"Yes\"), # Add fixed effects line\n",
    "        c('Year Dummy', \"Yes\", \"Yes\", \"Yes\", \"Yes\")\n",
    "    ),\n",
    "    omit = years_to_omit, # Specify the rows to omit based on coefficient names\n",
    "    covariate.labels = c(\"(Intercept)\", \"log(Anthropic Upstream)\"),\n",
    "    intercept.bottom = FALSE,\n",
    "    flip = TRUE,\n",
    "    notes = \"Standard errors are shown in parentheses.\", # Add notes\n",
    "    out = \"output_table.tex\" # Specify the output file path\n",
    ")"
   ]
  },
  {
   "cell_type": "markdown",
   "metadata": {},
   "source": [
    "## 7.3 Most Relevant Level 3 Basins"
   ]
  },
  {
   "cell_type": "code",
   "execution_count": 283,
   "metadata": {
    "vscode": {
     "languageId": "r"
    }
   },
   "outputs": [
    {
     "name": "stderr",
     "output_type": "stream",
     "text": [
      "mutate: converted 'level3' from double to character (0 new NA)\n",
      "mutate: converted 'level3' from character to list (0 new NA)\n",
      "select: no changes\n"
     ]
    }
   ],
   "source": [
    "panel <- panel %>% mutate(level3 = substr(wts_cd_pfafstetterbasin, 1, 3))\n",
    "panel <- panel %>% mutate(level3 = lapply(level3, function(x) as.double(x)))\n",
    "panel$level3 <- unlist(panel$level3)\n",
    "panel <- panel %>% select(1:4, level3, everything())"
   ]
  },
  {
   "cell_type": "code",
   "execution_count": 284,
   "metadata": {
    "vscode": {
     "languageId": "r"
    }
   },
   "outputs": [
    {
     "data": {
      "text/html": [
       "8"
      ],
      "text/latex": [
       "8"
      ],
      "text/markdown": [
       "8"
      ],
      "text/plain": [
       "[1] 8"
      ]
     },
     "metadata": {},
     "output_type": "display_data"
    }
   ],
   "source": [
    "list_level3 <- panel$level3 %>% unique()\n",
    "no_unique_level3 <- length(list_level3)\n",
    "no_unique_level3"
   ]
  },
  {
   "cell_type": "code",
   "execution_count": 285,
   "metadata": {
    "vscode": {
     "languageId": "r"
    }
   },
   "outputs": [
    {
     "data": {
      "text/html": [
       "<style>\n",
       ".list-inline {list-style: none; margin:0; padding: 0}\n",
       ".list-inline>li {display: inline-block}\n",
       ".list-inline>li:not(:last-child)::after {content: \"\\00b7\"; padding: 0 .5ex}\n",
       "</style>\n",
       "<ol class=list-inline><li>891</li><li>893</li><li>894</li><li>895</li><li>896</li><li>897</li><li>898</li><li>899</li></ol>\n"
      ],
      "text/latex": [
       "\\begin{enumerate*}\n",
       "\\item 891\n",
       "\\item 893\n",
       "\\item 894\n",
       "\\item 895\n",
       "\\item 896\n",
       "\\item 897\n",
       "\\item 898\n",
       "\\item 899\n",
       "\\end{enumerate*}\n"
      ],
      "text/markdown": [
       "1. 891\n",
       "2. 893\n",
       "3. 894\n",
       "4. 895\n",
       "5. 896\n",
       "6. 897\n",
       "7. 898\n",
       "8. 899\n",
       "\n",
       "\n"
      ],
      "text/plain": [
       "[1] 891 893 894 895 896 897 898 899"
      ]
     },
     "metadata": {},
     "output_type": "display_data"
    }
   ],
   "source": [
    "list_level3"
   ]
  },
  {
   "cell_type": "code",
   "execution_count": 286,
   "metadata": {
    "vscode": {
     "languageId": "r"
    }
   },
   "outputs": [],
   "source": [
    "# Assuming panel is your main dataset and list_level4 contains the level4 codes\n",
    "for (level3_code in list_level3) {\n",
    "    subset_panel <- panel[panel$level3 == level3_code, ]\n",
    "    dataset_name <- paste0(\"panel_\", level3_code)\n",
    "    assign(dataset_name, subset_panel)\n",
    "}"
   ]
  },
  {
   "cell_type": "code",
   "execution_count": 287,
   "metadata": {
    "vscode": {
     "languageId": "r"
    }
   },
   "outputs": [
    {
     "data": {
      "text/html": [
       "<style>\n",
       ".list-inline {list-style: none; margin:0; padding: 0}\n",
       ".list-inline>li {display: inline-block}\n",
       ".list-inline>li:not(:last-child)::after {content: \"\\00b7\"; padding: 0 .5ex}\n",
       "</style>\n",
       "<ol class=list-inline><li>'wts_cd_pfafstetterbasin'</li><li>'year'</li><li>'level5'</li><li>'level4'</li><li>'level3'</li><li>'water_basin_km2'</li><li>'wetland_basin_km2'</li><li>'fire_basin_km2'</li><li>'antropic_upstream_km2'</li><li>'antropic_downstream_km2'</li><li>'area_basin_km2'</li><li>'area_upstream_km2'</li><li>'area_downstream_km2'</li><li>'water_share'</li><li>'wetland_share'</li><li>'fire_share'</li><li>'antropic_upstream_share'</li><li>'antropic_downstream_share'</li><li>'upstream_rainfall'</li><li>'in_biome'</li><li>'closed_basin'</li><li>'log_water_basin_km2'</li><li>'log_wetland_basin_km2'</li><li>'log_fire_basin_km2'</li><li>'log_antropic_upstream_km2'</li><li>'log_antropic_downstream_km2'</li><li>'log_upstream_rainfall'</li></ol>\n"
      ],
      "text/latex": [
       "\\begin{enumerate*}\n",
       "\\item 'wts\\_cd\\_pfafstetterbasin'\n",
       "\\item 'year'\n",
       "\\item 'level5'\n",
       "\\item 'level4'\n",
       "\\item 'level3'\n",
       "\\item 'water\\_basin\\_km2'\n",
       "\\item 'wetland\\_basin\\_km2'\n",
       "\\item 'fire\\_basin\\_km2'\n",
       "\\item 'antropic\\_upstream\\_km2'\n",
       "\\item 'antropic\\_downstream\\_km2'\n",
       "\\item 'area\\_basin\\_km2'\n",
       "\\item 'area\\_upstream\\_km2'\n",
       "\\item 'area\\_downstream\\_km2'\n",
       "\\item 'water\\_share'\n",
       "\\item 'wetland\\_share'\n",
       "\\item 'fire\\_share'\n",
       "\\item 'antropic\\_upstream\\_share'\n",
       "\\item 'antropic\\_downstream\\_share'\n",
       "\\item 'upstream\\_rainfall'\n",
       "\\item 'in\\_biome'\n",
       "\\item 'closed\\_basin'\n",
       "\\item 'log\\_water\\_basin\\_km2'\n",
       "\\item 'log\\_wetland\\_basin\\_km2'\n",
       "\\item 'log\\_fire\\_basin\\_km2'\n",
       "\\item 'log\\_antropic\\_upstream\\_km2'\n",
       "\\item 'log\\_antropic\\_downstream\\_km2'\n",
       "\\item 'log\\_upstream\\_rainfall'\n",
       "\\end{enumerate*}\n"
      ],
      "text/markdown": [
       "1. 'wts_cd_pfafstetterbasin'\n",
       "2. 'year'\n",
       "3. 'level5'\n",
       "4. 'level4'\n",
       "5. 'level3'\n",
       "6. 'water_basin_km2'\n",
       "7. 'wetland_basin_km2'\n",
       "8. 'fire_basin_km2'\n",
       "9. 'antropic_upstream_km2'\n",
       "10. 'antropic_downstream_km2'\n",
       "11. 'area_basin_km2'\n",
       "12. 'area_upstream_km2'\n",
       "13. 'area_downstream_km2'\n",
       "14. 'water_share'\n",
       "15. 'wetland_share'\n",
       "16. 'fire_share'\n",
       "17. 'antropic_upstream_share'\n",
       "18. 'antropic_downstream_share'\n",
       "19. 'upstream_rainfall'\n",
       "20. 'in_biome'\n",
       "21. 'closed_basin'\n",
       "22. 'log_water_basin_km2'\n",
       "23. 'log_wetland_basin_km2'\n",
       "24. 'log_fire_basin_km2'\n",
       "25. 'log_antropic_upstream_km2'\n",
       "26. 'log_antropic_downstream_km2'\n",
       "27. 'log_upstream_rainfall'\n",
       "\n",
       "\n"
      ],
      "text/plain": [
       " [1] \"wts_cd_pfafstetterbasin\"     \"year\"                       \n",
       " [3] \"level5\"                      \"level4\"                     \n",
       " [5] \"level3\"                      \"water_basin_km2\"            \n",
       " [7] \"wetland_basin_km2\"           \"fire_basin_km2\"             \n",
       " [9] \"antropic_upstream_km2\"       \"antropic_downstream_km2\"    \n",
       "[11] \"area_basin_km2\"              \"area_upstream_km2\"          \n",
       "[13] \"area_downstream_km2\"         \"water_share\"                \n",
       "[15] \"wetland_share\"               \"fire_share\"                 \n",
       "[17] \"antropic_upstream_share\"     \"antropic_downstream_share\"  \n",
       "[19] \"upstream_rainfall\"           \"in_biome\"                   \n",
       "[21] \"closed_basin\"                \"log_water_basin_km2\"        \n",
       "[23] \"log_wetland_basin_km2\"       \"log_fire_basin_km2\"         \n",
       "[25] \"log_antropic_upstream_km2\"   \"log_antropic_downstream_km2\"\n",
       "[27] \"log_upstream_rainfall\"      "
      ]
     },
     "metadata": {},
     "output_type": "display_data"
    }
   ],
   "source": [
    "colnames(panel_891)"
   ]
  },
  {
   "cell_type": "code",
   "execution_count": 288,
   "metadata": {
    "vscode": {
     "languageId": "r"
    }
   },
   "outputs": [],
   "source": [
    "# 1. Set the multiple formulas\n",
    "regressors <- list(\n",
    "  formula_water = log_water_basin_km2 ~ log_antropic_upstream_km2 + factor(year),\n",
    "  formula_fire = log_fire_basin_km2 ~ log_antropic_upstream_km2 + factor(year)\n",
    ")\n",
    "\n",
    "# 2. Lists to append the objects\n",
    "models <- list()\n",
    "vcov_list <- list()"
   ]
  },
  {
   "cell_type": "code",
   "execution_count": 289,
   "metadata": {
    "vscode": {
     "languageId": "r"
    }
   },
   "outputs": [
    {
     "data": {
      "text/html": [
       "<style>\n",
       ".list-inline {list-style: none; margin:0; padding: 0}\n",
       ".list-inline>li {display: inline-block}\n",
       ".list-inline>li:not(:last-child)::after {content: \"\\00b7\"; padding: 0 .5ex}\n",
       "</style>\n",
       "<ol class=list-inline><li>891</li><li>893</li><li>894</li><li>895</li><li>896</li><li>897</li><li>898</li><li>899</li></ol>\n"
      ],
      "text/latex": [
       "\\begin{enumerate*}\n",
       "\\item 891\n",
       "\\item 893\n",
       "\\item 894\n",
       "\\item 895\n",
       "\\item 896\n",
       "\\item 897\n",
       "\\item 898\n",
       "\\item 899\n",
       "\\end{enumerate*}\n"
      ],
      "text/markdown": [
       "1. 891\n",
       "2. 893\n",
       "3. 894\n",
       "4. 895\n",
       "5. 896\n",
       "6. 897\n",
       "7. 898\n",
       "8. 899\n",
       "\n",
       "\n"
      ],
      "text/plain": [
       "[1] 891 893 894 895 896 897 898 899"
      ]
     },
     "metadata": {},
     "output_type": "display_data"
    }
   ],
   "source": [
    "# Assuming list_level3 contains the numbers 891 to 899\n",
    "list_level3\n",
    "\n",
    "# Initialize lists to store models and vcov matrices\n",
    "models <- list()\n",
    "vcov_list <- list()\n",
    "\n",
    "# Loop through each number in list_level3\n",
    "for (i in seq_along(list_level3)) {\n",
    "    # Construct the dataset name\n",
    "    dataset_name <- paste0(\"panel_\", list_level3[i])\n",
    "    \n",
    "    # Get the dataset\n",
    "    data <- get(dataset_name)\n",
    "    \n",
    "    # Estimate the model\n",
    "    models[[i]] <- plm(\n",
    "        formula = regressors[[1]], data = data, \n",
    "        index = c(\"wts_cd_pfafstetterbasin\", \"year\"), model = \"fd\"\n",
    "    )\n",
    "    \n",
    "    # Estimate the vcov matrix\n",
    "    vcov_list[[i]] <- plm::vcovHC(\n",
    "        models[[i]], method = \"arellano\", type = \"HC1\",\n",
    "        cluster = \"group\", group = data$level5\n",
    "    )\n",
    "}"
   ]
  },
  {
   "cell_type": "code",
   "execution_count": 290,
   "metadata": {
    "vscode": {
     "languageId": "r"
    }
   },
   "outputs": [
    {
     "name": "stdout",
     "output_type": "stream",
     "text": [
      "\n",
      "====================================================================\n",
      "                            (1)         (2)        (3)        (4)   \n",
      "--------------------------------------------------------------------\n",
      "(Intercept)              -0.050***    -0.005*   -0.065***  -0.032***\n",
      "                          (0.009)     (0.003)    (0.010)    (0.002) \n",
      "log(Anthropic Upstream)    -1.439               -0.815***  -0.227** \n",
      "                          (0.972)                (0.239)    (0.109) \n",
      "--------------------------------------------------------------------\n",
      "Observations               1,178        266       1,672     16,074  \n",
      "Adjusted R2                0.407       0.356      0.428      0.207  \n",
      "====================================================================\n",
      "Note:                                    *p<0.1; **p<0.05; ***p<0.01\n",
      "                           Standard errors are shown in parentheses.\n"
     ]
    }
   ],
   "source": [
    "# Years to omit\n",
    "years <- 1986:2023\n",
    "years_to_omit <- paste0(\"factor\\\\(year\\\\)\", years)\n",
    "\n",
    "# Check standard errors\n",
    "se_list <- lapply(vcov_list[1:8], function(x) sqrt(diag(x)))\n",
    "\n",
    "# Simplified stargazer call\n",
    "table <- stargazer(\n",
    "    models[[1]], models[[2]], models[[3]], models[[4]], \n",
    "    type = \"text\",\n",
    "    se = se_list,\n",
    "    align = TRUE,\n",
    "    digits = 3,\n",
    "    no.space = TRUE,\n",
    "    dep.var.labels.include = FALSE,\n",
    "    dep.var.caption = \"\",\n",
    "    omit.stat = c(\"f\", \"ser\", \"rsq\"),\n",
    "    multicolumn = TRUE,\n",
    "    covariate.labels = c(\"(Intercept)\", \"log(Anthropic Upstream)\"),\n",
    "    intercept.bottom = FALSE,\n",
    "    flip = TRUE,\n",
    "    omit = years_to_omit, # Specify the rows to omit based on coefficient names\n",
    "    notes = \"Standard errors are shown in parentheses.\",\n",
    "    out = \"output_table.tex\"\n",
    ")"
   ]
  },
  {
   "cell_type": "code",
   "execution_count": 291,
   "metadata": {
    "vscode": {
     "languageId": "r"
    }
   },
   "outputs": [
    {
     "name": "stdout",
     "output_type": "stream",
     "text": [
      "\n",
      "====================================================================\n",
      "                            (1)        (2)        (3)        (4)    \n",
      "--------------------------------------------------------------------\n",
      "(Intercept)               -0.009    -0.032***  -0.037***  -0.014*** \n",
      "                          (0.009)    (0.003)    (0.010)    (0.002)  \n",
      "log(Anthropic Upstream)   -0.140      0.059      0.069      -0.095  \n",
      "                          (0.972)               (0.239)    (0.109)  \n",
      "--------------------------------------------------------------------\n",
      "Observations              23,598      3,534      3,762      21,090  \n",
      "Adjusted R2                0.071      0.214      0.261      0.091   \n",
      "====================================================================\n",
      "Note:                                    *p<0.1; **p<0.05; ***p<0.01\n",
      "                           Standard errors are shown in parentheses.\n"
     ]
    }
   ],
   "source": [
    "# Years to omit\n",
    "years <- 1986:2023\n",
    "years_to_omit <- paste0(\"factor\\\\(year\\\\)\", years)\n",
    "\n",
    "# Check standard errors\n",
    "se_list <- lapply(vcov_list[1:8], function(x) sqrt(diag(x)))\n",
    "\n",
    "# Simplified stargazer call\n",
    "table <- stargazer(\n",
    "    models[[5]], models[[6]], models[[7]], models[[8]], \n",
    "    type = \"text\",\n",
    "    se = se_list,\n",
    "    align = TRUE,\n",
    "    digits = 3,\n",
    "    no.space = TRUE,\n",
    "    dep.var.labels.include = FALSE,\n",
    "    dep.var.caption = \"\",\n",
    "    omit.stat = c(\"f\", \"ser\", \"rsq\"),\n",
    "    multicolumn = TRUE,\n",
    "    covariate.labels = c(\"(Intercept)\", \"log(Anthropic Upstream)\"),\n",
    "    intercept.bottom = FALSE,\n",
    "    flip = TRUE,\n",
    "    omit = years_to_omit, # Specify the rows to omit based on coefficient names\n",
    "    notes = \"Standard errors are shown in parentheses.\",\n",
    "    out = \"output_table.tex\"\n",
    ")"
   ]
  },
  {
   "cell_type": "code",
   "execution_count": 292,
   "metadata": {
    "vscode": {
     "languageId": "r"
    }
   },
   "outputs": [
    {
     "data": {
      "text/html": [
       "<style>\n",
       ".list-inline {list-style: none; margin:0; padding: 0}\n",
       ".list-inline>li {display: inline-block}\n",
       ".list-inline>li:not(:last-child)::after {content: \"\\00b7\"; padding: 0 .5ex}\n",
       "</style>\n",
       "<ol class=list-inline><li>891</li><li>893</li><li>894</li><li>895</li><li>896</li><li>897</li><li>898</li><li>899</li></ol>\n"
      ],
      "text/latex": [
       "\\begin{enumerate*}\n",
       "\\item 891\n",
       "\\item 893\n",
       "\\item 894\n",
       "\\item 895\n",
       "\\item 896\n",
       "\\item 897\n",
       "\\item 898\n",
       "\\item 899\n",
       "\\end{enumerate*}\n"
      ],
      "text/markdown": [
       "1. 891\n",
       "2. 893\n",
       "3. 894\n",
       "4. 895\n",
       "5. 896\n",
       "6. 897\n",
       "7. 898\n",
       "8. 899\n",
       "\n",
       "\n"
      ],
      "text/plain": [
       "[1] 891 893 894 895 896 897 898 899"
      ]
     },
     "metadata": {},
     "output_type": "display_data"
    }
   ],
   "source": [
    "# Assuming list_level3 contains the numbers 891 to 899\n",
    "list_level3\n",
    "\n",
    "# Initialize lists to store models and vcov matrices\n",
    "models <- list()\n",
    "vcov_list <- list()\n",
    "\n",
    "# Loop through each number in list_level3\n",
    "for (i in seq_along(list_level3)) {\n",
    "    # Construct the dataset name\n",
    "    dataset_name <- paste0(\"panel_\", list_level3[i])\n",
    "    \n",
    "    # Get the dataset\n",
    "    data <- get(dataset_name)\n",
    "    \n",
    "    # Estimate the model\n",
    "    models[[i]] <- plm(\n",
    "        formula = regressors[[2]], data = data, \n",
    "        index = c(\"wts_cd_pfafstetterbasin\", \"year\"), model = \"fd\"\n",
    "    )\n",
    "    \n",
    "    # Estimate the vcov matrix\n",
    "    vcov_list[[i]] <- plm::vcovHC(\n",
    "        models[[i]], method = \"arellano\", type = \"HC1\",\n",
    "        cluster = \"group\", group = data$level5\n",
    "    )\n",
    "}"
   ]
  },
  {
   "cell_type": "code",
   "execution_count": 293,
   "metadata": {
    "vscode": {
     "languageId": "r"
    }
   },
   "outputs": [
    {
     "name": "stderr",
     "output_type": "stream",
     "text": [
      "Warning message in sqrt(diag(x)):\n",
      "\"NaNs produced\"\n"
     ]
    },
    {
     "name": "stdout",
     "output_type": "stream",
     "text": [
      "\n",
      "====================================================================\n",
      "                             (1)          (2)       (3)       (4)   \n",
      "--------------------------------------------------------------------\n",
      "(Intercept)               -0.046***      0.000    -0.012   -0.035***\n",
      "                           (0.013)                (0.007)   (0.003) \n",
      "log(Anthropic Upstream)    5.994**                0.720**    0.312  \n",
      "                           (2.611)                (0.307)   (0.191) \n",
      "--------------------------------------------------------------------\n",
      "Observations                1,178         266      1,672    16,074  \n",
      "Adjusted R2                 0.448        0.595     0.401     0.202  \n",
      "====================================================================\n",
      "Note:                                    *p<0.1; **p<0.05; ***p<0.01\n",
      "                           Standard errors are shown in parentheses.\n"
     ]
    }
   ],
   "source": [
    "# Years to omit\n",
    "years <- 1986:2023\n",
    "years_to_omit <- paste0(\"factor\\\\(year\\\\)\", years)\n",
    "\n",
    "# Check standard errors\n",
    "se_list <- lapply(vcov_list[1:8], function(x) sqrt(diag(x)))\n",
    "\n",
    "# Simplified stargazer call\n",
    "table <- stargazer(\n",
    "    models[[1]], models[[2]], models[[3]], models[[4]], \n",
    "    type = \"text\",\n",
    "    se = se_list,\n",
    "    align = TRUE,\n",
    "    digits = 3,\n",
    "    no.space = TRUE,\n",
    "    dep.var.labels.include = FALSE,\n",
    "    dep.var.caption = \"\",\n",
    "    omit.stat = c(\"f\", \"ser\", \"rsq\"),\n",
    "    multicolumn = TRUE,\n",
    "    covariate.labels = c(\"(Intercept)\", \"log(Anthropic Upstream)\"),\n",
    "    intercept.bottom = FALSE,\n",
    "    flip = TRUE,\n",
    "    omit = years_to_omit, # Specify the rows to omit based on coefficient names\n",
    "    notes = \"Standard errors are shown in parentheses.\",\n",
    "    out = \"output_table.tex\"\n",
    ")"
   ]
  },
  {
   "cell_type": "code",
   "execution_count": 294,
   "metadata": {
    "vscode": {
     "languageId": "r"
    }
   },
   "outputs": [
    {
     "name": "stderr",
     "output_type": "stream",
     "text": [
      "Warning message in sqrt(diag(x)):\n",
      "\"NaNs produced\"\n"
     ]
    },
    {
     "name": "stdout",
     "output_type": "stream",
     "text": [
      "\n",
      "====================================================================\n",
      "                             (1)          (2)       (3)       (4)   \n",
      "--------------------------------------------------------------------\n",
      "(Intercept)               -0.038***      0.011   -0.018**  -0.039***\n",
      "                           (0.013)                (0.007)   (0.003) \n",
      "log(Anthropic Upstream)     0.366        0.040    -0.191   0.743*** \n",
      "                           (2.611)                (0.307)   (0.191) \n",
      "--------------------------------------------------------------------\n",
      "Observations                23,598       3,534     3,762    21,090  \n",
      "Adjusted R2                 0.205        0.357     0.184     0.158  \n",
      "====================================================================\n",
      "Note:                                    *p<0.1; **p<0.05; ***p<0.01\n",
      "                           Standard errors are shown in parentheses.\n"
     ]
    }
   ],
   "source": [
    "# Years to omit\n",
    "years <- 1986:2023\n",
    "years_to_omit <- paste0(\"factor\\\\(year\\\\)\", years)\n",
    "\n",
    "# Check standard errors\n",
    "se_list <- lapply(vcov_list[1:8], function(x) sqrt(diag(x)))\n",
    "\n",
    "# Simplified stargazer call\n",
    "table <- stargazer(\n",
    "    models[[5]], models[[6]], models[[7]], models[[8]], \n",
    "    type = \"text\",\n",
    "    se = se_list,\n",
    "    align = TRUE,\n",
    "    digits = 3,\n",
    "    no.space = TRUE,\n",
    "    dep.var.labels.include = FALSE,\n",
    "    dep.var.caption = \"\",\n",
    "    omit.stat = c(\"f\", \"ser\", \"rsq\"),\n",
    "    multicolumn = TRUE,\n",
    "    covariate.labels = c(\"(Intercept)\", \"log(Anthropic Upstream)\"),\n",
    "    intercept.bottom = FALSE,\n",
    "    flip = TRUE,\n",
    "    omit = years_to_omit, # Specify the rows to omit based on coefficient names\n",
    "    notes = \"Standard errors are shown in parentheses.\",\n",
    "    out = \"output_table.tex\"\n",
    ")"
   ]
  },
  {
   "cell_type": "code",
   "execution_count": 295,
   "metadata": {
    "vscode": {
     "languageId": "r"
    }
   },
   "outputs": [
    {
     "data": {
      "text/html": [
       "124.866666666667"
      ],
      "text/latex": [
       "124.866666666667"
      ],
      "text/markdown": [
       "124.866666666667"
      ],
      "text/plain": [
       "[1] 124.8667"
      ]
     },
     "metadata": {},
     "output_type": "display_data"
    }
   ],
   "source": [
    "1873/15"
   ]
  },
  {
   "cell_type": "markdown",
   "metadata": {},
   "source": [
    "## 7.4 Groups of Basins"
   ]
  },
  {
   "cell_type": "code",
   "execution_count": 296,
   "metadata": {
    "vscode": {
     "languageId": "r"
    }
   },
   "outputs": [
    {
     "name": "stderr",
     "output_type": "stream",
     "text": [
      "\u001b[1mRows: \u001b[22m\u001b[34m73047\u001b[39m \u001b[1mColumns: \u001b[22m\u001b[34m22\u001b[39m\n",
      "\u001b[36m--\u001b[39m \u001b[1mColumn specification\u001b[22m \u001b[36m--------------------------------------------------------\u001b[39m\n",
      "\u001b[1mDelimiter:\u001b[22m \",\"\n",
      "\u001b[31mchr\u001b[39m  (1): group\n",
      "\u001b[32mdbl\u001b[39m (21): wts_cd_pfafstetterbasin, year, level5, level4, level3, water_basin...\n",
      "\n",
      "\u001b[36mi\u001b[39m Use `spec()` to retrieve the full column specification for this data.\n",
      "\u001b[36mi\u001b[39m Specify the column types or set `show_col_types = FALSE` to quiet this message.\n",
      "mutate: new variable 'log_water_basin_km2' (double) with 17,215 unique values and 0% NA\n",
      "        new variable 'log_wetland_basin_km2' (double) with 27,802 unique values and 0% NA\n",
      "        new variable 'log_fire_basin_km2' (double) with 16,376 unique values and 0% NA\n",
      "        new variable 'log_antropic_upstream_km2' (double) with 27,429 unique values and 0% NA\n",
      "        new variable 'log_antropic_downstream_km2' (double) with 22,731 unique values and 0% NA\n",
      "        new variable 'log_upstream_rainfall' (double) with 32,990 unique values and 0% NA\n"
     ]
    },
    {
     "data": {
      "text/html": [
       "<table class=\"dataframe\">\n",
       "<caption>A data.frame: 73047 x 28</caption>\n",
       "<thead>\n",
       "\t<tr><th scope=col>wts_cd_pfafstetterbasin</th><th scope=col>year</th><th scope=col>level5</th><th scope=col>level4</th><th scope=col>level3</th><th scope=col>water_basin_km2</th><th scope=col>wetland_basin_km2</th><th scope=col>fire_basin_km2</th><th scope=col>antropic_upstream_km2</th><th scope=col>antropic_downstream_km2</th><th scope=col>...</th><th scope=col>upstream_rainfall</th><th scope=col>in_biome</th><th scope=col>closed_basin</th><th scope=col>group</th><th scope=col>log_water_basin_km2</th><th scope=col>log_wetland_basin_km2</th><th scope=col>log_fire_basin_km2</th><th scope=col>log_antropic_upstream_km2</th><th scope=col>log_antropic_downstream_km2</th><th scope=col>log_upstream_rainfall</th></tr>\n",
       "\t<tr><th scope=col>&lt;dbl&gt;</th><th scope=col>&lt;dbl&gt;</th><th scope=col>&lt;dbl&gt;</th><th scope=col>&lt;dbl&gt;</th><th scope=col>&lt;dbl&gt;</th><th scope=col>&lt;dbl&gt;</th><th scope=col>&lt;dbl&gt;</th><th scope=col>&lt;dbl&gt;</th><th scope=col>&lt;dbl&gt;</th><th scope=col>&lt;dbl&gt;</th><th scope=col>...</th><th scope=col>&lt;dbl&gt;</th><th scope=col>&lt;dbl&gt;</th><th scope=col>&lt;dbl&gt;</th><th scope=col>&lt;chr&gt;</th><th scope=col>&lt;dbl&gt;</th><th scope=col>&lt;dbl&gt;</th><th scope=col>&lt;dbl&gt;</th><th scope=col>&lt;dbl&gt;</th><th scope=col>&lt;dbl&gt;</th><th scope=col>&lt;dbl&gt;</th></tr>\n",
       "</thead>\n",
       "<tbody>\n",
       "\t<tr><td>891782</td><td>1985</td><td>89178</td><td>8917</td><td>891</td><td>8.4870</td><td>195.2496</td><td>  6.7707</td><td>0</td><td>0</td><td>...</td><td>0</td><td>0</td><td>1</td><td>G1</td><td>2.835136</td><td>5.967432</td><td>2.6111611</td><td>0</td><td>0</td><td>0</td></tr>\n",
       "\t<tr><td>891782</td><td>1986</td><td>89178</td><td>8917</td><td>891</td><td>8.8191</td><td>181.3527</td><td> 20.3463</td><td>0</td><td>0</td><td>...</td><td>0</td><td>0</td><td>1</td><td>G1</td><td>2.873266</td><td>5.893599</td><td>3.7066496</td><td>0</td><td>0</td><td>0</td></tr>\n",
       "\t<tr><td>891782</td><td>1987</td><td>89178</td><td>8917</td><td>891</td><td>9.2313</td><td>171.3231</td><td>  4.4928</td><td>0</td><td>0</td><td>...</td><td>0</td><td>0</td><td>1</td><td>G1</td><td>2.918668</td><td>5.836707</td><td>2.2077846</td><td>0</td><td>0</td><td>0</td></tr>\n",
       "\t<tr><td>891782</td><td>1988</td><td>89178</td><td>8917</td><td>891</td><td>9.0243</td><td>172.9323</td><td> 55.7037</td><td>0</td><td>0</td><td>...</td><td>0</td><td>0</td><td>1</td><td>G1</td><td>2.896124</td><td>5.846056</td><td>4.7132743</td><td>0</td><td>0</td><td>0</td></tr>\n",
       "\t<tr><td>891782</td><td>1989</td><td>89178</td><td>8917</td><td>891</td><td>8.8857</td><td>172.6758</td><td> 16.6122</td><td>0</td><td>0</td><td>...</td><td>0</td><td>0</td><td>1</td><td>G1</td><td>2.880742</td><td>5.844571</td><td>3.5041892</td><td>0</td><td>0</td><td>0</td></tr>\n",
       "\t<tr><td>891782</td><td>1990</td><td>89178</td><td>8917</td><td>891</td><td>8.5599</td><td>168.1218</td><td> 12.1068</td><td>0</td><td>0</td><td>...</td><td>0</td><td>0</td><td>1</td><td>G1</td><td>2.843630</td><td>5.817845</td><td>3.1886157</td><td>0</td><td>0</td><td>0</td></tr>\n",
       "\t<tr><td>891782</td><td>1991</td><td>89178</td><td>8917</td><td>891</td><td>8.5896</td><td>164.2545</td><td>  4.1067</td><td>0</td><td>0</td><td>...</td><td>0</td><td>0</td><td>1</td><td>G1</td><td>2.847071</td><td>5.794574</td><td>2.1202714</td><td>0</td><td>0</td><td>0</td></tr>\n",
       "\t<tr><td>891782</td><td>1992</td><td>89178</td><td>8917</td><td>891</td><td>9.4059</td><td>163.0755</td><td>  4.7988</td><td>0</td><td>0</td><td>...</td><td>0</td><td>0</td><td>1</td><td>G1</td><td>2.937298</td><td>5.787370</td><td>2.2721966</td><td>0</td><td>0</td><td>0</td></tr>\n",
       "\t<tr><td>891782</td><td>1993</td><td>89178</td><td>8917</td><td>891</td><td>9.4734</td><td>161.5419</td><td> 38.7567</td><td>0</td><td>0</td><td>...</td><td>0</td><td>0</td><td>1</td><td>G1</td><td>2.944409</td><td>5.777921</td><td>4.3506172</td><td>0</td><td>0</td><td>0</td></tr>\n",
       "\t<tr><td>891782</td><td>1994</td><td>89178</td><td>8917</td><td>891</td><td>9.3483</td><td>160.5717</td><td>  3.8754</td><td>0</td><td>0</td><td>...</td><td>0</td><td>0</td><td>1</td><td>G1</td><td>2.931190</td><td>5.771897</td><td>2.0640411</td><td>0</td><td>0</td><td>0</td></tr>\n",
       "\t<tr><td>891782</td><td>1995</td><td>89178</td><td>8917</td><td>891</td><td>8.9955</td><td>158.1984</td><td> 28.4643</td><td>0</td><td>0</td><td>...</td><td>0</td><td>0</td><td>1</td><td>G1</td><td>2.892947</td><td>5.757007</td><td>4.0421063</td><td>0</td><td>0</td><td>0</td></tr>\n",
       "\t<tr><td>891782</td><td>1996</td><td>89178</td><td>8917</td><td>891</td><td>8.5491</td><td>155.1258</td><td> 11.6172</td><td>0</td><td>0</td><td>...</td><td>0</td><td>0</td><td>1</td><td>G1</td><td>2.842376</td><td>5.737394</td><td>3.1474812</td><td>0</td><td>0</td><td>0</td></tr>\n",
       "\t<tr><td>891782</td><td>1997</td><td>89178</td><td>8917</td><td>891</td><td>8.2305</td><td>152.2755</td><td> 28.0440</td><td>0</td><td>0</td><td>...</td><td>0</td><td>0</td><td>1</td><td>G1</td><td>2.804664</td><td>5.718849</td><td>4.0272396</td><td>0</td><td>0</td><td>0</td></tr>\n",
       "\t<tr><td>891782</td><td>1998</td><td>89178</td><td>8917</td><td>891</td><td>8.4078</td><td>151.5924</td><td>  1.6668</td><td>0</td><td>0</td><td>...</td><td>0</td><td>0</td><td>1</td><td>G1</td><td>2.825825</td><td>5.714353</td><td>1.2838643</td><td>0</td><td>0</td><td>0</td></tr>\n",
       "\t<tr><td>891782</td><td>1999</td><td>89178</td><td>8917</td><td>891</td><td>8.4078</td><td>150.4809</td><td>325.8612</td><td>0</td><td>0</td><td>...</td><td>0</td><td>0</td><td>1</td><td>G1</td><td>2.825825</td><td>5.706994</td><td>6.4796211</td><td>0</td><td>0</td><td>0</td></tr>\n",
       "\t<tr><td>891782</td><td>2000</td><td>89178</td><td>8917</td><td>891</td><td>5.5161</td><td>153.6498</td><td>  3.0474</td><td>0</td><td>0</td><td>...</td><td>0</td><td>0</td><td>1</td><td>G1</td><td>2.408935</td><td>5.727834</td><td>1.8333300</td><td>0</td><td>0</td><td>0</td></tr>\n",
       "\t<tr><td>891782</td><td>2001</td><td>89178</td><td>8917</td><td>891</td><td>4.3542</td><td>156.4389</td><td>  3.6999</td><td>0</td><td>0</td><td>...</td><td>0</td><td>0</td><td>1</td><td>G1</td><td>2.177221</td><td>5.745823</td><td>2.0192346</td><td>0</td><td>0</td><td>0</td></tr>\n",
       "\t<tr><td>891782</td><td>2002</td><td>89178</td><td>8917</td><td>891</td><td>3.9348</td><td>156.4668</td><td> 23.6871</td><td>0</td><td>0</td><td>...</td><td>0</td><td>0</td><td>1</td><td>G1</td><td>2.078777</td><td>5.746001</td><td>3.8585230</td><td>0</td><td>0</td><td>0</td></tr>\n",
       "\t<tr><td>891782</td><td>2003</td><td>89178</td><td>8917</td><td>891</td><td>4.3272</td><td>156.5676</td><td> 14.7231</td><td>0</td><td>0</td><td>...</td><td>0</td><td>0</td><td>1</td><td>G1</td><td>2.171160</td><td>5.746645</td><td>3.3837162</td><td>0</td><td>0</td><td>0</td></tr>\n",
       "\t<tr><td>891782</td><td>2004</td><td>89178</td><td>8917</td><td>891</td><td>4.2777</td><td>157.7268</td><td>  1.7991</td><td>0</td><td>0</td><td>...</td><td>0</td><td>0</td><td>1</td><td>G1</td><td>2.159953</td><td>5.754022</td><td>1.3500036</td><td>0</td><td>0</td><td>0</td></tr>\n",
       "\t<tr><td>891782</td><td>2005</td><td>89178</td><td>8917</td><td>891</td><td>3.1068</td><td>165.2247</td><td>  8.3952</td><td>0</td><td>0</td><td>...</td><td>0</td><td>0</td><td>1</td><td>G1</td><td>1.851689</td><td>5.800463</td><td>2.8243357</td><td>0</td><td>0</td><td>0</td></tr>\n",
       "\t<tr><td>891782</td><td>2006</td><td>89178</td><td>8917</td><td>891</td><td>2.7441</td><td>170.5581</td><td>  2.6208</td><td>0</td><td>0</td><td>...</td><td>0</td><td>0</td><td>1</td><td>G1</td><td>1.734259</td><td>5.832232</td><td>1.6911840</td><td>0</td><td>0</td><td>0</td></tr>\n",
       "\t<tr><td>891782</td><td>2007</td><td>89178</td><td>8917</td><td>891</td><td>2.6982</td><td>177.8886</td><td>  4.3299</td><td>0</td><td>0</td><td>...</td><td>0</td><td>0</td><td>1</td><td>G1</td><td>1.718427</td><td>5.874313</td><td>2.1717673</td><td>0</td><td>0</td><td>0</td></tr>\n",
       "\t<tr><td>891782</td><td>2008</td><td>89178</td><td>8917</td><td>891</td><td>2.9250</td><td>179.8749</td><td>  1.5696</td><td>0</td><td>0</td><td>...</td><td>0</td><td>0</td><td>1</td><td>G1</td><td>1.794459</td><td>5.885417</td><td>1.2327605</td><td>0</td><td>0</td><td>0</td></tr>\n",
       "\t<tr><td>891782</td><td>2009</td><td>89178</td><td>8917</td><td>891</td><td>3.6558</td><td>176.3730</td><td>  2.0241</td><td>0</td><td>0</td><td>...</td><td>0</td><td>0</td><td>1</td><td>G1</td><td>2.007664</td><td>5.865756</td><td>1.4543617</td><td>0</td><td>0</td><td>0</td></tr>\n",
       "\t<tr><td>891782</td><td>2010</td><td>89178</td><td>8917</td><td>891</td><td>3.5910</td><td>172.5669</td><td>  6.3954</td><td>0</td><td>0</td><td>...</td><td>0</td><td>0</td><td>1</td><td>G1</td><td>1.990424</td><td>5.843941</td><td>2.5547832</td><td>0</td><td>0</td><td>0</td></tr>\n",
       "\t<tr><td>891782</td><td>2011</td><td>89178</td><td>8917</td><td>891</td><td>3.2166</td><td>166.7511</td><td>  1.9071</td><td>0</td><td>0</td><td>...</td><td>0</td><td>0</td><td>1</td><td>G1</td><td>1.884803</td><td>5.809658</td><td>1.4013003</td><td>0</td><td>0</td><td>0</td></tr>\n",
       "\t<tr><td>891782</td><td>2012</td><td>89178</td><td>8917</td><td>891</td><td>3.8367</td><td>161.8380</td><td>  6.3261</td><td>0</td><td>0</td><td>...</td><td>0</td><td>0</td><td>1</td><td>G1</td><td>2.054326</td><td>5.779753</td><td>2.5440203</td><td>0</td><td>0</td><td>0</td></tr>\n",
       "\t<tr><td>891782</td><td>2013</td><td>89178</td><td>8917</td><td>891</td><td>4.4802</td><td>160.3224</td><td>  1.0629</td><td>0</td><td>0</td><td>...</td><td>0</td><td>0</td><td>1</td><td>G1</td><td>2.205043</td><td>5.770344</td><td>0.9251587</td><td>0</td><td>0</td><td>0</td></tr>\n",
       "\t<tr><td>891782</td><td>2014</td><td>89178</td><td>8917</td><td>891</td><td>4.7925</td><td>159.9660</td><td>  1.9917</td><td>0</td><td>0</td><td>...</td><td>0</td><td>0</td><td>1</td><td>G1</td><td>2.270911</td><td>5.768118</td><td>1.4399174</td><td>0</td><td>0</td><td>0</td></tr>\n",
       "\t<tr><td>...</td><td>...</td><td>...</td><td>...</td><td>...</td><td>...</td><td>...</td><td>...</td><td>...</td><td>...</td><td></td><td>...</td><td>...</td><td>...</td><td>...</td><td>...</td><td>...</td><td>...</td><td>...</td><td>...</td><td>...</td></tr>\n",
       "\t<tr><td>899999</td><td>1994</td><td>89999</td><td>8999</td><td>899</td><td>1.7694</td><td>31.7439</td><td>12.0303</td><td>0</td><td>1522.294</td><td>...</td><td>0</td><td>0</td><td>1</td><td>G5</td><td>1.3354828</td><td>4.151096</td><td>3.18229857</td><td>0</td><td>8.021121</td><td>0</td></tr>\n",
       "\t<tr><td>899999</td><td>1995</td><td>89999</td><td>8999</td><td>899</td><td>1.9116</td><td>31.9446</td><td>45.6498</td><td>0</td><td>1552.310</td><td>...</td><td>0</td><td>0</td><td>1</td><td>G5</td><td>1.4033881</td><td>4.157395</td><td>4.51426635</td><td>0</td><td>8.040647</td><td>0</td></tr>\n",
       "\t<tr><td>899999</td><td>1996</td><td>89999</td><td>8999</td><td>899</td><td>1.7442</td><td>31.9950</td><td>41.7933</td><td>0</td><td>1628.192</td><td>...</td><td>0</td><td>0</td><td>1</td><td>G5</td><td>1.3230166</td><td>4.158971</td><td>4.42602632</td><td>0</td><td>8.088373</td><td>0</td></tr>\n",
       "\t<tr><td>899999</td><td>1997</td><td>89999</td><td>8999</td><td>899</td><td>1.5930</td><td>31.0797</td><td> 2.7666</td><td>0</td><td>1735.838</td><td>...</td><td>0</td><td>0</td><td>1</td><td>G5</td><td>1.2452675</td><td>4.129961</td><td>1.74193545</td><td>0</td><td>8.152393</td><td>0</td></tr>\n",
       "\t<tr><td>899999</td><td>1998</td><td>89999</td><td>8999</td><td>899</td><td>1.5687</td><td>30.5037</td><td>12.6909</td><td>0</td><td>1802.725</td><td>...</td><td>0</td><td>0</td><td>1</td><td>G5</td><td>1.2322768</td><td>4.111264</td><td>3.23558101</td><td>0</td><td>8.190202</td><td>0</td></tr>\n",
       "\t<tr><td>899999</td><td>1999</td><td>89999</td><td>8999</td><td>899</td><td>1.3572</td><td>30.2274</td><td>16.6392</td><td>0</td><td>1863.542</td><td>...</td><td>0</td><td>0</td><td>1</td><td>G5</td><td>1.1128507</td><td>4.102169</td><td>3.50581029</td><td>0</td><td>8.223381</td><td>0</td></tr>\n",
       "\t<tr><td>899999</td><td>2000</td><td>89999</td><td>8999</td><td>899</td><td>0.8478</td><td>31.1382</td><td> 9.4581</td><td>0</td><td>1897.817</td><td>...</td><td>0</td><td>0</td><td>1</td><td>G5</td><td>0.7695603</td><td>4.131840</td><td>2.94280174</td><td>0</td><td>8.241607</td><td>0</td></tr>\n",
       "\t<tr><td>899999</td><td>2001</td><td>89999</td><td>8999</td><td>899</td><td>0.8415</td><td>31.1436</td><td> 3.1518</td><td>0</td><td>1935.050</td><td>...</td><td>0</td><td>0</td><td>1</td><td>G5</td><td>0.7647474</td><td>4.132014</td><td>1.86538722</td><td>0</td><td>8.261035</td><td>0</td></tr>\n",
       "\t<tr><td>899999</td><td>2002</td><td>89999</td><td>8999</td><td>899</td><td>0.9054</td><td>31.7115</td><td> 2.8143</td><td>0</td><td>2015.693</td><td>...</td><td>0</td><td>0</td><td>1</td><td>G5</td><td>0.8128753</td><td>4.150075</td><td>1.75802765</td><td>0</td><td>8.301866</td><td>0</td></tr>\n",
       "\t<tr><td>899999</td><td>2003</td><td>89999</td><td>8999</td><td>899</td><td>0.9072</td><td>32.0562</td><td> 1.3329</td><td>0</td><td>2036.419</td><td>...</td><td>0</td><td>0</td><td>1</td><td>G5</td><td>0.8142091</td><td>4.160881</td><td>1.09835226</td><td>0</td><td>8.312095</td><td>0</td></tr>\n",
       "\t<tr><td>899999</td><td>2004</td><td>89999</td><td>8999</td><td>899</td><td>0.8766</td><td>31.8663</td><td> 1.0683</td><td>0</td><td>2016.092</td><td>...</td><td>0</td><td>0</td><td>1</td><td>G5</td><td>0.7913724</td><td>4.154942</td><td>0.92885394</td><td>0</td><td>8.302063</td><td>0</td></tr>\n",
       "\t<tr><td>899999</td><td>2005</td><td>89999</td><td>8999</td><td>899</td><td>0.8109</td><td>30.7557</td><td> 0.7470</td><td>0</td><td>1978.118</td><td>...</td><td>0</td><td>0</td><td>1</td><td>G5</td><td>0.7411571</td><td>4.119487</td><td>0.69074545</td><td>0</td><td>8.283048</td><td>0</td></tr>\n",
       "\t<tr><td>899999</td><td>2006</td><td>89999</td><td>8999</td><td>899</td><td>1.3473</td><td>30.7863</td><td> 0.7326</td><td>0</td><td>1984.048</td><td>...</td><td>0</td><td>0</td><td>1</td><td>G5</td><td>1.1069643</td><td>4.120481</td><td>0.67916902</td><td>0</td><td>8.286042</td><td>0</td></tr>\n",
       "\t<tr><td>899999</td><td>2007</td><td>89999</td><td>8999</td><td>899</td><td>1.3230</td><td>32.0769</td><td> 0.8721</td><td>0</td><td>2006.254</td><td>...</td><td>0</td><td>0</td><td>1</td><td>G5</td><td>1.0923969</td><td>4.161526</td><td>0.78798468</td><td>0</td><td>8.297172</td><td>0</td></tr>\n",
       "\t<tr><td>899999</td><td>2008</td><td>89999</td><td>8999</td><td>899</td><td>1.2888</td><td>32.2461</td><td> 1.6083</td><td>0</td><td>2028.257</td><td>...</td><td>0</td><td>0</td><td>1</td><td>G5</td><td>1.0716038</td><td>4.166785</td><td>1.25337413</td><td>0</td><td>8.308079</td><td>0</td></tr>\n",
       "\t<tr><td>899999</td><td>2009</td><td>89999</td><td>8999</td><td>899</td><td>1.2087</td><td>32.4441</td><td> 0.2673</td><td>0</td><td>2053.775</td><td>...</td><td>0</td><td>0</td><td>1</td><td>G5</td><td>1.0215308</td><td>4.172903</td><td>0.26421513</td><td>0</td><td>8.320582</td><td>0</td></tr>\n",
       "\t<tr><td>899999</td><td>2010</td><td>89999</td><td>8999</td><td>899</td><td>1.2744</td><td>32.5341</td><td> 1.6605</td><td>0</td><td>2065.897</td><td>...</td><td>0</td><td>0</td><td>1</td><td>G5</td><td>1.0627453</td><td>4.175672</td><td>1.28061862</td><td>0</td><td>8.326467</td><td>0</td></tr>\n",
       "\t<tr><td>899999</td><td>2011</td><td>89999</td><td>8999</td><td>899</td><td>1.2555</td><td>32.7510</td><td> 0.7461</td><td>0</td><td>2123.050</td><td>...</td><td>0</td><td>0</td><td>1</td><td>G5</td><td>1.0510242</td><td>4.182314</td><td>0.69002426</td><td>0</td><td>8.353756</td><td>0</td></tr>\n",
       "\t<tr><td>899999</td><td>2012</td><td>89999</td><td>8999</td><td>899</td><td>1.2420</td><td>32.5152</td><td> 3.3426</td><td>0</td><td>2148.426</td><td>...</td><td>0</td><td>0</td><td>1</td><td>G5</td><td>1.0425857</td><td>4.175091</td><td>1.92155584</td><td>0</td><td>8.365638</td><td>0</td></tr>\n",
       "\t<tr><td>899999</td><td>2013</td><td>89999</td><td>8999</td><td>899</td><td>1.1097</td><td>32.0877</td><td> 0.2709</td><td>0</td><td>2144.731</td><td>...</td><td>0</td><td>0</td><td>1</td><td>G5</td><td>0.9568561</td><td>4.161863</td><td>0.26769145</td><td>0</td><td>8.363916</td><td>0</td></tr>\n",
       "\t<tr><td>899999</td><td>2014</td><td>89999</td><td>8999</td><td>899</td><td>1.0899</td><td>31.9068</td><td> 0.0846</td><td>0</td><td>2131.237</td><td>...</td><td>0</td><td>0</td><td>1</td><td>G5</td><td>0.9435358</td><td>4.156212</td><td>0.08449941</td><td>0</td><td>8.357605</td><td>0</td></tr>\n",
       "\t<tr><td>899999</td><td>2015</td><td>89999</td><td>8999</td><td>899</td><td>1.0296</td><td>31.8996</td><td> 0.0000</td><td>0</td><td>2100.718</td><td>...</td><td>0</td><td>0</td><td>1</td><td>G5</td><td>0.9021498</td><td>4.155986</td><td>0.00000000</td><td>0</td><td>8.343182</td><td>0</td></tr>\n",
       "\t<tr><td>899999</td><td>2016</td><td>89999</td><td>8999</td><td>899</td><td>1.0656</td><td>32.3163</td><td> 0.1404</td><td>0</td><td>2085.300</td><td>...</td><td>0</td><td>0</td><td>1</td><td>G5</td><td>0.9270076</td><td>4.168958</td><td>0.13994278</td><td>0</td><td>8.335815</td><td>0</td></tr>\n",
       "\t<tr><td>899999</td><td>2017</td><td>89999</td><td>8999</td><td>899</td><td>1.0809</td><td>31.2228</td><td> 0.2493</td><td>0</td><td>2074.346</td><td>...</td><td>0</td><td>0</td><td>1</td><td>G5</td><td>0.9374376</td><td>4.134552</td><td>0.24678731</td><td>0</td><td>8.330548</td><td>0</td></tr>\n",
       "\t<tr><td>899999</td><td>2018</td><td>89999</td><td>8999</td><td>899</td><td>1.0341</td><td>30.7899</td><td> 0.0135</td><td>0</td><td>2048.944</td><td>...</td><td>0</td><td>0</td><td>1</td><td>G5</td><td>0.9052816</td><td>4.120597</td><td>0.01349959</td><td>0</td><td>8.318227</td><td>0</td></tr>\n",
       "\t<tr><td>899999</td><td>2019</td><td>89999</td><td>8999</td><td>899</td><td>1.0908</td><td>31.0644</td><td> 0.1764</td><td>0</td><td>2039.450</td><td>...</td><td>0</td><td>0</td><td>1</td><td>G5</td><td>0.9441441</td><td>4.129469</td><td>0.17549774</td><td>0</td><td>8.313583</td><td>0</td></tr>\n",
       "\t<tr><td>899999</td><td>2020</td><td>89999</td><td>8999</td><td>899</td><td>1.1169</td><td>30.4443</td><td> 4.4055</td><td>0</td><td>2047.301</td><td>...</td><td>0</td><td>0</td><td>1</td><td>G5</td><td>0.9616674</td><td>4.109316</td><td>2.18863995</td><td>0</td><td>8.317425</td><td>0</td></tr>\n",
       "\t<tr><td>899999</td><td>2021</td><td>89999</td><td>8999</td><td>899</td><td>1.0881</td><td>30.4686</td><td> 0.0000</td><td>0</td><td>2052.426</td><td>...</td><td>0</td><td>0</td><td>1</td><td>G5</td><td>0.9423184</td><td>4.110113</td><td>0.00000000</td><td>0</td><td>8.319925</td><td>0</td></tr>\n",
       "\t<tr><td>899999</td><td>2022</td><td>89999</td><td>8999</td><td>899</td><td>1.2699</td><td>24.3162</td><td> 0.3690</td><td>0</td><td>2147.527</td><td>...</td><td>0</td><td>0</td><td>1</td><td>G5</td><td>1.0599644</td><td>3.884713</td><td>0.36110111</td><td>0</td><td>8.365219</td><td>0</td></tr>\n",
       "\t<tr><td>899999</td><td>2023</td><td>89999</td><td>8999</td><td>899</td><td>1.2357</td><td>21.5064</td><td> 0.0000</td><td>0</td><td>2228.395</td><td>...</td><td>0</td><td>0</td><td>1</td><td>G5</td><td>1.0386286</td><td>3.762038</td><td>0.00000000</td><td>0</td><td>8.402184</td><td>0</td></tr>\n",
       "</tbody>\n",
       "</table>\n"
      ],
      "text/latex": [
       "A data.frame: 73047 x 28\n",
       "\\begin{tabular}{lllllllllllllllllllll}\n",
       " wts\\_cd\\_pfafstetterbasin & year & level5 & level4 & level3 & water\\_basin\\_km2 & wetland\\_basin\\_km2 & fire\\_basin\\_km2 & antropic\\_upstream\\_km2 & antropic\\_downstream\\_km2 & ... & upstream\\_rainfall & in\\_biome & closed\\_basin & group & log\\_water\\_basin\\_km2 & log\\_wetland\\_basin\\_km2 & log\\_fire\\_basin\\_km2 & log\\_antropic\\_upstream\\_km2 & log\\_antropic\\_downstream\\_km2 & log\\_upstream\\_rainfall\\\\\n",
       " <dbl> & <dbl> & <dbl> & <dbl> & <dbl> & <dbl> & <dbl> & <dbl> & <dbl> & <dbl> & ... & <dbl> & <dbl> & <dbl> & <chr> & <dbl> & <dbl> & <dbl> & <dbl> & <dbl> & <dbl>\\\\\n",
       "\\hline\n",
       "\t 891782 & 1985 & 89178 & 8917 & 891 & 8.4870 & 195.2496 &   6.7707 & 0 & 0 & ... & 0 & 0 & 1 & G1 & 2.835136 & 5.967432 & 2.6111611 & 0 & 0 & 0\\\\\n",
       "\t 891782 & 1986 & 89178 & 8917 & 891 & 8.8191 & 181.3527 &  20.3463 & 0 & 0 & ... & 0 & 0 & 1 & G1 & 2.873266 & 5.893599 & 3.7066496 & 0 & 0 & 0\\\\\n",
       "\t 891782 & 1987 & 89178 & 8917 & 891 & 9.2313 & 171.3231 &   4.4928 & 0 & 0 & ... & 0 & 0 & 1 & G1 & 2.918668 & 5.836707 & 2.2077846 & 0 & 0 & 0\\\\\n",
       "\t 891782 & 1988 & 89178 & 8917 & 891 & 9.0243 & 172.9323 &  55.7037 & 0 & 0 & ... & 0 & 0 & 1 & G1 & 2.896124 & 5.846056 & 4.7132743 & 0 & 0 & 0\\\\\n",
       "\t 891782 & 1989 & 89178 & 8917 & 891 & 8.8857 & 172.6758 &  16.6122 & 0 & 0 & ... & 0 & 0 & 1 & G1 & 2.880742 & 5.844571 & 3.5041892 & 0 & 0 & 0\\\\\n",
       "\t 891782 & 1990 & 89178 & 8917 & 891 & 8.5599 & 168.1218 &  12.1068 & 0 & 0 & ... & 0 & 0 & 1 & G1 & 2.843630 & 5.817845 & 3.1886157 & 0 & 0 & 0\\\\\n",
       "\t 891782 & 1991 & 89178 & 8917 & 891 & 8.5896 & 164.2545 &   4.1067 & 0 & 0 & ... & 0 & 0 & 1 & G1 & 2.847071 & 5.794574 & 2.1202714 & 0 & 0 & 0\\\\\n",
       "\t 891782 & 1992 & 89178 & 8917 & 891 & 9.4059 & 163.0755 &   4.7988 & 0 & 0 & ... & 0 & 0 & 1 & G1 & 2.937298 & 5.787370 & 2.2721966 & 0 & 0 & 0\\\\\n",
       "\t 891782 & 1993 & 89178 & 8917 & 891 & 9.4734 & 161.5419 &  38.7567 & 0 & 0 & ... & 0 & 0 & 1 & G1 & 2.944409 & 5.777921 & 4.3506172 & 0 & 0 & 0\\\\\n",
       "\t 891782 & 1994 & 89178 & 8917 & 891 & 9.3483 & 160.5717 &   3.8754 & 0 & 0 & ... & 0 & 0 & 1 & G1 & 2.931190 & 5.771897 & 2.0640411 & 0 & 0 & 0\\\\\n",
       "\t 891782 & 1995 & 89178 & 8917 & 891 & 8.9955 & 158.1984 &  28.4643 & 0 & 0 & ... & 0 & 0 & 1 & G1 & 2.892947 & 5.757007 & 4.0421063 & 0 & 0 & 0\\\\\n",
       "\t 891782 & 1996 & 89178 & 8917 & 891 & 8.5491 & 155.1258 &  11.6172 & 0 & 0 & ... & 0 & 0 & 1 & G1 & 2.842376 & 5.737394 & 3.1474812 & 0 & 0 & 0\\\\\n",
       "\t 891782 & 1997 & 89178 & 8917 & 891 & 8.2305 & 152.2755 &  28.0440 & 0 & 0 & ... & 0 & 0 & 1 & G1 & 2.804664 & 5.718849 & 4.0272396 & 0 & 0 & 0\\\\\n",
       "\t 891782 & 1998 & 89178 & 8917 & 891 & 8.4078 & 151.5924 &   1.6668 & 0 & 0 & ... & 0 & 0 & 1 & G1 & 2.825825 & 5.714353 & 1.2838643 & 0 & 0 & 0\\\\\n",
       "\t 891782 & 1999 & 89178 & 8917 & 891 & 8.4078 & 150.4809 & 325.8612 & 0 & 0 & ... & 0 & 0 & 1 & G1 & 2.825825 & 5.706994 & 6.4796211 & 0 & 0 & 0\\\\\n",
       "\t 891782 & 2000 & 89178 & 8917 & 891 & 5.5161 & 153.6498 &   3.0474 & 0 & 0 & ... & 0 & 0 & 1 & G1 & 2.408935 & 5.727834 & 1.8333300 & 0 & 0 & 0\\\\\n",
       "\t 891782 & 2001 & 89178 & 8917 & 891 & 4.3542 & 156.4389 &   3.6999 & 0 & 0 & ... & 0 & 0 & 1 & G1 & 2.177221 & 5.745823 & 2.0192346 & 0 & 0 & 0\\\\\n",
       "\t 891782 & 2002 & 89178 & 8917 & 891 & 3.9348 & 156.4668 &  23.6871 & 0 & 0 & ... & 0 & 0 & 1 & G1 & 2.078777 & 5.746001 & 3.8585230 & 0 & 0 & 0\\\\\n",
       "\t 891782 & 2003 & 89178 & 8917 & 891 & 4.3272 & 156.5676 &  14.7231 & 0 & 0 & ... & 0 & 0 & 1 & G1 & 2.171160 & 5.746645 & 3.3837162 & 0 & 0 & 0\\\\\n",
       "\t 891782 & 2004 & 89178 & 8917 & 891 & 4.2777 & 157.7268 &   1.7991 & 0 & 0 & ... & 0 & 0 & 1 & G1 & 2.159953 & 5.754022 & 1.3500036 & 0 & 0 & 0\\\\\n",
       "\t 891782 & 2005 & 89178 & 8917 & 891 & 3.1068 & 165.2247 &   8.3952 & 0 & 0 & ... & 0 & 0 & 1 & G1 & 1.851689 & 5.800463 & 2.8243357 & 0 & 0 & 0\\\\\n",
       "\t 891782 & 2006 & 89178 & 8917 & 891 & 2.7441 & 170.5581 &   2.6208 & 0 & 0 & ... & 0 & 0 & 1 & G1 & 1.734259 & 5.832232 & 1.6911840 & 0 & 0 & 0\\\\\n",
       "\t 891782 & 2007 & 89178 & 8917 & 891 & 2.6982 & 177.8886 &   4.3299 & 0 & 0 & ... & 0 & 0 & 1 & G1 & 1.718427 & 5.874313 & 2.1717673 & 0 & 0 & 0\\\\\n",
       "\t 891782 & 2008 & 89178 & 8917 & 891 & 2.9250 & 179.8749 &   1.5696 & 0 & 0 & ... & 0 & 0 & 1 & G1 & 1.794459 & 5.885417 & 1.2327605 & 0 & 0 & 0\\\\\n",
       "\t 891782 & 2009 & 89178 & 8917 & 891 & 3.6558 & 176.3730 &   2.0241 & 0 & 0 & ... & 0 & 0 & 1 & G1 & 2.007664 & 5.865756 & 1.4543617 & 0 & 0 & 0\\\\\n",
       "\t 891782 & 2010 & 89178 & 8917 & 891 & 3.5910 & 172.5669 &   6.3954 & 0 & 0 & ... & 0 & 0 & 1 & G1 & 1.990424 & 5.843941 & 2.5547832 & 0 & 0 & 0\\\\\n",
       "\t 891782 & 2011 & 89178 & 8917 & 891 & 3.2166 & 166.7511 &   1.9071 & 0 & 0 & ... & 0 & 0 & 1 & G1 & 1.884803 & 5.809658 & 1.4013003 & 0 & 0 & 0\\\\\n",
       "\t 891782 & 2012 & 89178 & 8917 & 891 & 3.8367 & 161.8380 &   6.3261 & 0 & 0 & ... & 0 & 0 & 1 & G1 & 2.054326 & 5.779753 & 2.5440203 & 0 & 0 & 0\\\\\n",
       "\t 891782 & 2013 & 89178 & 8917 & 891 & 4.4802 & 160.3224 &   1.0629 & 0 & 0 & ... & 0 & 0 & 1 & G1 & 2.205043 & 5.770344 & 0.9251587 & 0 & 0 & 0\\\\\n",
       "\t 891782 & 2014 & 89178 & 8917 & 891 & 4.7925 & 159.9660 &   1.9917 & 0 & 0 & ... & 0 & 0 & 1 & G1 & 2.270911 & 5.768118 & 1.4399174 & 0 & 0 & 0\\\\\n",
       "\t ... & ... & ... & ... & ... & ... & ... & ... & ... & ... &  & ... & ... & ... & ... & ... & ... & ... & ... & ... & ...\\\\\n",
       "\t 899999 & 1994 & 89999 & 8999 & 899 & 1.7694 & 31.7439 & 12.0303 & 0 & 1522.294 & ... & 0 & 0 & 1 & G5 & 1.3354828 & 4.151096 & 3.18229857 & 0 & 8.021121 & 0\\\\\n",
       "\t 899999 & 1995 & 89999 & 8999 & 899 & 1.9116 & 31.9446 & 45.6498 & 0 & 1552.310 & ... & 0 & 0 & 1 & G5 & 1.4033881 & 4.157395 & 4.51426635 & 0 & 8.040647 & 0\\\\\n",
       "\t 899999 & 1996 & 89999 & 8999 & 899 & 1.7442 & 31.9950 & 41.7933 & 0 & 1628.192 & ... & 0 & 0 & 1 & G5 & 1.3230166 & 4.158971 & 4.42602632 & 0 & 8.088373 & 0\\\\\n",
       "\t 899999 & 1997 & 89999 & 8999 & 899 & 1.5930 & 31.0797 &  2.7666 & 0 & 1735.838 & ... & 0 & 0 & 1 & G5 & 1.2452675 & 4.129961 & 1.74193545 & 0 & 8.152393 & 0\\\\\n",
       "\t 899999 & 1998 & 89999 & 8999 & 899 & 1.5687 & 30.5037 & 12.6909 & 0 & 1802.725 & ... & 0 & 0 & 1 & G5 & 1.2322768 & 4.111264 & 3.23558101 & 0 & 8.190202 & 0\\\\\n",
       "\t 899999 & 1999 & 89999 & 8999 & 899 & 1.3572 & 30.2274 & 16.6392 & 0 & 1863.542 & ... & 0 & 0 & 1 & G5 & 1.1128507 & 4.102169 & 3.50581029 & 0 & 8.223381 & 0\\\\\n",
       "\t 899999 & 2000 & 89999 & 8999 & 899 & 0.8478 & 31.1382 &  9.4581 & 0 & 1897.817 & ... & 0 & 0 & 1 & G5 & 0.7695603 & 4.131840 & 2.94280174 & 0 & 8.241607 & 0\\\\\n",
       "\t 899999 & 2001 & 89999 & 8999 & 899 & 0.8415 & 31.1436 &  3.1518 & 0 & 1935.050 & ... & 0 & 0 & 1 & G5 & 0.7647474 & 4.132014 & 1.86538722 & 0 & 8.261035 & 0\\\\\n",
       "\t 899999 & 2002 & 89999 & 8999 & 899 & 0.9054 & 31.7115 &  2.8143 & 0 & 2015.693 & ... & 0 & 0 & 1 & G5 & 0.8128753 & 4.150075 & 1.75802765 & 0 & 8.301866 & 0\\\\\n",
       "\t 899999 & 2003 & 89999 & 8999 & 899 & 0.9072 & 32.0562 &  1.3329 & 0 & 2036.419 & ... & 0 & 0 & 1 & G5 & 0.8142091 & 4.160881 & 1.09835226 & 0 & 8.312095 & 0\\\\\n",
       "\t 899999 & 2004 & 89999 & 8999 & 899 & 0.8766 & 31.8663 &  1.0683 & 0 & 2016.092 & ... & 0 & 0 & 1 & G5 & 0.7913724 & 4.154942 & 0.92885394 & 0 & 8.302063 & 0\\\\\n",
       "\t 899999 & 2005 & 89999 & 8999 & 899 & 0.8109 & 30.7557 &  0.7470 & 0 & 1978.118 & ... & 0 & 0 & 1 & G5 & 0.7411571 & 4.119487 & 0.69074545 & 0 & 8.283048 & 0\\\\\n",
       "\t 899999 & 2006 & 89999 & 8999 & 899 & 1.3473 & 30.7863 &  0.7326 & 0 & 1984.048 & ... & 0 & 0 & 1 & G5 & 1.1069643 & 4.120481 & 0.67916902 & 0 & 8.286042 & 0\\\\\n",
       "\t 899999 & 2007 & 89999 & 8999 & 899 & 1.3230 & 32.0769 &  0.8721 & 0 & 2006.254 & ... & 0 & 0 & 1 & G5 & 1.0923969 & 4.161526 & 0.78798468 & 0 & 8.297172 & 0\\\\\n",
       "\t 899999 & 2008 & 89999 & 8999 & 899 & 1.2888 & 32.2461 &  1.6083 & 0 & 2028.257 & ... & 0 & 0 & 1 & G5 & 1.0716038 & 4.166785 & 1.25337413 & 0 & 8.308079 & 0\\\\\n",
       "\t 899999 & 2009 & 89999 & 8999 & 899 & 1.2087 & 32.4441 &  0.2673 & 0 & 2053.775 & ... & 0 & 0 & 1 & G5 & 1.0215308 & 4.172903 & 0.26421513 & 0 & 8.320582 & 0\\\\\n",
       "\t 899999 & 2010 & 89999 & 8999 & 899 & 1.2744 & 32.5341 &  1.6605 & 0 & 2065.897 & ... & 0 & 0 & 1 & G5 & 1.0627453 & 4.175672 & 1.28061862 & 0 & 8.326467 & 0\\\\\n",
       "\t 899999 & 2011 & 89999 & 8999 & 899 & 1.2555 & 32.7510 &  0.7461 & 0 & 2123.050 & ... & 0 & 0 & 1 & G5 & 1.0510242 & 4.182314 & 0.69002426 & 0 & 8.353756 & 0\\\\\n",
       "\t 899999 & 2012 & 89999 & 8999 & 899 & 1.2420 & 32.5152 &  3.3426 & 0 & 2148.426 & ... & 0 & 0 & 1 & G5 & 1.0425857 & 4.175091 & 1.92155584 & 0 & 8.365638 & 0\\\\\n",
       "\t 899999 & 2013 & 89999 & 8999 & 899 & 1.1097 & 32.0877 &  0.2709 & 0 & 2144.731 & ... & 0 & 0 & 1 & G5 & 0.9568561 & 4.161863 & 0.26769145 & 0 & 8.363916 & 0\\\\\n",
       "\t 899999 & 2014 & 89999 & 8999 & 899 & 1.0899 & 31.9068 &  0.0846 & 0 & 2131.237 & ... & 0 & 0 & 1 & G5 & 0.9435358 & 4.156212 & 0.08449941 & 0 & 8.357605 & 0\\\\\n",
       "\t 899999 & 2015 & 89999 & 8999 & 899 & 1.0296 & 31.8996 &  0.0000 & 0 & 2100.718 & ... & 0 & 0 & 1 & G5 & 0.9021498 & 4.155986 & 0.00000000 & 0 & 8.343182 & 0\\\\\n",
       "\t 899999 & 2016 & 89999 & 8999 & 899 & 1.0656 & 32.3163 &  0.1404 & 0 & 2085.300 & ... & 0 & 0 & 1 & G5 & 0.9270076 & 4.168958 & 0.13994278 & 0 & 8.335815 & 0\\\\\n",
       "\t 899999 & 2017 & 89999 & 8999 & 899 & 1.0809 & 31.2228 &  0.2493 & 0 & 2074.346 & ... & 0 & 0 & 1 & G5 & 0.9374376 & 4.134552 & 0.24678731 & 0 & 8.330548 & 0\\\\\n",
       "\t 899999 & 2018 & 89999 & 8999 & 899 & 1.0341 & 30.7899 &  0.0135 & 0 & 2048.944 & ... & 0 & 0 & 1 & G5 & 0.9052816 & 4.120597 & 0.01349959 & 0 & 8.318227 & 0\\\\\n",
       "\t 899999 & 2019 & 89999 & 8999 & 899 & 1.0908 & 31.0644 &  0.1764 & 0 & 2039.450 & ... & 0 & 0 & 1 & G5 & 0.9441441 & 4.129469 & 0.17549774 & 0 & 8.313583 & 0\\\\\n",
       "\t 899999 & 2020 & 89999 & 8999 & 899 & 1.1169 & 30.4443 &  4.4055 & 0 & 2047.301 & ... & 0 & 0 & 1 & G5 & 0.9616674 & 4.109316 & 2.18863995 & 0 & 8.317425 & 0\\\\\n",
       "\t 899999 & 2021 & 89999 & 8999 & 899 & 1.0881 & 30.4686 &  0.0000 & 0 & 2052.426 & ... & 0 & 0 & 1 & G5 & 0.9423184 & 4.110113 & 0.00000000 & 0 & 8.319925 & 0\\\\\n",
       "\t 899999 & 2022 & 89999 & 8999 & 899 & 1.2699 & 24.3162 &  0.3690 & 0 & 2147.527 & ... & 0 & 0 & 1 & G5 & 1.0599644 & 3.884713 & 0.36110111 & 0 & 8.365219 & 0\\\\\n",
       "\t 899999 & 2023 & 89999 & 8999 & 899 & 1.2357 & 21.5064 &  0.0000 & 0 & 2228.395 & ... & 0 & 0 & 1 & G5 & 1.0386286 & 3.762038 & 0.00000000 & 0 & 8.402184 & 0\\\\\n",
       "\\end{tabular}\n"
      ],
      "text/markdown": [
       "\n",
       "A data.frame: 73047 x 28\n",
       "\n",
       "| wts_cd_pfafstetterbasin &lt;dbl&gt; | year &lt;dbl&gt; | level5 &lt;dbl&gt; | level4 &lt;dbl&gt; | level3 &lt;dbl&gt; | water_basin_km2 &lt;dbl&gt; | wetland_basin_km2 &lt;dbl&gt; | fire_basin_km2 &lt;dbl&gt; | antropic_upstream_km2 &lt;dbl&gt; | antropic_downstream_km2 &lt;dbl&gt; | ... ... | upstream_rainfall &lt;dbl&gt; | in_biome &lt;dbl&gt; | closed_basin &lt;dbl&gt; | group &lt;chr&gt; | log_water_basin_km2 &lt;dbl&gt; | log_wetland_basin_km2 &lt;dbl&gt; | log_fire_basin_km2 &lt;dbl&gt; | log_antropic_upstream_km2 &lt;dbl&gt; | log_antropic_downstream_km2 &lt;dbl&gt; | log_upstream_rainfall &lt;dbl&gt; |\n",
       "|---|---|---|---|---|---|---|---|---|---|---|---|---|---|---|---|---|---|---|---|---|\n",
       "| 891782 | 1985 | 89178 | 8917 | 891 | 8.4870 | 195.2496 |   6.7707 | 0 | 0 | ... | 0 | 0 | 1 | G1 | 2.835136 | 5.967432 | 2.6111611 | 0 | 0 | 0 |\n",
       "| 891782 | 1986 | 89178 | 8917 | 891 | 8.8191 | 181.3527 |  20.3463 | 0 | 0 | ... | 0 | 0 | 1 | G1 | 2.873266 | 5.893599 | 3.7066496 | 0 | 0 | 0 |\n",
       "| 891782 | 1987 | 89178 | 8917 | 891 | 9.2313 | 171.3231 |   4.4928 | 0 | 0 | ... | 0 | 0 | 1 | G1 | 2.918668 | 5.836707 | 2.2077846 | 0 | 0 | 0 |\n",
       "| 891782 | 1988 | 89178 | 8917 | 891 | 9.0243 | 172.9323 |  55.7037 | 0 | 0 | ... | 0 | 0 | 1 | G1 | 2.896124 | 5.846056 | 4.7132743 | 0 | 0 | 0 |\n",
       "| 891782 | 1989 | 89178 | 8917 | 891 | 8.8857 | 172.6758 |  16.6122 | 0 | 0 | ... | 0 | 0 | 1 | G1 | 2.880742 | 5.844571 | 3.5041892 | 0 | 0 | 0 |\n",
       "| 891782 | 1990 | 89178 | 8917 | 891 | 8.5599 | 168.1218 |  12.1068 | 0 | 0 | ... | 0 | 0 | 1 | G1 | 2.843630 | 5.817845 | 3.1886157 | 0 | 0 | 0 |\n",
       "| 891782 | 1991 | 89178 | 8917 | 891 | 8.5896 | 164.2545 |   4.1067 | 0 | 0 | ... | 0 | 0 | 1 | G1 | 2.847071 | 5.794574 | 2.1202714 | 0 | 0 | 0 |\n",
       "| 891782 | 1992 | 89178 | 8917 | 891 | 9.4059 | 163.0755 |   4.7988 | 0 | 0 | ... | 0 | 0 | 1 | G1 | 2.937298 | 5.787370 | 2.2721966 | 0 | 0 | 0 |\n",
       "| 891782 | 1993 | 89178 | 8917 | 891 | 9.4734 | 161.5419 |  38.7567 | 0 | 0 | ... | 0 | 0 | 1 | G1 | 2.944409 | 5.777921 | 4.3506172 | 0 | 0 | 0 |\n",
       "| 891782 | 1994 | 89178 | 8917 | 891 | 9.3483 | 160.5717 |   3.8754 | 0 | 0 | ... | 0 | 0 | 1 | G1 | 2.931190 | 5.771897 | 2.0640411 | 0 | 0 | 0 |\n",
       "| 891782 | 1995 | 89178 | 8917 | 891 | 8.9955 | 158.1984 |  28.4643 | 0 | 0 | ... | 0 | 0 | 1 | G1 | 2.892947 | 5.757007 | 4.0421063 | 0 | 0 | 0 |\n",
       "| 891782 | 1996 | 89178 | 8917 | 891 | 8.5491 | 155.1258 |  11.6172 | 0 | 0 | ... | 0 | 0 | 1 | G1 | 2.842376 | 5.737394 | 3.1474812 | 0 | 0 | 0 |\n",
       "| 891782 | 1997 | 89178 | 8917 | 891 | 8.2305 | 152.2755 |  28.0440 | 0 | 0 | ... | 0 | 0 | 1 | G1 | 2.804664 | 5.718849 | 4.0272396 | 0 | 0 | 0 |\n",
       "| 891782 | 1998 | 89178 | 8917 | 891 | 8.4078 | 151.5924 |   1.6668 | 0 | 0 | ... | 0 | 0 | 1 | G1 | 2.825825 | 5.714353 | 1.2838643 | 0 | 0 | 0 |\n",
       "| 891782 | 1999 | 89178 | 8917 | 891 | 8.4078 | 150.4809 | 325.8612 | 0 | 0 | ... | 0 | 0 | 1 | G1 | 2.825825 | 5.706994 | 6.4796211 | 0 | 0 | 0 |\n",
       "| 891782 | 2000 | 89178 | 8917 | 891 | 5.5161 | 153.6498 |   3.0474 | 0 | 0 | ... | 0 | 0 | 1 | G1 | 2.408935 | 5.727834 | 1.8333300 | 0 | 0 | 0 |\n",
       "| 891782 | 2001 | 89178 | 8917 | 891 | 4.3542 | 156.4389 |   3.6999 | 0 | 0 | ... | 0 | 0 | 1 | G1 | 2.177221 | 5.745823 | 2.0192346 | 0 | 0 | 0 |\n",
       "| 891782 | 2002 | 89178 | 8917 | 891 | 3.9348 | 156.4668 |  23.6871 | 0 | 0 | ... | 0 | 0 | 1 | G1 | 2.078777 | 5.746001 | 3.8585230 | 0 | 0 | 0 |\n",
       "| 891782 | 2003 | 89178 | 8917 | 891 | 4.3272 | 156.5676 |  14.7231 | 0 | 0 | ... | 0 | 0 | 1 | G1 | 2.171160 | 5.746645 | 3.3837162 | 0 | 0 | 0 |\n",
       "| 891782 | 2004 | 89178 | 8917 | 891 | 4.2777 | 157.7268 |   1.7991 | 0 | 0 | ... | 0 | 0 | 1 | G1 | 2.159953 | 5.754022 | 1.3500036 | 0 | 0 | 0 |\n",
       "| 891782 | 2005 | 89178 | 8917 | 891 | 3.1068 | 165.2247 |   8.3952 | 0 | 0 | ... | 0 | 0 | 1 | G1 | 1.851689 | 5.800463 | 2.8243357 | 0 | 0 | 0 |\n",
       "| 891782 | 2006 | 89178 | 8917 | 891 | 2.7441 | 170.5581 |   2.6208 | 0 | 0 | ... | 0 | 0 | 1 | G1 | 1.734259 | 5.832232 | 1.6911840 | 0 | 0 | 0 |\n",
       "| 891782 | 2007 | 89178 | 8917 | 891 | 2.6982 | 177.8886 |   4.3299 | 0 | 0 | ... | 0 | 0 | 1 | G1 | 1.718427 | 5.874313 | 2.1717673 | 0 | 0 | 0 |\n",
       "| 891782 | 2008 | 89178 | 8917 | 891 | 2.9250 | 179.8749 |   1.5696 | 0 | 0 | ... | 0 | 0 | 1 | G1 | 1.794459 | 5.885417 | 1.2327605 | 0 | 0 | 0 |\n",
       "| 891782 | 2009 | 89178 | 8917 | 891 | 3.6558 | 176.3730 |   2.0241 | 0 | 0 | ... | 0 | 0 | 1 | G1 | 2.007664 | 5.865756 | 1.4543617 | 0 | 0 | 0 |\n",
       "| 891782 | 2010 | 89178 | 8917 | 891 | 3.5910 | 172.5669 |   6.3954 | 0 | 0 | ... | 0 | 0 | 1 | G1 | 1.990424 | 5.843941 | 2.5547832 | 0 | 0 | 0 |\n",
       "| 891782 | 2011 | 89178 | 8917 | 891 | 3.2166 | 166.7511 |   1.9071 | 0 | 0 | ... | 0 | 0 | 1 | G1 | 1.884803 | 5.809658 | 1.4013003 | 0 | 0 | 0 |\n",
       "| 891782 | 2012 | 89178 | 8917 | 891 | 3.8367 | 161.8380 |   6.3261 | 0 | 0 | ... | 0 | 0 | 1 | G1 | 2.054326 | 5.779753 | 2.5440203 | 0 | 0 | 0 |\n",
       "| 891782 | 2013 | 89178 | 8917 | 891 | 4.4802 | 160.3224 |   1.0629 | 0 | 0 | ... | 0 | 0 | 1 | G1 | 2.205043 | 5.770344 | 0.9251587 | 0 | 0 | 0 |\n",
       "| 891782 | 2014 | 89178 | 8917 | 891 | 4.7925 | 159.9660 |   1.9917 | 0 | 0 | ... | 0 | 0 | 1 | G1 | 2.270911 | 5.768118 | 1.4399174 | 0 | 0 | 0 |\n",
       "| ... | ... | ... | ... | ... | ... | ... | ... | ... | ... | <!----> | ... | ... | ... | ... | ... | ... | ... | ... | ... | ... |\n",
       "| 899999 | 1994 | 89999 | 8999 | 899 | 1.7694 | 31.7439 | 12.0303 | 0 | 1522.294 | ... | 0 | 0 | 1 | G5 | 1.3354828 | 4.151096 | 3.18229857 | 0 | 8.021121 | 0 |\n",
       "| 899999 | 1995 | 89999 | 8999 | 899 | 1.9116 | 31.9446 | 45.6498 | 0 | 1552.310 | ... | 0 | 0 | 1 | G5 | 1.4033881 | 4.157395 | 4.51426635 | 0 | 8.040647 | 0 |\n",
       "| 899999 | 1996 | 89999 | 8999 | 899 | 1.7442 | 31.9950 | 41.7933 | 0 | 1628.192 | ... | 0 | 0 | 1 | G5 | 1.3230166 | 4.158971 | 4.42602632 | 0 | 8.088373 | 0 |\n",
       "| 899999 | 1997 | 89999 | 8999 | 899 | 1.5930 | 31.0797 |  2.7666 | 0 | 1735.838 | ... | 0 | 0 | 1 | G5 | 1.2452675 | 4.129961 | 1.74193545 | 0 | 8.152393 | 0 |\n",
       "| 899999 | 1998 | 89999 | 8999 | 899 | 1.5687 | 30.5037 | 12.6909 | 0 | 1802.725 | ... | 0 | 0 | 1 | G5 | 1.2322768 | 4.111264 | 3.23558101 | 0 | 8.190202 | 0 |\n",
       "| 899999 | 1999 | 89999 | 8999 | 899 | 1.3572 | 30.2274 | 16.6392 | 0 | 1863.542 | ... | 0 | 0 | 1 | G5 | 1.1128507 | 4.102169 | 3.50581029 | 0 | 8.223381 | 0 |\n",
       "| 899999 | 2000 | 89999 | 8999 | 899 | 0.8478 | 31.1382 |  9.4581 | 0 | 1897.817 | ... | 0 | 0 | 1 | G5 | 0.7695603 | 4.131840 | 2.94280174 | 0 | 8.241607 | 0 |\n",
       "| 899999 | 2001 | 89999 | 8999 | 899 | 0.8415 | 31.1436 |  3.1518 | 0 | 1935.050 | ... | 0 | 0 | 1 | G5 | 0.7647474 | 4.132014 | 1.86538722 | 0 | 8.261035 | 0 |\n",
       "| 899999 | 2002 | 89999 | 8999 | 899 | 0.9054 | 31.7115 |  2.8143 | 0 | 2015.693 | ... | 0 | 0 | 1 | G5 | 0.8128753 | 4.150075 | 1.75802765 | 0 | 8.301866 | 0 |\n",
       "| 899999 | 2003 | 89999 | 8999 | 899 | 0.9072 | 32.0562 |  1.3329 | 0 | 2036.419 | ... | 0 | 0 | 1 | G5 | 0.8142091 | 4.160881 | 1.09835226 | 0 | 8.312095 | 0 |\n",
       "| 899999 | 2004 | 89999 | 8999 | 899 | 0.8766 | 31.8663 |  1.0683 | 0 | 2016.092 | ... | 0 | 0 | 1 | G5 | 0.7913724 | 4.154942 | 0.92885394 | 0 | 8.302063 | 0 |\n",
       "| 899999 | 2005 | 89999 | 8999 | 899 | 0.8109 | 30.7557 |  0.7470 | 0 | 1978.118 | ... | 0 | 0 | 1 | G5 | 0.7411571 | 4.119487 | 0.69074545 | 0 | 8.283048 | 0 |\n",
       "| 899999 | 2006 | 89999 | 8999 | 899 | 1.3473 | 30.7863 |  0.7326 | 0 | 1984.048 | ... | 0 | 0 | 1 | G5 | 1.1069643 | 4.120481 | 0.67916902 | 0 | 8.286042 | 0 |\n",
       "| 899999 | 2007 | 89999 | 8999 | 899 | 1.3230 | 32.0769 |  0.8721 | 0 | 2006.254 | ... | 0 | 0 | 1 | G5 | 1.0923969 | 4.161526 | 0.78798468 | 0 | 8.297172 | 0 |\n",
       "| 899999 | 2008 | 89999 | 8999 | 899 | 1.2888 | 32.2461 |  1.6083 | 0 | 2028.257 | ... | 0 | 0 | 1 | G5 | 1.0716038 | 4.166785 | 1.25337413 | 0 | 8.308079 | 0 |\n",
       "| 899999 | 2009 | 89999 | 8999 | 899 | 1.2087 | 32.4441 |  0.2673 | 0 | 2053.775 | ... | 0 | 0 | 1 | G5 | 1.0215308 | 4.172903 | 0.26421513 | 0 | 8.320582 | 0 |\n",
       "| 899999 | 2010 | 89999 | 8999 | 899 | 1.2744 | 32.5341 |  1.6605 | 0 | 2065.897 | ... | 0 | 0 | 1 | G5 | 1.0627453 | 4.175672 | 1.28061862 | 0 | 8.326467 | 0 |\n",
       "| 899999 | 2011 | 89999 | 8999 | 899 | 1.2555 | 32.7510 |  0.7461 | 0 | 2123.050 | ... | 0 | 0 | 1 | G5 | 1.0510242 | 4.182314 | 0.69002426 | 0 | 8.353756 | 0 |\n",
       "| 899999 | 2012 | 89999 | 8999 | 899 | 1.2420 | 32.5152 |  3.3426 | 0 | 2148.426 | ... | 0 | 0 | 1 | G5 | 1.0425857 | 4.175091 | 1.92155584 | 0 | 8.365638 | 0 |\n",
       "| 899999 | 2013 | 89999 | 8999 | 899 | 1.1097 | 32.0877 |  0.2709 | 0 | 2144.731 | ... | 0 | 0 | 1 | G5 | 0.9568561 | 4.161863 | 0.26769145 | 0 | 8.363916 | 0 |\n",
       "| 899999 | 2014 | 89999 | 8999 | 899 | 1.0899 | 31.9068 |  0.0846 | 0 | 2131.237 | ... | 0 | 0 | 1 | G5 | 0.9435358 | 4.156212 | 0.08449941 | 0 | 8.357605 | 0 |\n",
       "| 899999 | 2015 | 89999 | 8999 | 899 | 1.0296 | 31.8996 |  0.0000 | 0 | 2100.718 | ... | 0 | 0 | 1 | G5 | 0.9021498 | 4.155986 | 0.00000000 | 0 | 8.343182 | 0 |\n",
       "| 899999 | 2016 | 89999 | 8999 | 899 | 1.0656 | 32.3163 |  0.1404 | 0 | 2085.300 | ... | 0 | 0 | 1 | G5 | 0.9270076 | 4.168958 | 0.13994278 | 0 | 8.335815 | 0 |\n",
       "| 899999 | 2017 | 89999 | 8999 | 899 | 1.0809 | 31.2228 |  0.2493 | 0 | 2074.346 | ... | 0 | 0 | 1 | G5 | 0.9374376 | 4.134552 | 0.24678731 | 0 | 8.330548 | 0 |\n",
       "| 899999 | 2018 | 89999 | 8999 | 899 | 1.0341 | 30.7899 |  0.0135 | 0 | 2048.944 | ... | 0 | 0 | 1 | G5 | 0.9052816 | 4.120597 | 0.01349959 | 0 | 8.318227 | 0 |\n",
       "| 899999 | 2019 | 89999 | 8999 | 899 | 1.0908 | 31.0644 |  0.1764 | 0 | 2039.450 | ... | 0 | 0 | 1 | G5 | 0.9441441 | 4.129469 | 0.17549774 | 0 | 8.313583 | 0 |\n",
       "| 899999 | 2020 | 89999 | 8999 | 899 | 1.1169 | 30.4443 |  4.4055 | 0 | 2047.301 | ... | 0 | 0 | 1 | G5 | 0.9616674 | 4.109316 | 2.18863995 | 0 | 8.317425 | 0 |\n",
       "| 899999 | 2021 | 89999 | 8999 | 899 | 1.0881 | 30.4686 |  0.0000 | 0 | 2052.426 | ... | 0 | 0 | 1 | G5 | 0.9423184 | 4.110113 | 0.00000000 | 0 | 8.319925 | 0 |\n",
       "| 899999 | 2022 | 89999 | 8999 | 899 | 1.2699 | 24.3162 |  0.3690 | 0 | 2147.527 | ... | 0 | 0 | 1 | G5 | 1.0599644 | 3.884713 | 0.36110111 | 0 | 8.365219 | 0 |\n",
       "| 899999 | 2023 | 89999 | 8999 | 899 | 1.2357 | 21.5064 |  0.0000 | 0 | 2228.395 | ... | 0 | 0 | 1 | G5 | 1.0386286 | 3.762038 | 0.00000000 | 0 | 8.402184 | 0 |\n",
       "\n"
      ],
      "text/plain": [
       "      wts_cd_pfafstetterbasin year level5 level4 level3 water_basin_km2\n",
       "1     891782                  1985 89178  8917   891    8.4870         \n",
       "2     891782                  1986 89178  8917   891    8.8191         \n",
       "3     891782                  1987 89178  8917   891    9.2313         \n",
       "4     891782                  1988 89178  8917   891    9.0243         \n",
       "5     891782                  1989 89178  8917   891    8.8857         \n",
       "6     891782                  1990 89178  8917   891    8.5599         \n",
       "7     891782                  1991 89178  8917   891    8.5896         \n",
       "8     891782                  1992 89178  8917   891    9.4059         \n",
       "9     891782                  1993 89178  8917   891    9.4734         \n",
       "10    891782                  1994 89178  8917   891    9.3483         \n",
       "11    891782                  1995 89178  8917   891    8.9955         \n",
       "12    891782                  1996 89178  8917   891    8.5491         \n",
       "13    891782                  1997 89178  8917   891    8.2305         \n",
       "14    891782                  1998 89178  8917   891    8.4078         \n",
       "15    891782                  1999 89178  8917   891    8.4078         \n",
       "16    891782                  2000 89178  8917   891    5.5161         \n",
       "17    891782                  2001 89178  8917   891    4.3542         \n",
       "18    891782                  2002 89178  8917   891    3.9348         \n",
       "19    891782                  2003 89178  8917   891    4.3272         \n",
       "20    891782                  2004 89178  8917   891    4.2777         \n",
       "21    891782                  2005 89178  8917   891    3.1068         \n",
       "22    891782                  2006 89178  8917   891    2.7441         \n",
       "23    891782                  2007 89178  8917   891    2.6982         \n",
       "24    891782                  2008 89178  8917   891    2.9250         \n",
       "25    891782                  2009 89178  8917   891    3.6558         \n",
       "26    891782                  2010 89178  8917   891    3.5910         \n",
       "27    891782                  2011 89178  8917   891    3.2166         \n",
       "28    891782                  2012 89178  8917   891    3.8367         \n",
       "29    891782                  2013 89178  8917   891    4.4802         \n",
       "30    891782                  2014 89178  8917   891    4.7925         \n",
       "...   ...                     ...  ...    ...    ...    ...            \n",
       "73018 899999                  1994 89999  8999   899    1.7694         \n",
       "73019 899999                  1995 89999  8999   899    1.9116         \n",
       "73020 899999                  1996 89999  8999   899    1.7442         \n",
       "73021 899999                  1997 89999  8999   899    1.5930         \n",
       "73022 899999                  1998 89999  8999   899    1.5687         \n",
       "73023 899999                  1999 89999  8999   899    1.3572         \n",
       "73024 899999                  2000 89999  8999   899    0.8478         \n",
       "73025 899999                  2001 89999  8999   899    0.8415         \n",
       "73026 899999                  2002 89999  8999   899    0.9054         \n",
       "73027 899999                  2003 89999  8999   899    0.9072         \n",
       "73028 899999                  2004 89999  8999   899    0.8766         \n",
       "73029 899999                  2005 89999  8999   899    0.8109         \n",
       "73030 899999                  2006 89999  8999   899    1.3473         \n",
       "73031 899999                  2007 89999  8999   899    1.3230         \n",
       "73032 899999                  2008 89999  8999   899    1.2888         \n",
       "73033 899999                  2009 89999  8999   899    1.2087         \n",
       "73034 899999                  2010 89999  8999   899    1.2744         \n",
       "73035 899999                  2011 89999  8999   899    1.2555         \n",
       "73036 899999                  2012 89999  8999   899    1.2420         \n",
       "73037 899999                  2013 89999  8999   899    1.1097         \n",
       "73038 899999                  2014 89999  8999   899    1.0899         \n",
       "73039 899999                  2015 89999  8999   899    1.0296         \n",
       "73040 899999                  2016 89999  8999   899    1.0656         \n",
       "73041 899999                  2017 89999  8999   899    1.0809         \n",
       "73042 899999                  2018 89999  8999   899    1.0341         \n",
       "73043 899999                  2019 89999  8999   899    1.0908         \n",
       "73044 899999                  2020 89999  8999   899    1.1169         \n",
       "73045 899999                  2021 89999  8999   899    1.0881         \n",
       "73046 899999                  2022 89999  8999   899    1.2699         \n",
       "73047 899999                  2023 89999  8999   899    1.2357         \n",
       "      wetland_basin_km2 fire_basin_km2 antropic_upstream_km2\n",
       "1     195.2496            6.7707       0                    \n",
       "2     181.3527           20.3463       0                    \n",
       "3     171.3231            4.4928       0                    \n",
       "4     172.9323           55.7037       0                    \n",
       "5     172.6758           16.6122       0                    \n",
       "6     168.1218           12.1068       0                    \n",
       "7     164.2545            4.1067       0                    \n",
       "8     163.0755            4.7988       0                    \n",
       "9     161.5419           38.7567       0                    \n",
       "10    160.5717            3.8754       0                    \n",
       "11    158.1984           28.4643       0                    \n",
       "12    155.1258           11.6172       0                    \n",
       "13    152.2755           28.0440       0                    \n",
       "14    151.5924            1.6668       0                    \n",
       "15    150.4809          325.8612       0                    \n",
       "16    153.6498            3.0474       0                    \n",
       "17    156.4389            3.6999       0                    \n",
       "18    156.4668           23.6871       0                    \n",
       "19    156.5676           14.7231       0                    \n",
       "20    157.7268            1.7991       0                    \n",
       "21    165.2247            8.3952       0                    \n",
       "22    170.5581            2.6208       0                    \n",
       "23    177.8886            4.3299       0                    \n",
       "24    179.8749            1.5696       0                    \n",
       "25    176.3730            2.0241       0                    \n",
       "26    172.5669            6.3954       0                    \n",
       "27    166.7511            1.9071       0                    \n",
       "28    161.8380            6.3261       0                    \n",
       "29    160.3224            1.0629       0                    \n",
       "30    159.9660            1.9917       0                    \n",
       "...   ...               ...            ...                  \n",
       "73018 31.7439           12.0303        0                    \n",
       "73019 31.9446           45.6498        0                    \n",
       "73020 31.9950           41.7933        0                    \n",
       "73021 31.0797            2.7666        0                    \n",
       "73022 30.5037           12.6909        0                    \n",
       "73023 30.2274           16.6392        0                    \n",
       "73024 31.1382            9.4581        0                    \n",
       "73025 31.1436            3.1518        0                    \n",
       "73026 31.7115            2.8143        0                    \n",
       "73027 32.0562            1.3329        0                    \n",
       "73028 31.8663            1.0683        0                    \n",
       "73029 30.7557            0.7470        0                    \n",
       "73030 30.7863            0.7326        0                    \n",
       "73031 32.0769            0.8721        0                    \n",
       "73032 32.2461            1.6083        0                    \n",
       "73033 32.4441            0.2673        0                    \n",
       "73034 32.5341            1.6605        0                    \n",
       "73035 32.7510            0.7461        0                    \n",
       "73036 32.5152            3.3426        0                    \n",
       "73037 32.0877            0.2709        0                    \n",
       "73038 31.9068            0.0846        0                    \n",
       "73039 31.8996            0.0000        0                    \n",
       "73040 32.3163            0.1404        0                    \n",
       "73041 31.2228            0.2493        0                    \n",
       "73042 30.7899            0.0135        0                    \n",
       "73043 31.0644            0.1764        0                    \n",
       "73044 30.4443            4.4055        0                    \n",
       "73045 30.4686            0.0000        0                    \n",
       "73046 24.3162            0.3690        0                    \n",
       "73047 21.5064            0.0000        0                    \n",
       "      antropic_downstream_km2 ... upstream_rainfall in_biome closed_basin group\n",
       "1     0                       ... 0                 0        1            G1   \n",
       "2     0                       ... 0                 0        1            G1   \n",
       "3     0                       ... 0                 0        1            G1   \n",
       "4     0                       ... 0                 0        1            G1   \n",
       "5     0                       ... 0                 0        1            G1   \n",
       "6     0                       ... 0                 0        1            G1   \n",
       "7     0                       ... 0                 0        1            G1   \n",
       "8     0                       ... 0                 0        1            G1   \n",
       "9     0                       ... 0                 0        1            G1   \n",
       "10    0                       ... 0                 0        1            G1   \n",
       "11    0                       ... 0                 0        1            G1   \n",
       "12    0                       ... 0                 0        1            G1   \n",
       "13    0                       ... 0                 0        1            G1   \n",
       "14    0                       ... 0                 0        1            G1   \n",
       "15    0                       ... 0                 0        1            G1   \n",
       "16    0                       ... 0                 0        1            G1   \n",
       "17    0                       ... 0                 0        1            G1   \n",
       "18    0                       ... 0                 0        1            G1   \n",
       "19    0                       ... 0                 0        1            G1   \n",
       "20    0                       ... 0                 0        1            G1   \n",
       "21    0                       ... 0                 0        1            G1   \n",
       "22    0                       ... 0                 0        1            G1   \n",
       "23    0                       ... 0                 0        1            G1   \n",
       "24    0                       ... 0                 0        1            G1   \n",
       "25    0                       ... 0                 0        1            G1   \n",
       "26    0                       ... 0                 0        1            G1   \n",
       "27    0                       ... 0                 0        1            G1   \n",
       "28    0                       ... 0                 0        1            G1   \n",
       "29    0                       ... 0                 0        1            G1   \n",
       "30    0                       ... 0                 0        1            G1   \n",
       "...   ...                         ...               ...      ...          ...  \n",
       "73018 1522.294                ... 0                 0        1            G5   \n",
       "73019 1552.310                ... 0                 0        1            G5   \n",
       "73020 1628.192                ... 0                 0        1            G5   \n",
       "73021 1735.838                ... 0                 0        1            G5   \n",
       "73022 1802.725                ... 0                 0        1            G5   \n",
       "73023 1863.542                ... 0                 0        1            G5   \n",
       "73024 1897.817                ... 0                 0        1            G5   \n",
       "73025 1935.050                ... 0                 0        1            G5   \n",
       "73026 2015.693                ... 0                 0        1            G5   \n",
       "73027 2036.419                ... 0                 0        1            G5   \n",
       "73028 2016.092                ... 0                 0        1            G5   \n",
       "73029 1978.118                ... 0                 0        1            G5   \n",
       "73030 1984.048                ... 0                 0        1            G5   \n",
       "73031 2006.254                ... 0                 0        1            G5   \n",
       "73032 2028.257                ... 0                 0        1            G5   \n",
       "73033 2053.775                ... 0                 0        1            G5   \n",
       "73034 2065.897                ... 0                 0        1            G5   \n",
       "73035 2123.050                ... 0                 0        1            G5   \n",
       "73036 2148.426                ... 0                 0        1            G5   \n",
       "73037 2144.731                ... 0                 0        1            G5   \n",
       "73038 2131.237                ... 0                 0        1            G5   \n",
       "73039 2100.718                ... 0                 0        1            G5   \n",
       "73040 2085.300                ... 0                 0        1            G5   \n",
       "73041 2074.346                ... 0                 0        1            G5   \n",
       "73042 2048.944                ... 0                 0        1            G5   \n",
       "73043 2039.450                ... 0                 0        1            G5   \n",
       "73044 2047.301                ... 0                 0        1            G5   \n",
       "73045 2052.426                ... 0                 0        1            G5   \n",
       "73046 2147.527                ... 0                 0        1            G5   \n",
       "73047 2228.395                ... 0                 0        1            G5   \n",
       "      log_water_basin_km2 log_wetland_basin_km2 log_fire_basin_km2\n",
       "1     2.835136            5.967432              2.6111611         \n",
       "2     2.873266            5.893599              3.7066496         \n",
       "3     2.918668            5.836707              2.2077846         \n",
       "4     2.896124            5.846056              4.7132743         \n",
       "5     2.880742            5.844571              3.5041892         \n",
       "6     2.843630            5.817845              3.1886157         \n",
       "7     2.847071            5.794574              2.1202714         \n",
       "8     2.937298            5.787370              2.2721966         \n",
       "9     2.944409            5.777921              4.3506172         \n",
       "10    2.931190            5.771897              2.0640411         \n",
       "11    2.892947            5.757007              4.0421063         \n",
       "12    2.842376            5.737394              3.1474812         \n",
       "13    2.804664            5.718849              4.0272396         \n",
       "14    2.825825            5.714353              1.2838643         \n",
       "15    2.825825            5.706994              6.4796211         \n",
       "16    2.408935            5.727834              1.8333300         \n",
       "17    2.177221            5.745823              2.0192346         \n",
       "18    2.078777            5.746001              3.8585230         \n",
       "19    2.171160            5.746645              3.3837162         \n",
       "20    2.159953            5.754022              1.3500036         \n",
       "21    1.851689            5.800463              2.8243357         \n",
       "22    1.734259            5.832232              1.6911840         \n",
       "23    1.718427            5.874313              2.1717673         \n",
       "24    1.794459            5.885417              1.2327605         \n",
       "25    2.007664            5.865756              1.4543617         \n",
       "26    1.990424            5.843941              2.5547832         \n",
       "27    1.884803            5.809658              1.4013003         \n",
       "28    2.054326            5.779753              2.5440203         \n",
       "29    2.205043            5.770344              0.9251587         \n",
       "30    2.270911            5.768118              1.4399174         \n",
       "...   ...                 ...                   ...               \n",
       "73018 1.3354828           4.151096              3.18229857        \n",
       "73019 1.4033881           4.157395              4.51426635        \n",
       "73020 1.3230166           4.158971              4.42602632        \n",
       "73021 1.2452675           4.129961              1.74193545        \n",
       "73022 1.2322768           4.111264              3.23558101        \n",
       "73023 1.1128507           4.102169              3.50581029        \n",
       "73024 0.7695603           4.131840              2.94280174        \n",
       "73025 0.7647474           4.132014              1.86538722        \n",
       "73026 0.8128753           4.150075              1.75802765        \n",
       "73027 0.8142091           4.160881              1.09835226        \n",
       "73028 0.7913724           4.154942              0.92885394        \n",
       "73029 0.7411571           4.119487              0.69074545        \n",
       "73030 1.1069643           4.120481              0.67916902        \n",
       "73031 1.0923969           4.161526              0.78798468        \n",
       "73032 1.0716038           4.166785              1.25337413        \n",
       "73033 1.0215308           4.172903              0.26421513        \n",
       "73034 1.0627453           4.175672              1.28061862        \n",
       "73035 1.0510242           4.182314              0.69002426        \n",
       "73036 1.0425857           4.175091              1.92155584        \n",
       "73037 0.9568561           4.161863              0.26769145        \n",
       "73038 0.9435358           4.156212              0.08449941        \n",
       "73039 0.9021498           4.155986              0.00000000        \n",
       "73040 0.9270076           4.168958              0.13994278        \n",
       "73041 0.9374376           4.134552              0.24678731        \n",
       "73042 0.9052816           4.120597              0.01349959        \n",
       "73043 0.9441441           4.129469              0.17549774        \n",
       "73044 0.9616674           4.109316              2.18863995        \n",
       "73045 0.9423184           4.110113              0.00000000        \n",
       "73046 1.0599644           3.884713              0.36110111        \n",
       "73047 1.0386286           3.762038              0.00000000        \n",
       "      log_antropic_upstream_km2 log_antropic_downstream_km2\n",
       "1     0                         0                          \n",
       "2     0                         0                          \n",
       "3     0                         0                          \n",
       "4     0                         0                          \n",
       "5     0                         0                          \n",
       "6     0                         0                          \n",
       "7     0                         0                          \n",
       "8     0                         0                          \n",
       "9     0                         0                          \n",
       "10    0                         0                          \n",
       "11    0                         0                          \n",
       "12    0                         0                          \n",
       "13    0                         0                          \n",
       "14    0                         0                          \n",
       "15    0                         0                          \n",
       "16    0                         0                          \n",
       "17    0                         0                          \n",
       "18    0                         0                          \n",
       "19    0                         0                          \n",
       "20    0                         0                          \n",
       "21    0                         0                          \n",
       "22    0                         0                          \n",
       "23    0                         0                          \n",
       "24    0                         0                          \n",
       "25    0                         0                          \n",
       "26    0                         0                          \n",
       "27    0                         0                          \n",
       "28    0                         0                          \n",
       "29    0                         0                          \n",
       "30    0                         0                          \n",
       "...   ...                       ...                        \n",
       "73018 0                         8.021121                   \n",
       "73019 0                         8.040647                   \n",
       "73020 0                         8.088373                   \n",
       "73021 0                         8.152393                   \n",
       "73022 0                         8.190202                   \n",
       "73023 0                         8.223381                   \n",
       "73024 0                         8.241607                   \n",
       "73025 0                         8.261035                   \n",
       "73026 0                         8.301866                   \n",
       "73027 0                         8.312095                   \n",
       "73028 0                         8.302063                   \n",
       "73029 0                         8.283048                   \n",
       "73030 0                         8.286042                   \n",
       "73031 0                         8.297172                   \n",
       "73032 0                         8.308079                   \n",
       "73033 0                         8.320582                   \n",
       "73034 0                         8.326467                   \n",
       "73035 0                         8.353756                   \n",
       "73036 0                         8.365638                   \n",
       "73037 0                         8.363916                   \n",
       "73038 0                         8.357605                   \n",
       "73039 0                         8.343182                   \n",
       "73040 0                         8.335815                   \n",
       "73041 0                         8.330548                   \n",
       "73042 0                         8.318227                   \n",
       "73043 0                         8.313583                   \n",
       "73044 0                         8.317425                   \n",
       "73045 0                         8.319925                   \n",
       "73046 0                         8.365219                   \n",
       "73047 0                         8.402184                   \n",
       "      log_upstream_rainfall\n",
       "1     0                    \n",
       "2     0                    \n",
       "3     0                    \n",
       "4     0                    \n",
       "5     0                    \n",
       "6     0                    \n",
       "7     0                    \n",
       "8     0                    \n",
       "9     0                    \n",
       "10    0                    \n",
       "11    0                    \n",
       "12    0                    \n",
       "13    0                    \n",
       "14    0                    \n",
       "15    0                    \n",
       "16    0                    \n",
       "17    0                    \n",
       "18    0                    \n",
       "19    0                    \n",
       "20    0                    \n",
       "21    0                    \n",
       "22    0                    \n",
       "23    0                    \n",
       "24    0                    \n",
       "25    0                    \n",
       "26    0                    \n",
       "27    0                    \n",
       "28    0                    \n",
       "29    0                    \n",
       "30    0                    \n",
       "...   ...                  \n",
       "73018 0                    \n",
       "73019 0                    \n",
       "73020 0                    \n",
       "73021 0                    \n",
       "73022 0                    \n",
       "73023 0                    \n",
       "73024 0                    \n",
       "73025 0                    \n",
       "73026 0                    \n",
       "73027 0                    \n",
       "73028 0                    \n",
       "73029 0                    \n",
       "73030 0                    \n",
       "73031 0                    \n",
       "73032 0                    \n",
       "73033 0                    \n",
       "73034 0                    \n",
       "73035 0                    \n",
       "73036 0                    \n",
       "73037 0                    \n",
       "73038 0                    \n",
       "73039 0                    \n",
       "73040 0                    \n",
       "73041 0                    \n",
       "73042 0                    \n",
       "73043 0                    \n",
       "73044 0                    \n",
       "73045 0                    \n",
       "73046 0                    \n",
       "73047 0                    "
      ]
     },
     "metadata": {},
     "output_type": "display_data"
    }
   ],
   "source": [
    "panel_path <- \"output/data/panel_group.csv\" #Path to the panel data\n",
    "panel_group.R <- read_csv(panel_path)\n",
    "panel_group <- panel_group.R %>% tibble()\n",
    "panel_group <- panel_group %>% mutate(\n",
    "    log_water_basin_km2 = asinh(water_basin_km2),\n",
    "    log_wetland_basin_km2 = asinh(wetland_basin_km2),\n",
    "    log_fire_basin_km2 = asinh(fire_basin_km2),\n",
    "    log_antropic_upstream_km2 = asinh(antropic_upstream_km2), \n",
    "    log_antropic_downstream_km2 = asinh(antropic_downstream_km2),\n",
    "    log_upstream_rainfall = asinh(upstream_rainfall)\n",
    "    )\n",
    "panel_group <- data.frame(panel_group)\n",
    "panel_group"
   ]
  },
  {
   "cell_type": "code",
   "execution_count": 297,
   "metadata": {
    "vscode": {
     "languageId": "r"
    }
   },
   "outputs": [
    {
     "name": "stderr",
     "output_type": "stream",
     "text": [
      "distinct: removed 73,042 rows (>99%), 5 rows remaining\n"
     ]
    },
    {
     "data": {
      "text/html": [
       "<style>\n",
       ".list-inline {list-style: none; margin:0; padding: 0}\n",
       ".list-inline>li {display: inline-block}\n",
       ".list-inline>li:not(:last-child)::after {content: \"\\00b7\"; padding: 0 .5ex}\n",
       "</style>\n",
       "<ol class=list-inline><li>'G1'</li><li>'G2'</li><li>'G3'</li><li>'G4'</li><li>'G5'</li></ol>\n"
      ],
      "text/latex": [
       "\\begin{enumerate*}\n",
       "\\item 'G1'\n",
       "\\item 'G2'\n",
       "\\item 'G3'\n",
       "\\item 'G4'\n",
       "\\item 'G5'\n",
       "\\end{enumerate*}\n"
      ],
      "text/markdown": [
       "1. 'G1'\n",
       "2. 'G2'\n",
       "3. 'G3'\n",
       "4. 'G4'\n",
       "5. 'G5'\n",
       "\n",
       "\n"
      ],
      "text/plain": [
       "[1] \"G1\" \"G2\" \"G3\" \"G4\" \"G5\""
      ]
     },
     "metadata": {},
     "output_type": "display_data"
    }
   ],
   "source": [
    "groups_list <- panel_group %>% distinct(group) %>% pull(group)\n",
    "groups_list"
   ]
  },
  {
   "cell_type": "code",
   "execution_count": 298,
   "metadata": {
    "vscode": {
     "languageId": "r"
    }
   },
   "outputs": [
    {
     "name": "stderr",
     "output_type": "stream",
     "text": [
      "distinct: removed 73,042 rows (>99%), 5 rows remaining\n"
     ]
    }
   ],
   "source": [
    "# Create multiple subsets with datasets for each group\n",
    "groups_list <- panel_group %>% distinct(group) %>% pull(group)\n",
    "for (group in groups_list) {\n",
    "    subset_group <- panel_group[panel_group$group == group, ]\n",
    "    dataset_name <- paste0(\"panel_\", group)\n",
    "    assign(dataset_name, subset_group)\n",
    "}"
   ]
  },
  {
   "cell_type": "code",
   "execution_count": 299,
   "metadata": {
    "vscode": {
     "languageId": "r"
    }
   },
   "outputs": [
    {
     "data": {
      "text/html": [
       "<style>\n",
       ".list-inline {list-style: none; margin:0; padding: 0}\n",
       ".list-inline>li {display: inline-block}\n",
       ".list-inline>li:not(:last-child)::after {content: \"\\00b7\"; padding: 0 .5ex}\n",
       "</style>\n",
       "<ol class=list-inline><li>'G1'</li><li>'G2'</li><li>'G3'</li><li>'G4'</li><li>'G5'</li></ol>\n"
      ],
      "text/latex": [
       "\\begin{enumerate*}\n",
       "\\item 'G1'\n",
       "\\item 'G2'\n",
       "\\item 'G3'\n",
       "\\item 'G4'\n",
       "\\item 'G5'\n",
       "\\end{enumerate*}\n"
      ],
      "text/markdown": [
       "1. 'G1'\n",
       "2. 'G2'\n",
       "3. 'G3'\n",
       "4. 'G4'\n",
       "5. 'G5'\n",
       "\n",
       "\n"
      ],
      "text/plain": [
       "[1] \"G1\" \"G2\" \"G3\" \"G4\" \"G5\""
      ]
     },
     "metadata": {},
     "output_type": "display_data"
    }
   ],
   "source": [
    "groups_list"
   ]
  },
  {
   "cell_type": "code",
   "execution_count": 300,
   "metadata": {
    "vscode": {
     "languageId": "r"
    }
   },
   "outputs": [],
   "source": [
    "# Initialize lists to store models and vcov matrices\n",
    "models <- list()\n",
    "vcov_list <- list()\n",
    "\n",
    "# Loop through each number in list_level3\n",
    "for (i in seq_along(groups_list)) {\n",
    "    # Construct the dataset name\n",
    "    dataset_name <- paste0(\"panel_\", groups_list[i])\n",
    "    \n",
    "    # Get the dataset\n",
    "    data <- get(dataset_name)\n",
    "    \n",
    "    # Estimate the model\n",
    "    models[[i]] <- plm(\n",
    "        formula = regressors[[1]], data = data, \n",
    "        index = c(\"wts_cd_pfafstetterbasin\", \"year\"), model = \"fd\"\n",
    "    )\n",
    "    \n",
    "    # Estimate the vcov matrix\n",
    "    vcov_list[[i]] <- plm::vcovHC(\n",
    "        models[[i]], method = \"arellano\", type = \"HC1\",\n",
    "        cluster = \"group\", group = data$level5\n",
    "    )\n",
    "}"
   ]
  },
  {
   "cell_type": "code",
   "execution_count": 301,
   "metadata": {
    "vscode": {
     "languageId": "r"
    }
   },
   "outputs": [
    {
     "name": "stdout",
     "output_type": "stream",
     "text": [
      "\n",
      "% Table created by stargazer v.5.2.3 by Marek Hlavac, Social Policy Institute. E-mail: marek.hlavac at gmail.com\n",
      "% Date and time: Wed, Feb 05, 2025 - 11:50:54\n",
      "% Requires LaTeX packages: dcolumn \n",
      "\\begin{table}[!htbp] \\centering \n",
      "  \\caption{} \n",
      "  \\label{} \n",
      "\\begin{tabular}{@{\\extracolsep{5pt}}lD{.}{.}{-3} D{.}{.}{-3} D{.}{.}{-3} D{.}{.}{-3} D{.}{.}{-3} } \n",
      "\\\\[-1.8ex]\\hline \n",
      "\\hline \\\\[-1.8ex] \n",
      " & \\multicolumn{1}{c}{Group 1} & \\multicolumn{1}{c}{Group 2} & \\multicolumn{1}{c}{Group 3} & \\multicolumn{1}{c}{Group 4} & \\multicolumn{1}{c}{Group 5} \\\\ \n",
      "\\\\[-1.8ex] & \\multicolumn{1}{c}{(1)} & \\multicolumn{1}{c}{(2)} & \\multicolumn{1}{c}{(3)} & \\multicolumn{1}{c}{(4)} & \\multicolumn{1}{c}{(5)}\\\\ \n",
      "\\hline \\\\[-1.8ex] \n",
      " (Intercept) & -0.005^{*} & -0.039^{***} & -0.035^{***} & -0.013^{***} & -0.016^{***} \\\\ \n",
      "  & (0.003) & (0.004) & (0.003) & (0.001) & (0.002) \\\\ \n",
      "  log(Anthropic Upstream) & -0.486 & -1.103^{***} & -0.230^{*} & -0.073 & -0.164 \\\\ \n",
      "  & (0.370) & (0.202) & (0.121) & (0.064) & (0.124) \\\\ \n",
      " \\hline \\\\[-1.8ex] \n",
      "Cluster & Level 5 & Level 5 & Level 5 & Level 5 & Level 5 \\\\ \n",
      "Entity FE & Yes & Yes & Yes & Yes & Yes \\\\ \n",
      "Year Dummy & Yes & Yes & Yes & Yes & Yes \\\\ \n",
      "Observations & \\multicolumn{1}{c}{3,344} & \\multicolumn{1}{c}{9,804} & \\multicolumn{1}{c}{6,042} & \\multicolumn{1}{c}{27,132} & \\multicolumn{1}{c}{24,852} \\\\ \n",
      "Adjusted R$^{2}$ & \\multicolumn{1}{c}{0.080} & \\multicolumn{1}{c}{0.313} & \\multicolumn{1}{c}{0.260} & \\multicolumn{1}{c}{0.081} & \\multicolumn{1}{c}{0.106} \\\\ \n",
      "\\hline \n",
      "\\hline \\\\[-1.8ex] \n",
      "\\textit{Note:}  & \\multicolumn{5}{r}{$^{*}$p$<$0.1; $^{**}$p$<$0.05; $^{***}$p$<$0.01} \\\\ \n",
      " & \\multicolumn{5}{r}{Standard errors are shown in parentheses.} \\\\ \n",
      "\\end{tabular} \n",
      "\\end{table} \n"
     ]
    }
   ],
   "source": [
    "# Years to omit\n",
    "years <- 1986:2023\n",
    "years_to_omit <- paste0(\"factor\\\\(year\\\\)\", years)\n",
    "\n",
    "# Check standard errors\n",
    "se_list <- lapply(vcov_list[1:5], function(x) sqrt(diag(x)))\n",
    "\n",
    "# Simplified stargazer call\n",
    "table <- stargazer(\n",
    "    models[[1]], models[[2]], models[[3]], models[[4]], models[[5]], \n",
    "    type = \"latex\",\n",
    "    se = se_list,\n",
    "    align = TRUE,\n",
    "    digits = 3,\n",
    "    no.space = TRUE,\n",
    "    dep.var.labels.include = FALSE,\n",
    "    dep.var.caption = \"\",\n",
    "    omit.stat = c(\"f\", \"ser\", \"rsq\"),\n",
    "    multicolumn = TRUE,\n",
    "    column.labels = c('Group 1','Group 2','Group 3','Group 4','Group 5'),\n",
    "    covariate.labels = c(\"(Intercept)\", \"log(Anthropic Upstream)\"),\n",
    "    intercept.bottom = FALSE,\n",
    "    add.lines = list(\n",
    "        c(\"Cluster\", \"Level 5\", \"Level 5\", \"Level 5\", \"Level 5\", \"Level 5\"), # Indicate clustering\n",
    "        c(\"Entity FE\", \"Yes\", \"Yes\", \"Yes\", \"Yes\", \"Yes\"), # Add fixed effects line\n",
    "        c('Year Dummy', \"Yes\", \"Yes\", \"Yes\", \"Yes\", \"Yes\")\n",
    "    ),\n",
    "    flip = TRUE,\n",
    "    omit = years_to_omit, # Specify the rows to omit based on coefficient names\n",
    "    notes = \"Standard errors are shown in parentheses.\",\n",
    "    out = \"output_table.tex\"\n",
    ")"
   ]
  },
  {
   "cell_type": "code",
   "execution_count": 302,
   "metadata": {
    "vscode": {
     "languageId": "r"
    }
   },
   "outputs": [],
   "source": [
    "# Initialize lists to store models and vcov matrices\n",
    "models <- list()\n",
    "vcov_list <- list()\n",
    "\n",
    "# Loop through each number in list_level3\n",
    "for (i in seq_along(groups_list)) {\n",
    "    # Construct the dataset name\n",
    "    dataset_name <- paste0(\"panel_\", groups_list[i])\n",
    "    \n",
    "    # Get the dataset\n",
    "    data <- get(dataset_name)\n",
    "    \n",
    "    # Estimate the model\n",
    "    models[[i]] <- plm(\n",
    "        formula = regressors[[2]], data = data, \n",
    "        index = c(\"wts_cd_pfafstetterbasin\", \"year\"), model = \"fd\"\n",
    "    )\n",
    "    \n",
    "    # Estimate the vcov matrix\n",
    "    vcov_list[[i]] <- plm::vcovHC(\n",
    "        models[[i]], method = \"arellano\", type = \"HC1\",\n",
    "        cluster = \"group\", group = data$level5\n",
    "    )\n",
    "}"
   ]
  },
  {
   "cell_type": "code",
   "execution_count": 303,
   "metadata": {
    "vscode": {
     "languageId": "r"
    }
   },
   "outputs": [
    {
     "name": "stdout",
     "output_type": "stream",
     "text": [
      "\n",
      "% Table created by stargazer v.5.2.3 by Marek Hlavac, Social Policy Institute. E-mail: marek.hlavac at gmail.com\n",
      "% Date and time: Wed, Feb 05, 2025 - 11:50:56\n",
      "% Requires LaTeX packages: dcolumn \n",
      "\\begin{table}[!htbp] \\centering \n",
      "  \\caption{} \n",
      "  \\label{} \n",
      "\\begin{tabular}{@{\\extracolsep{5pt}}lD{.}{.}{-3} D{.}{.}{-3} D{.}{.}{-3} D{.}{.}{-3} D{.}{.}{-3} } \n",
      "\\\\[-1.8ex]\\hline \n",
      "\\hline \\\\[-1.8ex] \n",
      " & \\multicolumn{1}{c}{Group 1} & \\multicolumn{1}{c}{Group 2} & \\multicolumn{1}{c}{Group 3} & \\multicolumn{1}{c}{Group 4} & \\multicolumn{1}{c}{Group 5} \\\\ \n",
      "\\\\[-1.8ex] & \\multicolumn{1}{c}{(1)} & \\multicolumn{1}{c}{(2)} & \\multicolumn{1}{c}{(3)} & \\multicolumn{1}{c}{(4)} & \\multicolumn{1}{c}{(5)}\\\\ \n",
      "\\hline \\\\[-1.8ex] \n",
      " (Intercept) & -0.050^{***} & -0.018^{***} & -0.050^{***} & -0.031^{***} & -0.037^{***} \\\\ \n",
      "  & (0.006) & (0.003) & (0.005) & (0.002) & (0.002) \\\\ \n",
      "  log(Anthropic Upstream) & -0.399 & 0.868^{***} & 0.311 & 0.339^{***} & 0.664^{***} \\\\ \n",
      "  & (1.188) & (0.248) & (0.227) & (0.078) & (0.152) \\\\ \n",
      " \\hline \\\\[-1.8ex] \n",
      "Cluster & Level 5 & Level 5 & Level 5 & Level 5 & Level 5 \\\\ \n",
      "Entity FE & Yes & Yes & Yes & Yes & Yes \\\\ \n",
      "Year Dummy & Yes & Yes & Yes & Yes & Yes \\\\ \n",
      "Observations & \\multicolumn{1}{c}{3,344} & \\multicolumn{1}{c}{9,804} & \\multicolumn{1}{c}{6,042} & \\multicolumn{1}{c}{27,132} & \\multicolumn{1}{c}{24,852} \\\\ \n",
      "Adjusted R$^{2}$ & \\multicolumn{1}{c}{0.320} & \\multicolumn{1}{c}{0.272} & \\multicolumn{1}{c}{0.182} & \\multicolumn{1}{c}{0.194} & \\multicolumn{1}{c}{0.139} \\\\ \n",
      "\\hline \n",
      "\\hline \\\\[-1.8ex] \n",
      "\\textit{Note:}  & \\multicolumn{5}{r}{$^{*}$p$<$0.1; $^{**}$p$<$0.05; $^{***}$p$<$0.01} \\\\ \n",
      " & \\multicolumn{5}{r}{Standard errors are shown in parentheses.} \\\\ \n",
      "\\end{tabular} \n",
      "\\end{table} \n"
     ]
    }
   ],
   "source": [
    "# Years to omit\n",
    "years <- 1986:2023\n",
    "years_to_omit <- paste0(\"factor\\\\(year\\\\)\", years)\n",
    "\n",
    "# Check standard errors\n",
    "se_list <- lapply(vcov_list[1:5], function(x) sqrt(diag(x)))\n",
    "\n",
    "# Simplified stargazer call\n",
    "table <- stargazer(\n",
    "    models[[1]], models[[2]], models[[3]], models[[4]], models[[5]], \n",
    "    type = \"latex\",\n",
    "    se = se_list,\n",
    "    align = TRUE,\n",
    "    digits = 3,\n",
    "    no.space = TRUE,\n",
    "    dep.var.labels.include = FALSE,\n",
    "    dep.var.caption = \"\",\n",
    "    omit.stat = c(\"f\", \"ser\", \"rsq\"),\n",
    "    multicolumn = TRUE,\n",
    "    column.labels = c('Group 1','Group 2','Group 3','Group 4','Group 5'),\n",
    "    covariate.labels = c(\"(Intercept)\", \"log(Anthropic Upstream)\"),\n",
    "    intercept.bottom = FALSE,\n",
    "    add.lines = list(\n",
    "        c(\"Cluster\", \"Level 5\", \"Level 5\", \"Level 5\", \"Level 5\", \"Level 5\"), # Indicate clustering\n",
    "        c(\"Entity FE\", \"Yes\", \"Yes\", \"Yes\", \"Yes\", \"Yes\"), # Add fixed effects line\n",
    "        c('Year Dummy', \"Yes\", \"Yes\", \"Yes\", \"Yes\", \"Yes\")\n",
    "    ),\n",
    "    flip = TRUE,\n",
    "    omit = years_to_omit, # Specify the rows to omit based on coefficient names\n",
    "    notes = \"Standard errors are shown in parentheses.\",\n",
    "    out = \"output_table.tex\"\n",
    ")"
   ]
  }
 ],
 "metadata": {
  "kernelspec": {
   "display_name": "R",
   "language": "R",
   "name": "ir"
  },
  "language_info": {
   "codemirror_mode": "r",
   "file_extension": ".r",
   "mimetype": "text/x-r-source",
   "name": "R",
   "pygments_lexer": "r",
   "version": "4.4.0"
  }
 },
 "nbformat": 4,
 "nbformat_minor": 2
}
